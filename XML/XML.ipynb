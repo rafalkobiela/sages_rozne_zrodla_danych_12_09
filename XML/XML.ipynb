{
 "cells": [
  {
   "cell_type": "code",
   "execution_count": 1,
   "metadata": {},
   "outputs": [],
   "source": [
    "# https://www.w3schools.com/xml/xpath_syntax.asp\n",
    "# https://www.w3schools.com/xml/xpath_examples.asp"
   ]
  },
  {
   "cell_type": "markdown",
   "metadata": {},
   "source": [
    "Prośba o zainstalowanie pakietu `lxml`"
   ]
  },
  {
   "cell_type": "markdown",
   "metadata": {},
   "source": [
    "`pip install lxml`"
   ]
  },
  {
   "cell_type": "code",
   "execution_count": 2,
   "metadata": {},
   "outputs": [
    {
     "data": {
      "text/plain": [
       "<lxml.etree._ElementTree at 0x7f698c545b80>"
      ]
     },
     "execution_count": 2,
     "metadata": {},
     "output_type": "execute_result"
    }
   ],
   "source": [
    "from lxml import etree\n",
    "tree = etree.parse(\"siecKsiegarni.xml\")\n",
    "tree"
   ]
  },
  {
   "cell_type": "code",
   "execution_count": 9,
   "metadata": {},
   "outputs": [
    {
     "name": "stdout",
     "output_type": "stream",
     "text": [
      "b'<Siec nazwa=\"CiekaweKsiazki\">\\n\\n\\t<Ksiegarnia adres=\"Aleje Jerozolimskie\">\\n\\t<Wlasciciel imie=\"Maja\" nazwisko=\"Kowalska\"/>\\n\\t<Ksiazka gatunek=\"Fantasy\" autor=\"Brent Weeks\" liczba=\"3\">\\n\\tOkaleczone oko\\n\\t</Ksiazka>\\n\\t<Ksiazka gatunek=\"Fantasy\" autor=\"Brent Weeks\" liczba=\"1\">\\n\\tO&#347;lepiaj&#261;cy n&#243;&#380;\\n\\t</Ksiazka>\\n\\t<Ksiazka gatunek=\"Fantasy\" autor=\"Brent Weeks\" liczba=\"2\">\\n\\tCzarny Pryzmat\\n\\t</Ksiazka>\\n\\t<Ksiazka gatunek=\"Fantasy\" autor=\"Brent Weeks\" liczba=\"5\">\\n\\tKrwawe Zwierciad&#322;o\\n\\t</Ksiazka>\\n\\t</Ksiegarnia>\\n\\n\\t<Ksiegarnia adres=\"3 Maja\">\\n\\t<Wlasciciel imie=\"Matylda\" nazwisko=\"Jankowska\"/>\\n\\t<Ksiazka gatunek=\"Fantasy\" autor=\"Brent Weeks\" liczba=\"1\">\\n\\tCzarny Pryzmat\\n\\t</Ksiazka>\\n\\t<Ksiazka gatunek=\"Fantasy\" autor=\"Brent Weeks\" liczba=\"2\">\\n\\tKrwawe Zwierciad&#322;o\\n\\t</Ksiazka>\\n\\t<Ksiazka gatunek=\"Klasyka\" autor=\"Jane Austen\" liczba=\"3\">\\n\\tDuma i uprzedzenie\\n\\t</Ksiazka>\\n\\t</Ksiegarnia>\\n\\n\\t<Ksiegarnia adres=\"Marywilska\">\\n\\t<Wlasciciel imie=\"Jan\" nazwisko=\"Nowak\"/>\\n\\t<Ksiazka gatunek=\"Fantasy\" autor=\"Brent Weeks\">\\n\\tOkaleczone oko\\n\\t</Ksiazka>\\n\\t<Ksiazka gatunek=\"Fantasy\" autor=\"Brent Weeks\">\\n\\tO&#347;lepiaj&#261;cy n&#243;&#380;\\n\\t</Ksiazka>\\n\\t<Ksiazka gatunek=\"Klasyka\" autor=\"Jane Austen\">\\n\\tDuma i uprzedzenie\\n\\t</Ksiazka>\\n\\t</Ksiegarnia>\\n\\n</Siec>\\n'\n"
     ]
    }
   ],
   "source": [
    "print(etree.tostring(tree, pretty_print=True))"
   ]
  },
  {
   "cell_type": "code",
   "execution_count": 10,
   "metadata": {},
   "outputs": [],
   "source": [
    "some_xml = \"<Siec nazwa='abc'></Siec>\""
   ]
  },
  {
   "cell_type": "code",
   "execution_count": 12,
   "metadata": {},
   "outputs": [
    {
     "data": {
      "text/plain": [
       "<Element Siec at 0x7f697dbda740>"
      ]
     },
     "execution_count": 12,
     "metadata": {},
     "output_type": "execute_result"
    }
   ],
   "source": [
    "siec = etree.fromstring(some_xml)\n",
    "siec"
   ]
  },
  {
   "cell_type": "code",
   "execution_count": 15,
   "metadata": {},
   "outputs": [
    {
     "data": {
      "text/plain": [
       "<Element Siec at 0x7f698c5d8d00>"
      ]
     },
     "execution_count": 15,
     "metadata": {},
     "output_type": "execute_result"
    }
   ],
   "source": [
    "siec = tree.getroot()\n",
    "siec"
   ]
  },
  {
   "cell_type": "markdown",
   "metadata": {},
   "source": [
    "# Co możemy zrobić ze znacznikiem w \"ręku\""
   ]
  },
  {
   "cell_type": "code",
   "execution_count": 17,
   "metadata": {},
   "outputs": [
    {
     "data": {
      "text/plain": [
       "'Siec'"
      ]
     },
     "execution_count": 17,
     "metadata": {},
     "output_type": "execute_result"
    }
   ],
   "source": [
    "siec.tag # nazwa znacznika"
   ]
  },
  {
   "cell_type": "code",
   "execution_count": 19,
   "metadata": {},
   "outputs": [
    {
     "data": {
      "text/plain": [
       "['nazwa']"
      ]
     },
     "execution_count": 19,
     "metadata": {},
     "output_type": "execute_result"
    }
   ],
   "source": [
    "siec.keys() # nazwy atrybutów"
   ]
  },
  {
   "cell_type": "code",
   "execution_count": 20,
   "metadata": {},
   "outputs": [
    {
     "data": {
      "text/plain": [
       "'CiekaweKsiazki'"
      ]
     },
     "execution_count": 20,
     "metadata": {},
     "output_type": "execute_result"
    }
   ],
   "source": [
    "siec.get(\"nazwa\")"
   ]
  },
  {
   "cell_type": "code",
   "execution_count": 33,
   "metadata": {},
   "outputs": [
    {
     "data": {
      "text/plain": [
       "<Element Ksiazka at 0x7f697dbe2a80>"
      ]
     },
     "execution_count": 33,
     "metadata": {},
     "output_type": "execute_result"
    }
   ],
   "source": [
    "ksiazka = siec[0][1]\n",
    "ksiazka"
   ]
  },
  {
   "cell_type": "code",
   "execution_count": 31,
   "metadata": {},
   "outputs": [
    {
     "data": {
      "text/plain": [
       "[<Element Ksiazka at 0x7f697dbe2a80>,\n",
       " <Element Ksiazka at 0x7f697dc3d5c0>,\n",
       " <Element Ksiazka at 0x7f697dbc6500>,\n",
       " <Element Ksiazka at 0x7f697db9b080>]"
      ]
     },
     "execution_count": 31,
     "metadata": {},
     "output_type": "execute_result"
    }
   ],
   "source": [
    "ksiazki = siec[0][1:]\n",
    "ksiazki"
   ]
  },
  {
   "cell_type": "code",
   "execution_count": 35,
   "metadata": {},
   "outputs": [
    {
     "name": "stdout",
     "output_type": "stream",
     "text": [
      "\n",
      "\tOkaleczone oko\n",
      "\t\n"
     ]
    }
   ],
   "source": [
    "print(ksiazka.text)"
   ]
  },
  {
   "cell_type": "code",
   "execution_count": 36,
   "metadata": {},
   "outputs": [
    {
     "data": {
      "text/plain": [
       "'\\n\\tOkaleczone oko\\n\\t'"
      ]
     },
     "execution_count": 36,
     "metadata": {},
     "output_type": "execute_result"
    }
   ],
   "source": [
    "ksiazka.text"
   ]
  },
  {
   "cell_type": "code",
   "execution_count": 37,
   "metadata": {},
   "outputs": [
    {
     "data": {
      "text/plain": [
       "'Okaleczone oko'"
      ]
     },
     "execution_count": 37,
     "metadata": {},
     "output_type": "execute_result"
    }
   ],
   "source": [
    "ksiazka.text.strip()"
   ]
  },
  {
   "cell_type": "code",
   "execution_count": 43,
   "metadata": {},
   "outputs": [
    {
     "data": {
      "text/plain": [
       "<Element Siec at 0x7f698c5d8d00>"
      ]
     },
     "execution_count": 43,
     "metadata": {},
     "output_type": "execute_result"
    }
   ],
   "source": [
    "ksiazka.getparent().getparent()"
   ]
  },
  {
   "cell_type": "markdown",
   "metadata": {},
   "source": [
    "# XPath"
   ]
  },
  {
   "cell_type": "markdown",
   "metadata": {},
   "source": [
    "### Ścieżka bezwzględna (wszystko jedno z którego miejsca zaczynamy) - poznajmey po `/` na początku "
   ]
  },
  {
   "cell_type": "code",
   "execution_count": 45,
   "metadata": {},
   "outputs": [
    {
     "data": {
      "text/plain": [
       "[<Element Ksiegarnia at 0x7f697db8b180>,\n",
       " <Element Ksiegarnia at 0x7f697db43c40>,\n",
       " <Element Ksiegarnia at 0x7f697dd88d40>]"
      ]
     },
     "execution_count": 45,
     "metadata": {},
     "output_type": "execute_result"
    }
   ],
   "source": [
    "siec.xpath(\"/Siec/*\")"
   ]
  },
  {
   "cell_type": "code",
   "execution_count": 49,
   "metadata": {},
   "outputs": [
    {
     "name": "stdout",
     "output_type": "stream",
     "text": [
      "Aleje Jerozolimskie\n",
      "3 Maja\n",
      "Marywilska\n"
     ]
    }
   ],
   "source": [
    "for element in siec.xpath(\"/Siec/*\"):\n",
    "    print(element.get(\"adres\"))"
   ]
  },
  {
   "cell_type": "code",
   "execution_count": 50,
   "metadata": {},
   "outputs": [
    {
     "data": {
      "text/plain": [
       "[<Element Wlasciciel at 0x7f697dc42140>,\n",
       " <Element Ksiazka at 0x7f697dbe2a80>,\n",
       " <Element Ksiazka at 0x7f697dc3d5c0>,\n",
       " <Element Ksiazka at 0x7f697dbc6500>,\n",
       " <Element Ksiazka at 0x7f697db9b080>,\n",
       " <Element Wlasciciel at 0x7f697dbf4c00>,\n",
       " <Element Ksiazka at 0x7f697dbf4e40>,\n",
       " <Element Ksiazka at 0x7f697dbf4680>,\n",
       " <Element Ksiazka at 0x7f697dbf4700>,\n",
       " <Element Wlasciciel at 0x7f697dbf4180>,\n",
       " <Element Ksiazka at 0x7f697dbf41c0>,\n",
       " <Element Ksiazka at 0x7f697da6a8c0>,\n",
       " <Element Ksiazka at 0x7f697da6a4c0>]"
      ]
     },
     "execution_count": 50,
     "metadata": {},
     "output_type": "execute_result"
    }
   ],
   "source": [
    "siec.xpath(\"/Siec/*/*\")"
   ]
  },
  {
   "cell_type": "code",
   "execution_count": 53,
   "metadata": {},
   "outputs": [
    {
     "data": {
      "text/plain": [
       "['\\n\\tOkaleczone oko\\n\\t',\n",
       " '\\n\\tOślepiający nóż\\n\\t',\n",
       " '\\n\\tCzarny Pryzmat\\n\\t',\n",
       " '\\n\\tKrwawe Zwierciadło\\n\\t',\n",
       " '\\n\\tCzarny Pryzmat\\n\\t',\n",
       " '\\n\\tKrwawe Zwierciadło\\n\\t',\n",
       " '\\n\\tDuma i uprzedzenie\\n\\t',\n",
       " '\\n\\tOkaleczone oko\\n\\t',\n",
       " '\\n\\tOślepiający nóż\\n\\t',\n",
       " '\\n\\tDuma i uprzedzenie\\n\\t']"
      ]
     },
     "execution_count": 53,
     "metadata": {},
     "output_type": "execute_result"
    }
   ],
   "source": [
    "siec.xpath(\"/Siec/Ksiegarnia/Ksiazka/text()\")"
   ]
  },
  {
   "cell_type": "code",
   "execution_count": 54,
   "metadata": {},
   "outputs": [
    {
     "data": {
      "text/plain": [
       "['Brent Weeks',\n",
       " 'Brent Weeks',\n",
       " 'Brent Weeks',\n",
       " 'Brent Weeks',\n",
       " 'Brent Weeks',\n",
       " 'Brent Weeks',\n",
       " 'Jane Austen',\n",
       " 'Brent Weeks',\n",
       " 'Brent Weeks',\n",
       " 'Jane Austen']"
      ]
     },
     "execution_count": 54,
     "metadata": {},
     "output_type": "execute_result"
    }
   ],
   "source": [
    "siec.xpath(\"/Siec/Ksiegarnia/Ksiazka/@autor\")"
   ]
  },
  {
   "cell_type": "markdown",
   "metadata": {},
   "source": [
    "### Ścieżka względna (ma znaczenie, na rzecz którego znacznika jest wywoływana) - nie ma `/` na początku"
   ]
  },
  {
   "cell_type": "code",
   "execution_count": 59,
   "metadata": {},
   "outputs": [
    {
     "data": {
      "text/plain": [
       "['Brent Weeks',\n",
       " 'Brent Weeks',\n",
       " 'Brent Weeks',\n",
       " 'Brent Weeks',\n",
       " 'Brent Weeks',\n",
       " 'Brent Weeks',\n",
       " 'Jane Austen',\n",
       " 'Brent Weeks',\n",
       " 'Brent Weeks',\n",
       " 'Jane Austen']"
      ]
     },
     "execution_count": 59,
     "metadata": {},
     "output_type": "execute_result"
    }
   ],
   "source": [
    "siec.xpath(\"Ksiegarnia/Ksiazka/@autor\")"
   ]
  },
  {
   "cell_type": "code",
   "execution_count": 55,
   "metadata": {},
   "outputs": [
    {
     "data": {
      "text/plain": [
       "['Brent Weeks', 'Brent Weeks', 'Jane Austen']"
      ]
     },
     "execution_count": 55,
     "metadata": {},
     "output_type": "execute_result"
    }
   ],
   "source": [
    "ksiegarnia = siec[1]\n",
    "ksiegarnia.xpath(\"Ksiazka/@autor\")"
   ]
  },
  {
   "cell_type": "code",
   "execution_count": 60,
   "metadata": {},
   "outputs": [
    {
     "data": {
      "text/plain": [
       "['3 Maja']"
      ]
     },
     "execution_count": 60,
     "metadata": {},
     "output_type": "execute_result"
    }
   ],
   "source": [
    "ksiegarnia.xpath(\"@adres\")"
   ]
  },
  {
   "cell_type": "markdown",
   "metadata": {},
   "source": [
    "Odwołanie do rodzica:"
   ]
  },
  {
   "cell_type": "code",
   "execution_count": 61,
   "metadata": {},
   "outputs": [
    {
     "data": {
      "text/plain": [
       "[<Element Siec at 0x7f698c5d8d00>]"
      ]
     },
     "execution_count": 61,
     "metadata": {},
     "output_type": "execute_result"
    }
   ],
   "source": [
    "ksiegarnia.xpath(\"..\")"
   ]
  },
  {
   "cell_type": "code",
   "execution_count": 62,
   "metadata": {},
   "outputs": [
    {
     "data": {
      "text/plain": [
       "[<Element Ksiegarnia at 0x7f697db8b180>,\n",
       " <Element Ksiegarnia at 0x7f697db43c40>,\n",
       " <Element Ksiegarnia at 0x7f697dd88d40>]"
      ]
     },
     "execution_count": 62,
     "metadata": {},
     "output_type": "execute_result"
    }
   ],
   "source": [
    "ksiegarnia.xpath(\"../Ksiegarnia\")"
   ]
  },
  {
   "cell_type": "markdown",
   "metadata": {},
   "source": [
    "### Dowolne miejsce w dokumencie (tutaj nie ma znaczenia z jakiego miejsca zaczynamy) - poznajmey po `//`"
   ]
  },
  {
   "cell_type": "code",
   "execution_count": 64,
   "metadata": {},
   "outputs": [
    {
     "data": {
      "text/plain": [
       "[<Element Wlasciciel at 0x7f697dc42140>,\n",
       " <Element Wlasciciel at 0x7f697dbf4c00>,\n",
       " <Element Wlasciciel at 0x7f697dbf4180>]"
      ]
     },
     "execution_count": 64,
     "metadata": {},
     "output_type": "execute_result"
    }
   ],
   "source": [
    "siec.xpath(\"//Wlasciciel\")"
   ]
  },
  {
   "cell_type": "code",
   "execution_count": 65,
   "metadata": {},
   "outputs": [
    {
     "data": {
      "text/plain": [
       "['Maja', 'Matylda', 'Jan']"
      ]
     },
     "execution_count": 65,
     "metadata": {},
     "output_type": "execute_result"
    }
   ],
   "source": [
    "siec.xpath(\"//Wlasciciel/@imie\")"
   ]
  },
  {
   "cell_type": "code",
   "execution_count": null,
   "metadata": {},
   "outputs": [],
   "source": []
  },
  {
   "cell_type": "markdown",
   "metadata": {},
   "source": [
    "# Zadania"
   ]
  },
  {
   "cell_type": "markdown",
   "metadata": {},
   "source": [
    "## a) Wylistuj, pod jakimi adresami znajdują się księgarnie w tej sieci księgarni"
   ]
  },
  {
   "cell_type": "code",
   "execution_count": null,
   "metadata": {},
   "outputs": [],
   "source": []
  },
  {
   "cell_type": "markdown",
   "metadata": {},
   "source": [
    "## b) Jakie są dostępne wszystkie książki w tej sieci księgarni"
   ]
  },
  {
   "cell_type": "code",
   "execution_count": null,
   "metadata": {},
   "outputs": [],
   "source": []
  },
  {
   "cell_type": "markdown",
   "metadata": {},
   "source": [
    "## c) Jakie są dostępne wszystkie książki w tej sieci księgarni, które są z gatunku Fantasy"
   ]
  },
  {
   "cell_type": "code",
   "execution_count": null,
   "metadata": {},
   "outputs": [],
   "source": []
  },
  {
   "cell_type": "markdown",
   "metadata": {},
   "source": [
    "## d) Wylistuj w ładnej formie wszystkie książki w tej sieci księgarni, które są z gatunku Fantasy, wraz z adresami księgarni, gdzie można je nabyć"
   ]
  },
  {
   "cell_type": "code",
   "execution_count": null,
   "metadata": {},
   "outputs": [],
   "source": []
  },
  {
   "cell_type": "markdown",
   "metadata": {},
   "source": [
    "## e) Znajdź adres księgarni, gdzie właścicielem jest Matylda Jankowska"
   ]
  },
  {
   "cell_type": "code",
   "execution_count": null,
   "metadata": {},
   "outputs": [],
   "source": []
  },
  {
   "cell_type": "markdown",
   "metadata": {},
   "source": [
    "## f) Jakie są dostępne wszystkie książki w księgarni przy ulicy 3 Maja, których autorem jest Jane Austen"
   ]
  },
  {
   "cell_type": "code",
   "execution_count": null,
   "metadata": {},
   "outputs": [],
   "source": []
  },
  {
   "cell_type": "markdown",
   "metadata": {},
   "source": [
    "## g) Jakie są książki z atrybutem liczba"
   ]
  },
  {
   "cell_type": "code",
   "execution_count": null,
   "metadata": {},
   "outputs": [],
   "source": []
  },
  {
   "cell_type": "markdown",
   "metadata": {},
   "source": [
    "## h) Książki, których liczba jest większa lub równa 3"
   ]
  },
  {
   "cell_type": "code",
   "execution_count": null,
   "metadata": {},
   "outputs": [],
   "source": []
  }
 ],
 "metadata": {
  "kernelspec": {
   "display_name": "rozne_zrodla_danych",
   "language": "python",
   "name": "rozne_zrodla_danych"
  },
  "language_info": {
   "codemirror_mode": {
    "name": "ipython",
    "version": 3
   },
   "file_extension": ".py",
   "mimetype": "text/x-python",
   "name": "python",
   "nbconvert_exporter": "python",
   "pygments_lexer": "ipython3",
   "version": "3.8.2"
  }
 },
 "nbformat": 4,
 "nbformat_minor": 4
}
