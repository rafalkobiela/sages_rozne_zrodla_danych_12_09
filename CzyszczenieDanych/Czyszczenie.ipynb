{
 "cells": [
  {
   "cell_type": "code",
   "execution_count": 1,
   "metadata": {},
   "outputs": [],
   "source": [
    "import pandas as pd"
   ]
  },
  {
   "cell_type": "markdown",
   "metadata": {},
   "source": [
    "* Wczytać `AiSD2.csv` przez `pd.read_csv()`\n",
    "* Odwołać się do kolumny `Nazwisko` (wyświetlić ją). Czy się udało?"
   ]
  },
  {
   "cell_type": "code",
   "execution_count": null,
   "metadata": {},
   "outputs": [],
   "source": []
  },
  {
   "cell_type": "markdown",
   "metadata": {},
   "source": [
    "# Rozbij kolumny na część labolatoryjną i domową"
   ]
  },
  {
   "cell_type": "code",
   "execution_count": null,
   "metadata": {},
   "outputs": [],
   "source": []
  },
  {
   "cell_type": "markdown",
   "metadata": {},
   "source": [
    "# Zamieniamy nieobecności/plagiaty"
   ]
  },
  {
   "cell_type": "markdown",
   "metadata": {},
   "source": [
    "* NA, NB - nieobecność nieusprawiedliwiona, wstawiamy 0\n",
    "* US, ZW - nieobecność usprawiedliwiona, wstawiamy np.NaN (o co chodzi - o tym za chwilę)\n",
    "* NS.(1.0) - praca niesamodzielna, wstawiamy 0"
   ]
  },
  {
   "cell_type": "markdown",
   "metadata": {},
   "source": [
    "# Wstawiamy punkty za zwolnienia lekarskie"
   ]
  },
  {
   "cell_type": "markdown",
   "metadata": {},
   "source": [
    "* Zamieniamy kolumny na floaty\n",
    "* Dla każdego znalezionego NaN: policz średnią z wiersza (siła studenta), średnią z kolumny (trudność zadania), oblicz średnią z tych dwóch średnich i wstaw (zrobić pętlą, ja potem pokażę w Numpy)"
   ]
  },
  {
   "cell_type": "markdown",
   "metadata": {},
   "source": [
    "### Wstawienie punktów za usprawiedliwione nieobecności (wersja z pętlami)"
   ]
  },
  {
   "cell_type": "code",
   "execution_count": 71,
   "metadata": {},
   "outputs": [],
   "source": [
    "# pętla po wierszach:\n",
    "#    pętla po kolumnach (odpowiednich):\n",
    "#        czy napotkałem nan?\n",
    "#            liczę średnie, średnią z średnich, wstawiam"
   ]
  },
  {
   "cell_type": "markdown",
   "metadata": {},
   "source": [
    "### Wstawienie punktów za usprawiedliwione nieobecności (wersja zwektoryzowana)"
   ]
  },
  {
   "cell_type": "code",
   "execution_count": 75,
   "metadata": {},
   "outputs": [],
   "source": [
    "# policzyć średnie dla każdej kolumny i każdego wiersza (w sposób zwektoryzowany)\n",
    "# znaleźć indeksy, na których są nany (zwektoryzowany)\n",
    "# podstawić pod te indeksy średnie z średnich (indeksowanie listą liczb całkowitych)"
   ]
  },
  {
   "cell_type": "markdown",
   "metadata": {},
   "source": [
    "# Wystawiamy oceny (nareszcie!)"
   ]
  },
  {
   "cell_type": "markdown",
   "metadata": {},
   "source": [
    "* Obliczyć teoretyczną maksymalną sumę punktów, jaką można było uzyskać (przejść po nazwach kolumn, odzyskać maks. punkty, zsumować)\n",
    "* Zsumować punkty studentów (nowa kolumna - Suma)\n",
    "* Obliczyć procent uzyskanych punktów. Przelicznik jest następujący:"
   ]
  },
  {
   "cell_type": "markdown",
   "metadata": {},
   "source": [
    "* [0, 50%) -> 2.0\n",
    "* [50%, 60%) -> 3.0\n",
    "* [60%, 70%) -> 3.5\n",
    "* [70%, 80%) -> 4.0\n",
    "* [80%, 90%) -> 4.5\n",
    "* [90%, 100%] -> 5.0\n"
   ]
  },
  {
   "cell_type": "markdown",
   "metadata": {},
   "source": [
    "Pomocna metoda: https://pandas.pydata.org/pandas-docs/stable/reference/api/pandas.cut.html"
   ]
  }
 ],
 "metadata": {
  "kernelspec": {
   "display_name": "rozne_zrodla_danych",
   "language": "python",
   "name": "rozne_zrodla_danych"
  },
  "language_info": {
   "codemirror_mode": {
    "name": "ipython",
    "version": 3
   },
   "file_extension": ".py",
   "mimetype": "text/x-python",
   "name": "python",
   "nbconvert_exporter": "python",
   "pygments_lexer": "ipython3",
   "version": "3.8.2"
  }
 },
 "nbformat": 4,
 "nbformat_minor": 4
}
