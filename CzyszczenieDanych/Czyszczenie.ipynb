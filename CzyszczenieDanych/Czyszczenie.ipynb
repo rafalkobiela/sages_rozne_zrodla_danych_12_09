{
 "cells": [
  {
   "cell_type": "markdown",
   "metadata": {},
   "source": [
    "pip install pandas\n",
    "\n",
    "!pip install pandas\n"
   ]
  },
  {
   "cell_type": "code",
   "execution_count": 1,
   "metadata": {},
   "outputs": [],
   "source": [
    "import pandas as pd"
   ]
  },
  {
   "cell_type": "markdown",
   "metadata": {},
   "source": [
    "* Wczytać `AiSD2.csv` przez `pd.read_csv()`\n",
    "* Odwołać się do kolumny `Nazwisko` (wyświetlić ją). Czy się udało?"
   ]
  },
  {
   "cell_type": "code",
   "execution_count": 2,
   "metadata": {},
   "outputs": [
    {
     "data": {
      "text/html": [
       "<div>\n",
       "<style scoped>\n",
       "    .dataframe tbody tr th:only-of-type {\n",
       "        vertical-align: middle;\n",
       "    }\n",
       "\n",
       "    .dataframe tbody tr th {\n",
       "        vertical-align: top;\n",
       "    }\n",
       "\n",
       "    .dataframe thead th {\n",
       "        text-align: right;\n",
       "    }\n",
       "</style>\n",
       "<table border=\"1\" class=\"dataframe\">\n",
       "  <thead>\n",
       "    <tr style=\"text-align: right;\">\n",
       "      <th></th>\n",
       "      <th>Imię</th>\n",
       "      <th>Nazwisko</th>\n",
       "      <th>Z1(4+1)</th>\n",
       "      <th>Z2(4+1)</th>\n",
       "      <th>Z3(4+1)</th>\n",
       "      <th>Z4(4+1)</th>\n",
       "      <th>Z5(2+2)</th>\n",
       "      <th>Z6(4+1)</th>\n",
       "      <th>Z7(4+1)</th>\n",
       "      <th>Z8(4+1)</th>\n",
       "      <th>Z9(4+1)</th>\n",
       "      <th>Z10(4+1)</th>\n",
       "      <th>Z11(4+1)</th>\n",
       "      <th>Z12(4+1)</th>\n",
       "      <th>Z13(5)</th>\n",
       "      <th>Z14(4+1)</th>\n",
       "      <th>Z15(5)</th>\n",
       "    </tr>\n",
       "  </thead>\n",
       "  <tbody>\n",
       "    <tr>\n",
       "      <th>0</th>\n",
       "      <td>Anna</td>\n",
       "      <td>Nowak</td>\n",
       "      <td>2.5+1.0</td>\n",
       "      <td>4.0+1.0</td>\n",
       "      <td>2.0+0.0</td>\n",
       "      <td>1.0+2.0</td>\n",
       "      <td>1.5+2.0</td>\n",
       "      <td>2.0+0.0</td>\n",
       "      <td>0.0+NB</td>\n",
       "      <td>1.5+1.0</td>\n",
       "      <td>3.5+0.5</td>\n",
       "      <td>2.0+0.0</td>\n",
       "      <td>0.5+1.0</td>\n",
       "      <td>ZW+ZW</td>\n",
       "      <td>4.0+0.0</td>\n",
       "      <td>4.0+1.0</td>\n",
       "      <td>NA</td>\n",
       "    </tr>\n",
       "    <tr>\n",
       "      <th>1</th>\n",
       "      <td>Rafał</td>\n",
       "      <td>Kowalski</td>\n",
       "      <td>3.0+0.0</td>\n",
       "      <td>2.0+0.5</td>\n",
       "      <td>2.0+1.0</td>\n",
       "      <td>1.5+1.5</td>\n",
       "      <td>2.0+1.0</td>\n",
       "      <td>1.0+0.5</td>\n",
       "      <td>0.0+NB</td>\n",
       "      <td>3.0+1.0</td>\n",
       "      <td>3.5+1.0</td>\n",
       "      <td>0.0+NB</td>\n",
       "      <td>1.0+1.0</td>\n",
       "      <td>NS.(3.0)+NS.(1.0)</td>\n",
       "      <td>4.0+0.0</td>\n",
       "      <td>4.0+1.0</td>\n",
       "      <td>NA</td>\n",
       "    </tr>\n",
       "    <tr>\n",
       "      <th>2</th>\n",
       "      <td>Pavlo</td>\n",
       "      <td>Wiśniewski</td>\n",
       "      <td>2.5+0.5</td>\n",
       "      <td>US+1.0</td>\n",
       "      <td>2.5+1.0</td>\n",
       "      <td>1.5+1.5</td>\n",
       "      <td>2.0+1.5</td>\n",
       "      <td>3.5+0.0</td>\n",
       "      <td>1.0+1.0</td>\n",
       "      <td>3.0+1.0</td>\n",
       "      <td>3.5+1.0</td>\n",
       "      <td>ZW+ZW</td>\n",
       "      <td>1.0+0.5</td>\n",
       "      <td>3.5+1.0</td>\n",
       "      <td>4.0+1.0</td>\n",
       "      <td>4.0+1.0</td>\n",
       "      <td>NA</td>\n",
       "    </tr>\n",
       "    <tr>\n",
       "      <th>3</th>\n",
       "      <td>Aleksy</td>\n",
       "      <td>Dąbrowski</td>\n",
       "      <td>0.5+1.0</td>\n",
       "      <td>1.0+1.0</td>\n",
       "      <td>NA+NA</td>\n",
       "      <td>NA+NA</td>\n",
       "      <td>NA+NA</td>\n",
       "      <td>NA+NA</td>\n",
       "      <td>NA+NA</td>\n",
       "      <td>NA+NA</td>\n",
       "      <td>NA+NA</td>\n",
       "      <td>NA+NA</td>\n",
       "      <td>NA+NA</td>\n",
       "      <td>NA+NA</td>\n",
       "      <td>NA+NA</td>\n",
       "      <td>NA+NA</td>\n",
       "      <td>NA</td>\n",
       "    </tr>\n",
       "    <tr>\n",
       "      <th>4</th>\n",
       "      <td>Jarosław</td>\n",
       "      <td>Lewandowski</td>\n",
       "      <td>2.0+0.0</td>\n",
       "      <td>3.0+1.0</td>\n",
       "      <td>1.0+0.0</td>\n",
       "      <td>1.5+1.5</td>\n",
       "      <td>0.5+0.0</td>\n",
       "      <td>1.25+0.0</td>\n",
       "      <td>0.0+NB</td>\n",
       "      <td>2.5+0.0</td>\n",
       "      <td>NB+NB</td>\n",
       "      <td>NB+NB</td>\n",
       "      <td>NB+NB</td>\n",
       "      <td>NB+NB</td>\n",
       "      <td>NB+NB</td>\n",
       "      <td>NB+NB</td>\n",
       "      <td>NA</td>\n",
       "    </tr>\n",
       "  </tbody>\n",
       "</table>\n",
       "</div>"
      ],
      "text/plain": [
       "       Imię         Nazwisko                Z1(4+1)    Z2(4+1)      Z3(4+1)  \\\n",
       "0      Anna            Nowak                2.5+1.0    4.0+1.0      2.0+0.0   \n",
       "1     Rafał         Kowalski                3.0+0.0    2.0+0.5      2.0+1.0   \n",
       "2     Pavlo       Wiśniewski                2.5+0.5     US+1.0      2.5+1.0   \n",
       "3    Aleksy        Dąbrowski                0.5+1.0    1.0+1.0        NA+NA   \n",
       "4  Jarosław      Lewandowski                2.0+0.0    3.0+1.0      1.0+0.0   \n",
       "\n",
       "      Z4(4+1)     Z5(2+2)      Z6(4+1)     Z7(4+1)     Z8(4+1)     Z9(4+1)  \\\n",
       "0     1.0+2.0     1.5+2.0      2.0+0.0      0.0+NB     1.5+1.0     3.5+0.5   \n",
       "1     1.5+1.5     2.0+1.0      1.0+0.5      0.0+NB     3.0+1.0     3.5+1.0   \n",
       "2     1.5+1.5     2.0+1.5      3.5+0.0     1.0+1.0     3.0+1.0     3.5+1.0   \n",
       "3       NA+NA       NA+NA        NA+NA       NA+NA       NA+NA       NA+NA   \n",
       "4     1.5+1.5     0.5+0.0     1.25+0.0      0.0+NB     2.5+0.0       NB+NB   \n",
       "\n",
       "     Z10(4+1)      Z11(4+1)              Z12(4+1)                  Z13(5)  \\\n",
       "0     2.0+0.0       0.5+1.0                 ZW+ZW                 4.0+0.0   \n",
       "1      0.0+NB       1.0+1.0     NS.(3.0)+NS.(1.0)                 4.0+0.0   \n",
       "2       ZW+ZW       1.0+0.5               3.5+1.0                 4.0+1.0   \n",
       "3       NA+NA         NA+NA                 NA+NA                   NA+NA   \n",
       "4       NB+NB         NB+NB                 NB+NB                   NB+NB   \n",
       "\n",
       "    Z14(4+1) Z15(5)  \n",
       "0    4.0+1.0     NA  \n",
       "1    4.0+1.0     NA  \n",
       "2    4.0+1.0     NA  \n",
       "3      NA+NA     NA  \n",
       "4      NB+NB     NA  "
      ]
     },
     "execution_count": 2,
     "metadata": {},
     "output_type": "execute_result"
    }
   ],
   "source": [
    "oceny = pd.read_csv(\"AiSD2.csv\")\n",
    "oceny.head()"
   ]
  },
  {
   "cell_type": "code",
   "execution_count": 3,
   "metadata": {},
   "outputs": [
    {
     "ename": "AttributeError",
     "evalue": "'DataFrame' object has no attribute 'Nazwisko'",
     "output_type": "error",
     "traceback": [
      "\u001b[0;31m---------------------------------------------------------------------------\u001b[0m",
      "\u001b[0;31mAttributeError\u001b[0m                            Traceback (most recent call last)",
      "\u001b[0;32m<ipython-input-3-3dbcb24f8d50>\u001b[0m in \u001b[0;36m<module>\u001b[0;34m\u001b[0m\n\u001b[0;32m----> 1\u001b[0;31m \u001b[0moceny\u001b[0m\u001b[0;34m.\u001b[0m\u001b[0mNazwisko\u001b[0m\u001b[0;34m\u001b[0m\u001b[0;34m\u001b[0m\u001b[0m\n\u001b[0m",
      "\u001b[0;32m~/projects/sages/sages_rozne_zrodla_danych/.rozne_zrodla_danych/lib/python3.8/site-packages/pandas/core/generic.py\u001b[0m in \u001b[0;36m__getattr__\u001b[0;34m(self, name)\u001b[0m\n\u001b[1;32m   5128\u001b[0m             \u001b[0;32mif\u001b[0m \u001b[0mself\u001b[0m\u001b[0;34m.\u001b[0m\u001b[0m_info_axis\u001b[0m\u001b[0;34m.\u001b[0m\u001b[0m_can_hold_identifiers_and_holds_name\u001b[0m\u001b[0;34m(\u001b[0m\u001b[0mname\u001b[0m\u001b[0;34m)\u001b[0m\u001b[0;34m:\u001b[0m\u001b[0;34m\u001b[0m\u001b[0;34m\u001b[0m\u001b[0m\n\u001b[1;32m   5129\u001b[0m                 \u001b[0;32mreturn\u001b[0m \u001b[0mself\u001b[0m\u001b[0;34m[\u001b[0m\u001b[0mname\u001b[0m\u001b[0;34m]\u001b[0m\u001b[0;34m\u001b[0m\u001b[0;34m\u001b[0m\u001b[0m\n\u001b[0;32m-> 5130\u001b[0;31m             \u001b[0;32mreturn\u001b[0m \u001b[0mobject\u001b[0m\u001b[0;34m.\u001b[0m\u001b[0m__getattribute__\u001b[0m\u001b[0;34m(\u001b[0m\u001b[0mself\u001b[0m\u001b[0;34m,\u001b[0m \u001b[0mname\u001b[0m\u001b[0;34m)\u001b[0m\u001b[0;34m\u001b[0m\u001b[0;34m\u001b[0m\u001b[0m\n\u001b[0m\u001b[1;32m   5131\u001b[0m \u001b[0;34m\u001b[0m\u001b[0m\n\u001b[1;32m   5132\u001b[0m     \u001b[0;32mdef\u001b[0m \u001b[0m__setattr__\u001b[0m\u001b[0;34m(\u001b[0m\u001b[0mself\u001b[0m\u001b[0;34m,\u001b[0m \u001b[0mname\u001b[0m\u001b[0;34m:\u001b[0m \u001b[0mstr\u001b[0m\u001b[0;34m,\u001b[0m \u001b[0mvalue\u001b[0m\u001b[0;34m)\u001b[0m \u001b[0;34m->\u001b[0m \u001b[0;32mNone\u001b[0m\u001b[0;34m:\u001b[0m\u001b[0;34m\u001b[0m\u001b[0;34m\u001b[0m\u001b[0m\n",
      "\u001b[0;31mAttributeError\u001b[0m: 'DataFrame' object has no attribute 'Nazwisko'"
     ]
    }
   ],
   "source": [
    "oceny.Nazwisko"
   ]
  },
  {
   "cell_type": "code",
   "execution_count": 4,
   "metadata": {},
   "outputs": [
    {
     "ename": "KeyError",
     "evalue": "'Nazwisko'",
     "output_type": "error",
     "traceback": [
      "\u001b[0;31m---------------------------------------------------------------------------\u001b[0m",
      "\u001b[0;31mKeyError\u001b[0m                                  Traceback (most recent call last)",
      "\u001b[0;32m~/projects/sages/sages_rozne_zrodla_danych/.rozne_zrodla_danych/lib/python3.8/site-packages/pandas/core/indexes/base.py\u001b[0m in \u001b[0;36mget_loc\u001b[0;34m(self, key, method, tolerance)\u001b[0m\n\u001b[1;32m   2888\u001b[0m             \u001b[0;32mtry\u001b[0m\u001b[0;34m:\u001b[0m\u001b[0;34m\u001b[0m\u001b[0;34m\u001b[0m\u001b[0m\n\u001b[0;32m-> 2889\u001b[0;31m                 \u001b[0;32mreturn\u001b[0m \u001b[0mself\u001b[0m\u001b[0;34m.\u001b[0m\u001b[0m_engine\u001b[0m\u001b[0;34m.\u001b[0m\u001b[0mget_loc\u001b[0m\u001b[0;34m(\u001b[0m\u001b[0mcasted_key\u001b[0m\u001b[0;34m)\u001b[0m\u001b[0;34m\u001b[0m\u001b[0;34m\u001b[0m\u001b[0m\n\u001b[0m\u001b[1;32m   2890\u001b[0m             \u001b[0;32mexcept\u001b[0m \u001b[0mKeyError\u001b[0m \u001b[0;32mas\u001b[0m \u001b[0merr\u001b[0m\u001b[0;34m:\u001b[0m\u001b[0;34m\u001b[0m\u001b[0;34m\u001b[0m\u001b[0m\n",
      "\u001b[0;32mpandas/_libs/index.pyx\u001b[0m in \u001b[0;36mpandas._libs.index.IndexEngine.get_loc\u001b[0;34m()\u001b[0m\n",
      "\u001b[0;32mpandas/_libs/index.pyx\u001b[0m in \u001b[0;36mpandas._libs.index.IndexEngine.get_loc\u001b[0;34m()\u001b[0m\n",
      "\u001b[0;32mpandas/_libs/hashtable_class_helper.pxi\u001b[0m in \u001b[0;36mpandas._libs.hashtable.PyObjectHashTable.get_item\u001b[0;34m()\u001b[0m\n",
      "\u001b[0;32mpandas/_libs/hashtable_class_helper.pxi\u001b[0m in \u001b[0;36mpandas._libs.hashtable.PyObjectHashTable.get_item\u001b[0;34m()\u001b[0m\n",
      "\u001b[0;31mKeyError\u001b[0m: 'Nazwisko'",
      "\nThe above exception was the direct cause of the following exception:\n",
      "\u001b[0;31mKeyError\u001b[0m                                  Traceback (most recent call last)",
      "\u001b[0;32m<ipython-input-4-dc3567895169>\u001b[0m in \u001b[0;36m<module>\u001b[0;34m\u001b[0m\n\u001b[0;32m----> 1\u001b[0;31m \u001b[0moceny\u001b[0m\u001b[0;34m[\u001b[0m\u001b[0;34m\"Nazwisko\"\u001b[0m\u001b[0;34m]\u001b[0m\u001b[0;34m\u001b[0m\u001b[0;34m\u001b[0m\u001b[0m\n\u001b[0m",
      "\u001b[0;32m~/projects/sages/sages_rozne_zrodla_danych/.rozne_zrodla_danych/lib/python3.8/site-packages/pandas/core/frame.py\u001b[0m in \u001b[0;36m__getitem__\u001b[0;34m(self, key)\u001b[0m\n\u001b[1;32m   2900\u001b[0m             \u001b[0;32mif\u001b[0m \u001b[0mself\u001b[0m\u001b[0;34m.\u001b[0m\u001b[0mcolumns\u001b[0m\u001b[0;34m.\u001b[0m\u001b[0mnlevels\u001b[0m \u001b[0;34m>\u001b[0m \u001b[0;36m1\u001b[0m\u001b[0;34m:\u001b[0m\u001b[0;34m\u001b[0m\u001b[0;34m\u001b[0m\u001b[0m\n\u001b[1;32m   2901\u001b[0m                 \u001b[0;32mreturn\u001b[0m \u001b[0mself\u001b[0m\u001b[0;34m.\u001b[0m\u001b[0m_getitem_multilevel\u001b[0m\u001b[0;34m(\u001b[0m\u001b[0mkey\u001b[0m\u001b[0;34m)\u001b[0m\u001b[0;34m\u001b[0m\u001b[0;34m\u001b[0m\u001b[0m\n\u001b[0;32m-> 2902\u001b[0;31m             \u001b[0mindexer\u001b[0m \u001b[0;34m=\u001b[0m \u001b[0mself\u001b[0m\u001b[0;34m.\u001b[0m\u001b[0mcolumns\u001b[0m\u001b[0;34m.\u001b[0m\u001b[0mget_loc\u001b[0m\u001b[0;34m(\u001b[0m\u001b[0mkey\u001b[0m\u001b[0;34m)\u001b[0m\u001b[0;34m\u001b[0m\u001b[0;34m\u001b[0m\u001b[0m\n\u001b[0m\u001b[1;32m   2903\u001b[0m             \u001b[0;32mif\u001b[0m \u001b[0mis_integer\u001b[0m\u001b[0;34m(\u001b[0m\u001b[0mindexer\u001b[0m\u001b[0;34m)\u001b[0m\u001b[0;34m:\u001b[0m\u001b[0;34m\u001b[0m\u001b[0;34m\u001b[0m\u001b[0m\n\u001b[1;32m   2904\u001b[0m                 \u001b[0mindexer\u001b[0m \u001b[0;34m=\u001b[0m \u001b[0;34m[\u001b[0m\u001b[0mindexer\u001b[0m\u001b[0;34m]\u001b[0m\u001b[0;34m\u001b[0m\u001b[0;34m\u001b[0m\u001b[0m\n",
      "\u001b[0;32m~/projects/sages/sages_rozne_zrodla_danych/.rozne_zrodla_danych/lib/python3.8/site-packages/pandas/core/indexes/base.py\u001b[0m in \u001b[0;36mget_loc\u001b[0;34m(self, key, method, tolerance)\u001b[0m\n\u001b[1;32m   2889\u001b[0m                 \u001b[0;32mreturn\u001b[0m \u001b[0mself\u001b[0m\u001b[0;34m.\u001b[0m\u001b[0m_engine\u001b[0m\u001b[0;34m.\u001b[0m\u001b[0mget_loc\u001b[0m\u001b[0;34m(\u001b[0m\u001b[0mcasted_key\u001b[0m\u001b[0;34m)\u001b[0m\u001b[0;34m\u001b[0m\u001b[0;34m\u001b[0m\u001b[0m\n\u001b[1;32m   2890\u001b[0m             \u001b[0;32mexcept\u001b[0m \u001b[0mKeyError\u001b[0m \u001b[0;32mas\u001b[0m \u001b[0merr\u001b[0m\u001b[0;34m:\u001b[0m\u001b[0;34m\u001b[0m\u001b[0;34m\u001b[0m\u001b[0m\n\u001b[0;32m-> 2891\u001b[0;31m                 \u001b[0;32mraise\u001b[0m \u001b[0mKeyError\u001b[0m\u001b[0;34m(\u001b[0m\u001b[0mkey\u001b[0m\u001b[0;34m)\u001b[0m \u001b[0;32mfrom\u001b[0m \u001b[0merr\u001b[0m\u001b[0;34m\u001b[0m\u001b[0;34m\u001b[0m\u001b[0m\n\u001b[0m\u001b[1;32m   2892\u001b[0m \u001b[0;34m\u001b[0m\u001b[0m\n\u001b[1;32m   2893\u001b[0m         \u001b[0;32mif\u001b[0m \u001b[0mtolerance\u001b[0m \u001b[0;32mis\u001b[0m \u001b[0;32mnot\u001b[0m \u001b[0;32mNone\u001b[0m\u001b[0;34m:\u001b[0m\u001b[0;34m\u001b[0m\u001b[0;34m\u001b[0m\u001b[0m\n",
      "\u001b[0;31mKeyError\u001b[0m: 'Nazwisko'"
     ]
    }
   ],
   "source": [
    "oceny[\"Nazwisko\"]"
   ]
  },
  {
   "cell_type": "code",
   "execution_count": 5,
   "metadata": {},
   "outputs": [
    {
     "data": {
      "text/plain": [
       "Index(['Imię', '      Nazwisko', '           Z1(4+1)', '  Z2(4+1)',\n",
       "       '    Z3(4+1)', '   Z4(4+1)', '   Z5(2+2)', '   Z6(4+1)', '  Z7(4+1)',\n",
       "       '   Z8(4+1)', '   Z9(4+1)', ' Z10(4+1)', '    Z11(4+1)', '  Z12(4+1)',\n",
       "       '            Z13(5)', '  Z14(4+1)', 'Z15(5)'],\n",
       "      dtype='object')"
      ]
     },
     "execution_count": 5,
     "metadata": {},
     "output_type": "execute_result"
    }
   ],
   "source": [
    "oceny.columns"
   ]
  },
  {
   "cell_type": "code",
   "execution_count": 6,
   "metadata": {},
   "outputs": [
    {
     "data": {
      "text/plain": [
       "0               Nowak\n",
       "1            Kowalski\n",
       "2          Wiśniewski\n",
       "3           Dąbrowski\n",
       "4         Lewandowski\n",
       "5              Wójcik\n",
       "6            Kamiński\n",
       "7           Kowalczyk\n",
       "8           Zielińska\n",
       "9           Szymański\n",
       "10            Woźniak\n",
       "Name:       Nazwisko, dtype: object"
      ]
     },
     "execution_count": 6,
     "metadata": {},
     "output_type": "execute_result"
    }
   ],
   "source": [
    "oceny[\"      Nazwisko\"]"
   ]
  },
  {
   "cell_type": "code",
   "execution_count": 7,
   "metadata": {},
   "outputs": [
    {
     "data": {
      "text/html": [
       "<div>\n",
       "<style scoped>\n",
       "    .dataframe tbody tr th:only-of-type {\n",
       "        vertical-align: middle;\n",
       "    }\n",
       "\n",
       "    .dataframe tbody tr th {\n",
       "        vertical-align: top;\n",
       "    }\n",
       "\n",
       "    .dataframe thead th {\n",
       "        text-align: right;\n",
       "    }\n",
       "</style>\n",
       "<table border=\"1\" class=\"dataframe\">\n",
       "  <thead>\n",
       "    <tr style=\"text-align: right;\">\n",
       "      <th></th>\n",
       "      <th>Nazwisko</th>\n",
       "      <th>Z4(4+1)</th>\n",
       "    </tr>\n",
       "  </thead>\n",
       "  <tbody>\n",
       "    <tr>\n",
       "      <th>0</th>\n",
       "      <td>Nowak</td>\n",
       "      <td>1.0+2.0</td>\n",
       "    </tr>\n",
       "    <tr>\n",
       "      <th>1</th>\n",
       "      <td>Kowalski</td>\n",
       "      <td>1.5+1.5</td>\n",
       "    </tr>\n",
       "    <tr>\n",
       "      <th>2</th>\n",
       "      <td>Wiśniewski</td>\n",
       "      <td>1.5+1.5</td>\n",
       "    </tr>\n",
       "    <tr>\n",
       "      <th>3</th>\n",
       "      <td>Dąbrowski</td>\n",
       "      <td>NA+NA</td>\n",
       "    </tr>\n",
       "    <tr>\n",
       "      <th>4</th>\n",
       "      <td>Lewandowski</td>\n",
       "      <td>1.5+1.5</td>\n",
       "    </tr>\n",
       "    <tr>\n",
       "      <th>5</th>\n",
       "      <td>Wójcik</td>\n",
       "      <td>1.5+1.5</td>\n",
       "    </tr>\n",
       "    <tr>\n",
       "      <th>6</th>\n",
       "      <td>Kamiński</td>\n",
       "      <td>1.5+0.5</td>\n",
       "    </tr>\n",
       "    <tr>\n",
       "      <th>7</th>\n",
       "      <td>Kowalczyk</td>\n",
       "      <td>4.0+2.0</td>\n",
       "    </tr>\n",
       "    <tr>\n",
       "      <th>8</th>\n",
       "      <td>Zielińska</td>\n",
       "      <td>1.0+0.0</td>\n",
       "    </tr>\n",
       "    <tr>\n",
       "      <th>9</th>\n",
       "      <td>Szymański</td>\n",
       "      <td>0.0+1.5</td>\n",
       "    </tr>\n",
       "    <tr>\n",
       "      <th>10</th>\n",
       "      <td>Woźniak</td>\n",
       "      <td>3.0+2.0</td>\n",
       "    </tr>\n",
       "  </tbody>\n",
       "</table>\n",
       "</div>"
      ],
      "text/plain": [
       "           Nazwisko     Z4(4+1)\n",
       "0             Nowak     1.0+2.0\n",
       "1          Kowalski     1.5+1.5\n",
       "2        Wiśniewski     1.5+1.5\n",
       "3         Dąbrowski       NA+NA\n",
       "4       Lewandowski     1.5+1.5\n",
       "5            Wójcik     1.5+1.5\n",
       "6          Kamiński     1.5+0.5\n",
       "7         Kowalczyk     4.0+2.0\n",
       "8         Zielińska     1.0+0.0\n",
       "9         Szymański     0.0+1.5\n",
       "10          Woźniak     3.0+2.0"
      ]
     },
     "execution_count": 7,
     "metadata": {},
     "output_type": "execute_result"
    }
   ],
   "source": [
    "oceny[[\"      Nazwisko\", \"   Z4(4+1)\"]]"
   ]
  },
  {
   "cell_type": "code",
   "execution_count": 9,
   "metadata": {},
   "outputs": [
    {
     "data": {
      "text/plain": [
       "array(['      Nowak', '     Kowalski', '     Wiśniewski', '    Dąbrowski',\n",
       "       '  Lewandowski', 'Wójcik', '    Kamiński', '     Kowalczyk',\n",
       "       '    Zielińska', '   Szymański', '    Woźniak'], dtype=object)"
      ]
     },
     "execution_count": 9,
     "metadata": {},
     "output_type": "execute_result"
    }
   ],
   "source": [
    "oceny[\"      Nazwisko\"].values"
   ]
  },
  {
   "cell_type": "markdown",
   "metadata": {},
   "source": [
    "Jak to rozwiązać?\n",
    "\n",
    "* na piechotę (stip(), apply())\n",
    "* elegancka metoda, na etapie wczytywania"
   ]
  },
  {
   "cell_type": "markdown",
   "metadata": {},
   "source": [
    "## Na piechotę"
   ]
  },
  {
   "cell_type": "code",
   "execution_count": 13,
   "metadata": {},
   "outputs": [
    {
     "data": {
      "text/plain": [
       "Index(['Imię', 'Nazwisko', 'Z1(4+1)', 'Z2(4+1)', 'Z3(4+1)', 'Z4(4+1)',\n",
       "       'Z5(2+2)', 'Z6(4+1)', 'Z7(4+1)', 'Z8(4+1)', 'Z9(4+1)', 'Z10(4+1)',\n",
       "       'Z11(4+1)', 'Z12(4+1)', 'Z13(5)', 'Z14(4+1)', 'Z15(5)'],\n",
       "      dtype='object')"
      ]
     },
     "execution_count": 13,
     "metadata": {},
     "output_type": "execute_result"
    }
   ],
   "source": [
    "oceny.columns.str.strip()"
   ]
  },
  {
   "cell_type": "code",
   "execution_count": 14,
   "metadata": {},
   "outputs": [
    {
     "data": {
      "text/plain": [
       "Index(['Imię', '      Nazwisko', '           Z1(4+1)', '  Z2(4+1)',\n",
       "       '    Z3(4+1)', '   Z4(4+1)', '   Z5(2+2)', '   Z6(4+1)', '  Z7(4+1)',\n",
       "       '   Z8(4+1)', '   Z9(4+1)', ' Z10(4+1)', '    Z11(4+1)', '  Z12(4+1)',\n",
       "       '            Z13(5)', '  Z14(4+1)', 'Z15(5)'],\n",
       "      dtype='object')"
      ]
     },
     "execution_count": 14,
     "metadata": {},
     "output_type": "execute_result"
    }
   ],
   "source": [
    "oceny.columns"
   ]
  },
  {
   "cell_type": "code",
   "execution_count": 18,
   "metadata": {},
   "outputs": [],
   "source": [
    "oceny.columns = oceny.columns.str.strip() # to nie naprawia wartości w wierszach"
   ]
  },
  {
   "cell_type": "code",
   "execution_count": 16,
   "metadata": {},
   "outputs": [
    {
     "data": {
      "text/plain": [
       "Index(['Imię', 'Nazwisko', 'Z1(4+1)', 'Z2(4+1)', 'Z3(4+1)', 'Z4(4+1)',\n",
       "       'Z5(2+2)', 'Z6(4+1)', 'Z7(4+1)', 'Z8(4+1)', 'Z9(4+1)', 'Z10(4+1)',\n",
       "       'Z11(4+1)', 'Z12(4+1)', 'Z13(5)', 'Z14(4+1)', 'Z15(5)'],\n",
       "      dtype='object')"
      ]
     },
     "execution_count": 16,
     "metadata": {},
     "output_type": "execute_result"
    }
   ],
   "source": [
    "oceny.columns"
   ]
  },
  {
   "cell_type": "code",
   "execution_count": 17,
   "metadata": {},
   "outputs": [
    {
     "data": {
      "text/plain": [
       "0               Nowak\n",
       "1            Kowalski\n",
       "2          Wiśniewski\n",
       "3           Dąbrowski\n",
       "4         Lewandowski\n",
       "5              Wójcik\n",
       "6            Kamiński\n",
       "7           Kowalczyk\n",
       "8           Zielińska\n",
       "9           Szymański\n",
       "10            Woźniak\n",
       "Name: Nazwisko, dtype: object"
      ]
     },
     "execution_count": 17,
     "metadata": {},
     "output_type": "execute_result"
    }
   ],
   "source": [
    "oceny.Nazwisko"
   ]
  },
  {
   "cell_type": "code",
   "execution_count": 19,
   "metadata": {},
   "outputs": [
    {
     "data": {
      "text/plain": [
       "array(['      Nowak', '     Kowalski', '     Wiśniewski', '    Dąbrowski',\n",
       "       '  Lewandowski', 'Wójcik', '    Kamiński', '     Kowalczyk',\n",
       "       '    Zielińska', '   Szymański', '    Woźniak'], dtype=object)"
      ]
     },
     "execution_count": 19,
     "metadata": {},
     "output_type": "execute_result"
    }
   ],
   "source": [
    "oceny.Nazwisko.values"
   ]
  },
  {
   "cell_type": "code",
   "execution_count": 21,
   "metadata": {},
   "outputs": [
    {
     "data": {
      "text/plain": [
       "array(['Nowak', 'Kowalski', 'Wiśniewski', 'Dąbrowski', 'Lewandowski',\n",
       "       'Wójcik', 'Kamiński', 'Kowalczyk', 'Zielińska', 'Szymański',\n",
       "       'Woźniak'], dtype=object)"
      ]
     },
     "execution_count": 21,
     "metadata": {},
     "output_type": "execute_result"
    }
   ],
   "source": [
    "oceny.Nazwisko.str.strip().values"
   ]
  },
  {
   "cell_type": "code",
   "execution_count": 22,
   "metadata": {},
   "outputs": [
    {
     "data": {
      "text/plain": [
       "array(['      Nowak', '     Kowalski', '     Wiśniewski', '    Dąbrowski',\n",
       "       '  Lewandowski', 'Wójcik', '    Kamiński', '     Kowalczyk',\n",
       "       '    Zielińska', '   Szymański', '    Woźniak'], dtype=object)"
      ]
     },
     "execution_count": 22,
     "metadata": {},
     "output_type": "execute_result"
    }
   ],
   "source": [
    "oceny.Nazwisko.values"
   ]
  },
  {
   "cell_type": "code",
   "execution_count": 24,
   "metadata": {},
   "outputs": [
    {
     "ename": "AttributeError",
     "evalue": "'DataFrame' object has no attribute 'str'",
     "output_type": "error",
     "traceback": [
      "\u001b[0;31m---------------------------------------------------------------------------\u001b[0m",
      "\u001b[0;31mAttributeError\u001b[0m                            Traceback (most recent call last)",
      "\u001b[0;32m<ipython-input-24-dd04569db93a>\u001b[0m in \u001b[0;36m<module>\u001b[0;34m\u001b[0m\n\u001b[0;32m----> 1\u001b[0;31m \u001b[0moceny\u001b[0m\u001b[0;34m.\u001b[0m\u001b[0mstr\u001b[0m\u001b[0;34m.\u001b[0m\u001b[0mstrip\u001b[0m\u001b[0;34m(\u001b[0m\u001b[0;34m)\u001b[0m \u001b[0;31m# niestety nie ma\u001b[0m\u001b[0;34m\u001b[0m\u001b[0;34m\u001b[0m\u001b[0m\n\u001b[0m",
      "\u001b[0;32m~/projects/sages/sages_rozne_zrodla_danych/.rozne_zrodla_danych/lib/python3.8/site-packages/pandas/core/generic.py\u001b[0m in \u001b[0;36m__getattr__\u001b[0;34m(self, name)\u001b[0m\n\u001b[1;32m   5128\u001b[0m             \u001b[0;32mif\u001b[0m \u001b[0mself\u001b[0m\u001b[0;34m.\u001b[0m\u001b[0m_info_axis\u001b[0m\u001b[0;34m.\u001b[0m\u001b[0m_can_hold_identifiers_and_holds_name\u001b[0m\u001b[0;34m(\u001b[0m\u001b[0mname\u001b[0m\u001b[0;34m)\u001b[0m\u001b[0;34m:\u001b[0m\u001b[0;34m\u001b[0m\u001b[0;34m\u001b[0m\u001b[0m\n\u001b[1;32m   5129\u001b[0m                 \u001b[0;32mreturn\u001b[0m \u001b[0mself\u001b[0m\u001b[0;34m[\u001b[0m\u001b[0mname\u001b[0m\u001b[0;34m]\u001b[0m\u001b[0;34m\u001b[0m\u001b[0;34m\u001b[0m\u001b[0m\n\u001b[0;32m-> 5130\u001b[0;31m             \u001b[0;32mreturn\u001b[0m \u001b[0mobject\u001b[0m\u001b[0;34m.\u001b[0m\u001b[0m__getattribute__\u001b[0m\u001b[0;34m(\u001b[0m\u001b[0mself\u001b[0m\u001b[0;34m,\u001b[0m \u001b[0mname\u001b[0m\u001b[0;34m)\u001b[0m\u001b[0;34m\u001b[0m\u001b[0;34m\u001b[0m\u001b[0m\n\u001b[0m\u001b[1;32m   5131\u001b[0m \u001b[0;34m\u001b[0m\u001b[0m\n\u001b[1;32m   5132\u001b[0m     \u001b[0;32mdef\u001b[0m \u001b[0m__setattr__\u001b[0m\u001b[0;34m(\u001b[0m\u001b[0mself\u001b[0m\u001b[0;34m,\u001b[0m \u001b[0mname\u001b[0m\u001b[0;34m:\u001b[0m \u001b[0mstr\u001b[0m\u001b[0;34m,\u001b[0m \u001b[0mvalue\u001b[0m\u001b[0;34m)\u001b[0m \u001b[0;34m->\u001b[0m \u001b[0;32mNone\u001b[0m\u001b[0;34m:\u001b[0m\u001b[0;34m\u001b[0m\u001b[0;34m\u001b[0m\u001b[0m\n",
      "\u001b[0;31mAttributeError\u001b[0m: 'DataFrame' object has no attribute 'str'"
     ]
    }
   ],
   "source": [
    "oceny.str.strip() # niestety nie ma"
   ]
  },
  {
   "cell_type": "code",
   "execution_count": 25,
   "metadata": {},
   "outputs": [
    {
     "ename": "AttributeError",
     "evalue": "'DataFrame' object has no attribute 'strip'",
     "output_type": "error",
     "traceback": [
      "\u001b[0;31m---------------------------------------------------------------------------\u001b[0m",
      "\u001b[0;31mAttributeError\u001b[0m                            Traceback (most recent call last)",
      "\u001b[0;32m<ipython-input-25-d361688139b7>\u001b[0m in \u001b[0;36m<module>\u001b[0;34m\u001b[0m\n\u001b[0;32m----> 1\u001b[0;31m \u001b[0moceny\u001b[0m\u001b[0;34m.\u001b[0m\u001b[0mstrip\u001b[0m\u001b[0;34m(\u001b[0m\u001b[0;34m)\u001b[0m \u001b[0;31m# niestety nie ma\u001b[0m\u001b[0;34m\u001b[0m\u001b[0;34m\u001b[0m\u001b[0m\n\u001b[0m",
      "\u001b[0;32m~/projects/sages/sages_rozne_zrodla_danych/.rozne_zrodla_danych/lib/python3.8/site-packages/pandas/core/generic.py\u001b[0m in \u001b[0;36m__getattr__\u001b[0;34m(self, name)\u001b[0m\n\u001b[1;32m   5128\u001b[0m             \u001b[0;32mif\u001b[0m \u001b[0mself\u001b[0m\u001b[0;34m.\u001b[0m\u001b[0m_info_axis\u001b[0m\u001b[0;34m.\u001b[0m\u001b[0m_can_hold_identifiers_and_holds_name\u001b[0m\u001b[0;34m(\u001b[0m\u001b[0mname\u001b[0m\u001b[0;34m)\u001b[0m\u001b[0;34m:\u001b[0m\u001b[0;34m\u001b[0m\u001b[0;34m\u001b[0m\u001b[0m\n\u001b[1;32m   5129\u001b[0m                 \u001b[0;32mreturn\u001b[0m \u001b[0mself\u001b[0m\u001b[0;34m[\u001b[0m\u001b[0mname\u001b[0m\u001b[0;34m]\u001b[0m\u001b[0;34m\u001b[0m\u001b[0;34m\u001b[0m\u001b[0m\n\u001b[0;32m-> 5130\u001b[0;31m             \u001b[0;32mreturn\u001b[0m \u001b[0mobject\u001b[0m\u001b[0;34m.\u001b[0m\u001b[0m__getattribute__\u001b[0m\u001b[0;34m(\u001b[0m\u001b[0mself\u001b[0m\u001b[0;34m,\u001b[0m \u001b[0mname\u001b[0m\u001b[0;34m)\u001b[0m\u001b[0;34m\u001b[0m\u001b[0;34m\u001b[0m\u001b[0m\n\u001b[0m\u001b[1;32m   5131\u001b[0m \u001b[0;34m\u001b[0m\u001b[0m\n\u001b[1;32m   5132\u001b[0m     \u001b[0;32mdef\u001b[0m \u001b[0m__setattr__\u001b[0m\u001b[0;34m(\u001b[0m\u001b[0mself\u001b[0m\u001b[0;34m,\u001b[0m \u001b[0mname\u001b[0m\u001b[0;34m:\u001b[0m \u001b[0mstr\u001b[0m\u001b[0;34m,\u001b[0m \u001b[0mvalue\u001b[0m\u001b[0;34m)\u001b[0m \u001b[0;34m->\u001b[0m \u001b[0;32mNone\u001b[0m\u001b[0;34m:\u001b[0m\u001b[0;34m\u001b[0m\u001b[0;34m\u001b[0m\u001b[0m\n",
      "\u001b[0;31mAttributeError\u001b[0m: 'DataFrame' object has no attribute 'strip'"
     ]
    }
   ],
   "source": [
    "oceny.strip() # niestety nie ma"
   ]
  },
  {
   "cell_type": "code",
   "execution_count": null,
   "metadata": {},
   "outputs": [],
   "source": [
    "oceny.Nazwisko.str.strip()"
   ]
  },
  {
   "cell_type": "code",
   "execution_count": 31,
   "metadata": {},
   "outputs": [],
   "source": [
    "oceny2 = oceny.apply(lambda x: x.str.strip()) # tu mamy trochę szczęścia że zadziałało"
   ]
  },
  {
   "cell_type": "code",
   "execution_count": 32,
   "metadata": {},
   "outputs": [
    {
     "data": {
      "text/html": [
       "<div>\n",
       "<style scoped>\n",
       "    .dataframe tbody tr th:only-of-type {\n",
       "        vertical-align: middle;\n",
       "    }\n",
       "\n",
       "    .dataframe tbody tr th {\n",
       "        vertical-align: top;\n",
       "    }\n",
       "\n",
       "    .dataframe thead th {\n",
       "        text-align: right;\n",
       "    }\n",
       "</style>\n",
       "<table border=\"1\" class=\"dataframe\">\n",
       "  <thead>\n",
       "    <tr style=\"text-align: right;\">\n",
       "      <th></th>\n",
       "      <th>Imię</th>\n",
       "      <th>Nazwisko</th>\n",
       "      <th>Z1(4+1)</th>\n",
       "      <th>Z2(4+1)</th>\n",
       "      <th>Z3(4+1)</th>\n",
       "      <th>Z4(4+1)</th>\n",
       "      <th>Z5(2+2)</th>\n",
       "      <th>Z6(4+1)</th>\n",
       "      <th>Z7(4+1)</th>\n",
       "      <th>Z8(4+1)</th>\n",
       "      <th>Z9(4+1)</th>\n",
       "      <th>Z10(4+1)</th>\n",
       "      <th>Z11(4+1)</th>\n",
       "      <th>Z12(4+1)</th>\n",
       "      <th>Z13(5)</th>\n",
       "      <th>Z14(4+1)</th>\n",
       "      <th>Z15(5)</th>\n",
       "    </tr>\n",
       "  </thead>\n",
       "  <tbody>\n",
       "    <tr>\n",
       "      <th>0</th>\n",
       "      <td>Anna</td>\n",
       "      <td>Nowak</td>\n",
       "      <td>2.5+1.0</td>\n",
       "      <td>4.0+1.0</td>\n",
       "      <td>2.0+0.0</td>\n",
       "      <td>1.0+2.0</td>\n",
       "      <td>1.5+2.0</td>\n",
       "      <td>2.0+0.0</td>\n",
       "      <td>0.0+NB</td>\n",
       "      <td>1.5+1.0</td>\n",
       "      <td>3.5+0.5</td>\n",
       "      <td>2.0+0.0</td>\n",
       "      <td>0.5+1.0</td>\n",
       "      <td>ZW+ZW</td>\n",
       "      <td>4.0+0.0</td>\n",
       "      <td>4.0+1.0</td>\n",
       "      <td>NA</td>\n",
       "    </tr>\n",
       "    <tr>\n",
       "      <th>1</th>\n",
       "      <td>Rafał</td>\n",
       "      <td>Kowalski</td>\n",
       "      <td>3.0+0.0</td>\n",
       "      <td>2.0+0.5</td>\n",
       "      <td>2.0+1.0</td>\n",
       "      <td>1.5+1.5</td>\n",
       "      <td>2.0+1.0</td>\n",
       "      <td>1.0+0.5</td>\n",
       "      <td>0.0+NB</td>\n",
       "      <td>3.0+1.0</td>\n",
       "      <td>3.5+1.0</td>\n",
       "      <td>0.0+NB</td>\n",
       "      <td>1.0+1.0</td>\n",
       "      <td>NS.(3.0)+NS.(1.0)</td>\n",
       "      <td>4.0+0.0</td>\n",
       "      <td>4.0+1.0</td>\n",
       "      <td>NA</td>\n",
       "    </tr>\n",
       "    <tr>\n",
       "      <th>2</th>\n",
       "      <td>Pavlo</td>\n",
       "      <td>Wiśniewski</td>\n",
       "      <td>2.5+0.5</td>\n",
       "      <td>US+1.0</td>\n",
       "      <td>2.5+1.0</td>\n",
       "      <td>1.5+1.5</td>\n",
       "      <td>2.0+1.5</td>\n",
       "      <td>3.5+0.0</td>\n",
       "      <td>1.0+1.0</td>\n",
       "      <td>3.0+1.0</td>\n",
       "      <td>3.5+1.0</td>\n",
       "      <td>ZW+ZW</td>\n",
       "      <td>1.0+0.5</td>\n",
       "      <td>3.5+1.0</td>\n",
       "      <td>4.0+1.0</td>\n",
       "      <td>4.0+1.0</td>\n",
       "      <td>NA</td>\n",
       "    </tr>\n",
       "    <tr>\n",
       "      <th>3</th>\n",
       "      <td>Aleksy</td>\n",
       "      <td>Dąbrowski</td>\n",
       "      <td>0.5+1.0</td>\n",
       "      <td>1.0+1.0</td>\n",
       "      <td>NA+NA</td>\n",
       "      <td>NA+NA</td>\n",
       "      <td>NA+NA</td>\n",
       "      <td>NA+NA</td>\n",
       "      <td>NA+NA</td>\n",
       "      <td>NA+NA</td>\n",
       "      <td>NA+NA</td>\n",
       "      <td>NA+NA</td>\n",
       "      <td>NA+NA</td>\n",
       "      <td>NA+NA</td>\n",
       "      <td>NA+NA</td>\n",
       "      <td>NA+NA</td>\n",
       "      <td>NA</td>\n",
       "    </tr>\n",
       "    <tr>\n",
       "      <th>4</th>\n",
       "      <td>Jarosław</td>\n",
       "      <td>Lewandowski</td>\n",
       "      <td>2.0+0.0</td>\n",
       "      <td>3.0+1.0</td>\n",
       "      <td>1.0+0.0</td>\n",
       "      <td>1.5+1.5</td>\n",
       "      <td>0.5+0.0</td>\n",
       "      <td>1.25+0.0</td>\n",
       "      <td>0.0+NB</td>\n",
       "      <td>2.5+0.0</td>\n",
       "      <td>NB+NB</td>\n",
       "      <td>NB+NB</td>\n",
       "      <td>NB+NB</td>\n",
       "      <td>NB+NB</td>\n",
       "      <td>NB+NB</td>\n",
       "      <td>NB+NB</td>\n",
       "      <td>NA</td>\n",
       "    </tr>\n",
       "  </tbody>\n",
       "</table>\n",
       "</div>"
      ],
      "text/plain": [
       "       Imię     Nazwisko  Z1(4+1)  Z2(4+1)  Z3(4+1)  Z4(4+1)  Z5(2+2)  \\\n",
       "0      Anna        Nowak  2.5+1.0  4.0+1.0  2.0+0.0  1.0+2.0  1.5+2.0   \n",
       "1     Rafał     Kowalski  3.0+0.0  2.0+0.5  2.0+1.0  1.5+1.5  2.0+1.0   \n",
       "2     Pavlo   Wiśniewski  2.5+0.5   US+1.0  2.5+1.0  1.5+1.5  2.0+1.5   \n",
       "3    Aleksy    Dąbrowski  0.5+1.0  1.0+1.0    NA+NA    NA+NA    NA+NA   \n",
       "4  Jarosław  Lewandowski  2.0+0.0  3.0+1.0  1.0+0.0  1.5+1.5  0.5+0.0   \n",
       "\n",
       "    Z6(4+1)  Z7(4+1)  Z8(4+1)  Z9(4+1) Z10(4+1) Z11(4+1)           Z12(4+1)  \\\n",
       "0   2.0+0.0   0.0+NB  1.5+1.0  3.5+0.5  2.0+0.0  0.5+1.0              ZW+ZW   \n",
       "1   1.0+0.5   0.0+NB  3.0+1.0  3.5+1.0   0.0+NB  1.0+1.0  NS.(3.0)+NS.(1.0)   \n",
       "2   3.5+0.0  1.0+1.0  3.0+1.0  3.5+1.0    ZW+ZW  1.0+0.5            3.5+1.0   \n",
       "3     NA+NA    NA+NA    NA+NA    NA+NA    NA+NA    NA+NA              NA+NA   \n",
       "4  1.25+0.0   0.0+NB  2.5+0.0    NB+NB    NB+NB    NB+NB              NB+NB   \n",
       "\n",
       "    Z13(5) Z14(4+1) Z15(5)  \n",
       "0  4.0+0.0  4.0+1.0     NA  \n",
       "1  4.0+0.0  4.0+1.0     NA  \n",
       "2  4.0+1.0  4.0+1.0     NA  \n",
       "3    NA+NA    NA+NA     NA  \n",
       "4    NB+NB    NB+NB     NA  "
      ]
     },
     "execution_count": 32,
     "metadata": {},
     "output_type": "execute_result"
    }
   ],
   "source": [
    "oceny2.head()"
   ]
  },
  {
   "cell_type": "code",
   "execution_count": 33,
   "metadata": {},
   "outputs": [
    {
     "data": {
      "text/plain": [
       "array(['1.0+2.0', '1.5+1.5', '1.5+1.5', 'NA+NA', '1.5+1.5', '1.5+1.5',\n",
       "       '1.5+0.5', '4.0+2.0', '1.0+0.0', '0.0+1.5', '3.0+2.0'],\n",
       "      dtype=object)"
      ]
     },
     "execution_count": 33,
     "metadata": {},
     "output_type": "execute_result"
    }
   ],
   "source": [
    "oceny2[\"Z4(4+1)\"].values"
   ]
  },
  {
   "cell_type": "code",
   "execution_count": 34,
   "metadata": {},
   "outputs": [
    {
     "data": {
      "text/plain": [
       "Imię        object\n",
       "Nazwisko    object\n",
       "Z1(4+1)     object\n",
       "Z2(4+1)     object\n",
       "Z3(4+1)     object\n",
       "Z4(4+1)     object\n",
       "Z5(2+2)     object\n",
       "Z6(4+1)     object\n",
       "Z7(4+1)     object\n",
       "Z8(4+1)     object\n",
       "Z9(4+1)     object\n",
       "Z10(4+1)    object\n",
       "Z11(4+1)    object\n",
       "Z12(4+1)    object\n",
       "Z13(5)      object\n",
       "Z14(4+1)    object\n",
       "Z15(5)      object\n",
       "dtype: object"
      ]
     },
     "execution_count": 34,
     "metadata": {},
     "output_type": "execute_result"
    }
   ],
   "source": [
    "oceny.dtypes"
   ]
  },
  {
   "cell_type": "markdown",
   "metadata": {},
   "source": [
    "Dygresja: czym się różnią metody `apply()` oraz `applymap()` i na czym operują?"
   ]
  },
  {
   "cell_type": "code",
   "execution_count": 35,
   "metadata": {},
   "outputs": [
    {
     "name": "stdout",
     "output_type": "stream",
     "text": [
      "0           Anna\n",
      "1          Rafał\n",
      "2          Pavlo\n",
      "3         Aleksy\n",
      "4       Jarosław\n",
      "5     Bartłomiej\n",
      "6         Łukasz\n",
      "7          Oskar\n",
      "8         Joanna\n",
      "9        Oktawia\n",
      "10        Patryk\n",
      "Name: Imię, dtype: object\n",
      "0               Nowak\n",
      "1            Kowalski\n",
      "2          Wiśniewski\n",
      "3           Dąbrowski\n",
      "4         Lewandowski\n",
      "5              Wójcik\n",
      "6            Kamiński\n",
      "7           Kowalczyk\n",
      "8           Zielińska\n",
      "9           Szymański\n",
      "10            Woźniak\n",
      "Name: Nazwisko, dtype: object\n",
      "0                   2.5+1.0\n",
      "1                   3.0+0.0\n",
      "2                   2.5+0.5\n",
      "3                   0.5+1.0\n",
      "4                   2.0+0.0\n",
      "5                   2.0+1.0\n",
      "6                   4.0+1.0\n",
      "7                   4.0+0.5\n",
      "8                   2.5+0.0\n",
      "9                   2.5+1.0\n",
      "10                  2.0+1.0\n",
      "Name: Z1(4+1), dtype: object\n",
      "0       4.0+1.0\n",
      "1       2.0+0.5\n",
      "2        US+1.0\n",
      "3       1.0+1.0\n",
      "4       3.0+1.0\n",
      "5       2.0+1.0\n",
      "6       2.0+1.0\n",
      "7       4.0+1.0\n",
      "8         US+US\n",
      "9       0.0+0.0\n",
      "10      4.0+1.0\n",
      "Name: Z2(4+1), dtype: object\n",
      "0         2.0+0.0\n",
      "1         2.0+1.0\n",
      "2         2.5+1.0\n",
      "3           NA+NA\n",
      "4         1.0+0.0\n",
      "5         2.5+0.5\n",
      "6         3.5+1.0\n",
      "7         2.0+1.0\n",
      "8         0.5+0.0\n",
      "9         1.0+0.5\n",
      "10        2.5+1.0\n",
      "Name: Z3(4+1), dtype: object\n",
      "0        1.0+2.0\n",
      "1        1.5+1.5\n",
      "2        1.5+1.5\n",
      "3          NA+NA\n",
      "4        1.5+1.5\n",
      "5        1.5+1.5\n",
      "6        1.5+0.5\n",
      "7        4.0+2.0\n",
      "8        1.0+0.0\n",
      "9        0.0+1.5\n",
      "10       3.0+2.0\n",
      "Name: Z4(4+1), dtype: object\n",
      "0        1.5+2.0\n",
      "1        2.0+1.0\n",
      "2        2.0+1.5\n",
      "3          NA+NA\n",
      "4        0.5+0.0\n",
      "5        0.5+1.0\n",
      "6        1.5+0.5\n",
      "7        2.0+1.0\n",
      "8        0.5+1.0\n",
      "9        0.5+0.5\n",
      "10       1.0+0.5\n",
      "Name: Z5(2+2), dtype: object\n",
      "0         2.0+0.0\n",
      "1         1.0+0.5\n",
      "2         3.5+0.0\n",
      "3           NA+NA\n",
      "4        1.25+0.0\n",
      "5        1.75+0.5\n",
      "6          US+1.0\n",
      "7         1.5+0.0\n",
      "8         1.0+0.0\n",
      "9           NB+NB\n",
      "10        1.0+0.5\n",
      "Name: Z6(4+1), dtype: object\n",
      "0          0.0+NB\n",
      "1          0.0+NB\n",
      "2         1.0+1.0\n",
      "3           NA+NA\n",
      "4          0.0+NB\n",
      "5         0.0+1.0\n",
      "6         0.5+1.0\n",
      "7         1.0+1.0\n",
      "8          0.5+NB\n",
      "9          0.0+NB\n",
      "10        1.0+0.5\n",
      "Name: Z7(4+1), dtype: object\n",
      "0        1.5+1.0\n",
      "1        3.0+1.0\n",
      "2        3.0+1.0\n",
      "3          NA+NA\n",
      "4        2.5+0.0\n",
      "5        1.5+1.0\n",
      "6        2.0+1.0\n",
      "7        4.0+1.0\n",
      "8          NB+NB\n",
      "9          NB+NB\n",
      "10       2.0+1.0\n",
      "Name: Z8(4+1), dtype: object\n",
      "0        3.5+0.5\n",
      "1        3.5+1.0\n",
      "2        3.5+1.0\n",
      "3          NA+NA\n",
      "4          NB+NB\n",
      "5        4.0+1.0\n",
      "6        3.5+1.0\n",
      "7        4.0+1.0\n",
      "8          NB+NB\n",
      "9          NB+NB\n",
      "10       4.0+1.0\n",
      "Name: Z9(4+1), dtype: object\n",
      "0        2.0+0.0\n",
      "1         0.0+NB\n",
      "2          ZW+ZW\n",
      "3          NA+NA\n",
      "4          NB+NB\n",
      "5          ZW+ZW\n",
      "6        2.0+0.0\n",
      "7        1.0+0.5\n",
      "8          NB+NB\n",
      "9          NB+NB\n",
      "10       2.0+0.5\n",
      "Name: Z10(4+1), dtype: object\n",
      "0          0.5+1.0\n",
      "1          1.0+1.0\n",
      "2          1.0+0.5\n",
      "3            NA+NA\n",
      "4            NB+NB\n",
      "5          0.5+1.0\n",
      "6          0.5+0.5\n",
      "7           0.0+NB\n",
      "8            NB+NB\n",
      "9            NB+NB\n",
      "10         4.0+1.0\n",
      "Name: Z11(4+1), dtype: object\n",
      "0                    ZW+ZW\n",
      "1        NS.(3.0)+NS.(1.0)\n",
      "2                  3.5+1.0\n",
      "3                    NA+NA\n",
      "4                    NB+NB\n",
      "5                  3.0+0.0\n",
      "6                  3.0+1.0\n",
      "7                  3.5+1.0\n",
      "8                    NB+NB\n",
      "9                    NB+NB\n",
      "10                 4.0+1.0\n",
      "Name: Z12(4+1), dtype: object\n",
      "0                    4.0+0.0\n",
      "1                    4.0+0.0\n",
      "2                    4.0+1.0\n",
      "3                      NA+NA\n",
      "4                      NB+NB\n",
      "5                    4.0+1.0\n",
      "6                    2.0+1.0\n",
      "7                    4.0+1.0\n",
      "8                      NB+NB\n",
      "9                      NB+NB\n",
      "10                   2.0+0.0\n",
      "Name: Z13(5), dtype: object\n",
      "0      4.0+1.0\n",
      "1      4.0+1.0\n",
      "2      4.0+1.0\n",
      "3        NA+NA\n",
      "4        NB+NB\n",
      "5      3.5+0.0\n",
      "6      4.0+1.0\n",
      "7      3.0+0.0\n",
      "8        NB+NB\n",
      "9        NB+NB\n",
      "10     4.0+1.0\n",
      "Name: Z14(4+1), dtype: object\n",
      "0        NA\n",
      "1        NA\n",
      "2        NA\n",
      "3        NA\n",
      "4        NA\n",
      "5        NA\n",
      "6        NA\n",
      "7        NA\n",
      "8        NA\n",
      "9        NA\n",
      "10       NA\n",
      "Name: Z15(5), dtype: object\n"
     ]
    },
    {
     "data": {
      "text/plain": [
       "Imię        None\n",
       "Nazwisko    None\n",
       "Z1(4+1)     None\n",
       "Z2(4+1)     None\n",
       "Z3(4+1)     None\n",
       "Z4(4+1)     None\n",
       "Z5(2+2)     None\n",
       "Z6(4+1)     None\n",
       "Z7(4+1)     None\n",
       "Z8(4+1)     None\n",
       "Z9(4+1)     None\n",
       "Z10(4+1)    None\n",
       "Z11(4+1)    None\n",
       "Z12(4+1)    None\n",
       "Z13(5)      None\n",
       "Z14(4+1)    None\n",
       "Z15(5)      None\n",
       "dtype: object"
      ]
     },
     "execution_count": 35,
     "metadata": {},
     "output_type": "execute_result"
    }
   ],
   "source": [
    "oceny.apply(lambda x: print(x))"
   ]
  },
  {
   "cell_type": "code",
   "execution_count": 36,
   "metadata": {},
   "outputs": [
    {
     "name": "stdout",
     "output_type": "stream",
     "text": [
      "<class 'pandas.core.series.Series'>\n",
      "<class 'pandas.core.series.Series'>\n",
      "<class 'pandas.core.series.Series'>\n",
      "<class 'pandas.core.series.Series'>\n",
      "<class 'pandas.core.series.Series'>\n",
      "<class 'pandas.core.series.Series'>\n",
      "<class 'pandas.core.series.Series'>\n",
      "<class 'pandas.core.series.Series'>\n",
      "<class 'pandas.core.series.Series'>\n",
      "<class 'pandas.core.series.Series'>\n",
      "<class 'pandas.core.series.Series'>\n",
      "<class 'pandas.core.series.Series'>\n",
      "<class 'pandas.core.series.Series'>\n",
      "<class 'pandas.core.series.Series'>\n",
      "<class 'pandas.core.series.Series'>\n",
      "<class 'pandas.core.series.Series'>\n",
      "<class 'pandas.core.series.Series'>\n"
     ]
    },
    {
     "data": {
      "text/plain": [
       "Imię        None\n",
       "Nazwisko    None\n",
       "Z1(4+1)     None\n",
       "Z2(4+1)     None\n",
       "Z3(4+1)     None\n",
       "Z4(4+1)     None\n",
       "Z5(2+2)     None\n",
       "Z6(4+1)     None\n",
       "Z7(4+1)     None\n",
       "Z8(4+1)     None\n",
       "Z9(4+1)     None\n",
       "Z10(4+1)    None\n",
       "Z11(4+1)    None\n",
       "Z12(4+1)    None\n",
       "Z13(5)      None\n",
       "Z14(4+1)    None\n",
       "Z15(5)      None\n",
       "dtype: object"
      ]
     },
     "execution_count": 36,
     "metadata": {},
     "output_type": "execute_result"
    }
   ],
   "source": [
    "oceny.apply(lambda x: print(type(x)))"
   ]
  },
  {
   "cell_type": "code",
   "execution_count": 38,
   "metadata": {},
   "outputs": [
    {
     "name": "stdout",
     "output_type": "stream",
     "text": [
      "Imię                          Anna\n",
      "Nazwisko                     Nowak\n",
      "Z1(4+1)                    2.5+1.0\n",
      "Z2(4+1)                    4.0+1.0\n",
      "Z3(4+1)                    2.0+0.0\n",
      "Z4(4+1)                    1.0+2.0\n",
      "Z5(2+2)                    1.5+2.0\n",
      "Z6(4+1)                    2.0+0.0\n",
      "Z7(4+1)                     0.0+NB\n",
      "Z8(4+1)                    1.5+1.0\n",
      "Z9(4+1)                    3.5+0.5\n",
      "Z10(4+1)                   2.0+0.0\n",
      "Z11(4+1)                   0.5+1.0\n",
      "Z12(4+1)                     ZW+ZW\n",
      "Z13(5)                     4.0+0.0\n",
      "Z14(4+1)                   4.0+1.0\n",
      "Z15(5)                          NA\n",
      "Name: 0, dtype: object\n",
      "Imię                        Rafał\n",
      "Nazwisko                 Kowalski\n",
      "Z1(4+1)                   3.0+0.0\n",
      "Z2(4+1)                   2.0+0.5\n",
      "Z3(4+1)                   2.0+1.0\n",
      "Z4(4+1)                   1.5+1.5\n",
      "Z5(2+2)                   2.0+1.0\n",
      "Z6(4+1)                   1.0+0.5\n",
      "Z7(4+1)                    0.0+NB\n",
      "Z8(4+1)                   3.0+1.0\n",
      "Z9(4+1)                   3.5+1.0\n",
      "Z10(4+1)                   0.0+NB\n",
      "Z11(4+1)                  1.0+1.0\n",
      "Z12(4+1)        NS.(3.0)+NS.(1.0)\n",
      "Z13(5)                    4.0+0.0\n",
      "Z14(4+1)                  4.0+1.0\n",
      "Z15(5)                         NA\n",
      "Name: 1, dtype: object\n",
      "Imię                       Pavlo\n",
      "Nazwisko              Wiśniewski\n",
      "Z1(4+1)                  2.5+0.5\n",
      "Z2(4+1)                   US+1.0\n",
      "Z3(4+1)                  2.5+1.0\n",
      "Z4(4+1)                  1.5+1.5\n",
      "Z5(2+2)                  2.0+1.5\n",
      "Z6(4+1)                  3.5+0.0\n",
      "Z7(4+1)                  1.0+1.0\n",
      "Z8(4+1)                  3.0+1.0\n",
      "Z9(4+1)                  3.5+1.0\n",
      "Z10(4+1)                   ZW+ZW\n",
      "Z11(4+1)                 1.0+0.5\n",
      "Z12(4+1)                 3.5+1.0\n",
      "Z13(5)                   4.0+1.0\n",
      "Z14(4+1)                 4.0+1.0\n",
      "Z15(5)                        NA\n",
      "Name: 2, dtype: object\n",
      "Imię                     Aleksy\n",
      "Nazwisko              Dąbrowski\n",
      "Z1(4+1)                 0.5+1.0\n",
      "Z2(4+1)                 1.0+1.0\n",
      "Z3(4+1)                   NA+NA\n",
      "Z4(4+1)                   NA+NA\n",
      "Z5(2+2)                   NA+NA\n",
      "Z6(4+1)                   NA+NA\n",
      "Z7(4+1)                   NA+NA\n",
      "Z8(4+1)                   NA+NA\n",
      "Z9(4+1)                   NA+NA\n",
      "Z10(4+1)                  NA+NA\n",
      "Z11(4+1)                  NA+NA\n",
      "Z12(4+1)                  NA+NA\n",
      "Z13(5)                    NA+NA\n",
      "Z14(4+1)                  NA+NA\n",
      "Z15(5)                       NA\n",
      "Name: 3, dtype: object\n",
      "Imię                    Jarosław\n",
      "Nazwisko             Lewandowski\n",
      "Z1(4+1)                  2.0+0.0\n",
      "Z2(4+1)                  3.0+1.0\n",
      "Z3(4+1)                  1.0+0.0\n",
      "Z4(4+1)                  1.5+1.5\n",
      "Z5(2+2)                  0.5+0.0\n",
      "Z6(4+1)                 1.25+0.0\n",
      "Z7(4+1)                   0.0+NB\n",
      "Z8(4+1)                  2.5+0.0\n",
      "Z9(4+1)                    NB+NB\n",
      "Z10(4+1)                   NB+NB\n",
      "Z11(4+1)                   NB+NB\n",
      "Z12(4+1)                   NB+NB\n",
      "Z13(5)                     NB+NB\n",
      "Z14(4+1)                   NB+NB\n",
      "Z15(5)                        NA\n",
      "Name: 4, dtype: object\n",
      "Imię                  Bartłomiej\n",
      "Nazwisko                  Wójcik\n",
      "Z1(4+1)                  2.0+1.0\n",
      "Z2(4+1)                  2.0+1.0\n",
      "Z3(4+1)                  2.5+0.5\n",
      "Z4(4+1)                  1.5+1.5\n",
      "Z5(2+2)                  0.5+1.0\n",
      "Z6(4+1)                 1.75+0.5\n",
      "Z7(4+1)                  0.0+1.0\n",
      "Z8(4+1)                  1.5+1.0\n",
      "Z9(4+1)                  4.0+1.0\n",
      "Z10(4+1)                   ZW+ZW\n",
      "Z11(4+1)                 0.5+1.0\n",
      "Z12(4+1)                 3.0+0.0\n",
      "Z13(5)                   4.0+1.0\n",
      "Z14(4+1)                 3.5+0.0\n",
      "Z15(5)                        NA\n",
      "Name: 5, dtype: object\n",
      "Imię                      Łukasz\n",
      "Nazwisko                Kamiński\n",
      "Z1(4+1)                  4.0+1.0\n",
      "Z2(4+1)                  2.0+1.0\n",
      "Z3(4+1)                  3.5+1.0\n",
      "Z4(4+1)                  1.5+0.5\n",
      "Z5(2+2)                  1.5+0.5\n",
      "Z6(4+1)                   US+1.0\n",
      "Z7(4+1)                  0.5+1.0\n",
      "Z8(4+1)                  2.0+1.0\n",
      "Z9(4+1)                  3.5+1.0\n",
      "Z10(4+1)                 2.0+0.0\n",
      "Z11(4+1)                 0.5+0.5\n",
      "Z12(4+1)                 3.0+1.0\n",
      "Z13(5)                   2.0+1.0\n",
      "Z14(4+1)                 4.0+1.0\n",
      "Z15(5)                        NA\n",
      "Name: 6, dtype: object\n",
      "Imię                        Oskar\n",
      "Nazwisko                Kowalczyk\n",
      "Z1(4+1)                   4.0+0.5\n",
      "Z2(4+1)                   4.0+1.0\n",
      "Z3(4+1)                   2.0+1.0\n",
      "Z4(4+1)                   4.0+2.0\n",
      "Z5(2+2)                   2.0+1.0\n",
      "Z6(4+1)                   1.5+0.0\n",
      "Z7(4+1)                   1.0+1.0\n",
      "Z8(4+1)                   4.0+1.0\n",
      "Z9(4+1)                   4.0+1.0\n",
      "Z10(4+1)                  1.0+0.5\n",
      "Z11(4+1)                   0.0+NB\n",
      "Z12(4+1)                  3.5+1.0\n",
      "Z13(5)                    4.0+1.0\n",
      "Z14(4+1)                  3.0+0.0\n",
      "Z15(5)                         NA\n",
      "Name: 7, dtype: object\n",
      "Imię                      Joanna\n",
      "Nazwisko               Zielińska\n",
      "Z1(4+1)                  2.5+0.0\n",
      "Z2(4+1)                    US+US\n",
      "Z3(4+1)                  0.5+0.0\n",
      "Z4(4+1)                  1.0+0.0\n",
      "Z5(2+2)                  0.5+1.0\n",
      "Z6(4+1)                  1.0+0.0\n",
      "Z7(4+1)                   0.5+NB\n",
      "Z8(4+1)                    NB+NB\n",
      "Z9(4+1)                    NB+NB\n",
      "Z10(4+1)                   NB+NB\n",
      "Z11(4+1)                   NB+NB\n",
      "Z12(4+1)                   NB+NB\n",
      "Z13(5)                     NB+NB\n",
      "Z14(4+1)                   NB+NB\n",
      "Z15(5)                        NA\n",
      "Name: 8, dtype: object\n",
      "Imię                     Oktawia\n",
      "Nazwisko               Szymański\n",
      "Z1(4+1)                  2.5+1.0\n",
      "Z2(4+1)                  0.0+0.0\n",
      "Z3(4+1)                  1.0+0.5\n",
      "Z4(4+1)                  0.0+1.5\n",
      "Z5(2+2)                  0.5+0.5\n",
      "Z6(4+1)                    NB+NB\n",
      "Z7(4+1)                   0.0+NB\n",
      "Z8(4+1)                    NB+NB\n",
      "Z9(4+1)                    NB+NB\n",
      "Z10(4+1)                   NB+NB\n",
      "Z11(4+1)                   NB+NB\n",
      "Z12(4+1)                   NB+NB\n",
      "Z13(5)                     NB+NB\n",
      "Z14(4+1)                   NB+NB\n",
      "Z15(5)                        NA\n",
      "Name: 9, dtype: object\n",
      "Imię                      Patryk\n",
      "Nazwisko                 Woźniak\n",
      "Z1(4+1)                  2.0+1.0\n",
      "Z2(4+1)                  4.0+1.0\n",
      "Z3(4+1)                  2.5+1.0\n",
      "Z4(4+1)                  3.0+2.0\n",
      "Z5(2+2)                  1.0+0.5\n",
      "Z6(4+1)                  1.0+0.5\n",
      "Z7(4+1)                  1.0+0.5\n",
      "Z8(4+1)                  2.0+1.0\n",
      "Z9(4+1)                  4.0+1.0\n",
      "Z10(4+1)                 2.0+0.5\n",
      "Z11(4+1)                 4.0+1.0\n",
      "Z12(4+1)                 4.0+1.0\n",
      "Z13(5)                   2.0+0.0\n",
      "Z14(4+1)                 4.0+1.0\n",
      "Z15(5)                        NA\n",
      "Name: 10, dtype: object\n"
     ]
    },
    {
     "data": {
      "text/plain": [
       "0     None\n",
       "1     None\n",
       "2     None\n",
       "3     None\n",
       "4     None\n",
       "5     None\n",
       "6     None\n",
       "7     None\n",
       "8     None\n",
       "9     None\n",
       "10    None\n",
       "dtype: object"
      ]
     },
     "execution_count": 38,
     "metadata": {},
     "output_type": "execute_result"
    }
   ],
   "source": [
    "oceny.apply(lambda x: print(x), axis=1) # axis kontroluje czy to wiersze czy kolumny, tutaj to są wiersze"
   ]
  },
  {
   "cell_type": "code",
   "execution_count": 42,
   "metadata": {},
   "outputs": [
    {
     "name": "stdout",
     "output_type": "stream",
     "text": [
      "Anna\n",
      "Rafał\n",
      "Pavlo\n",
      "Aleksy\n",
      "Jarosław\n",
      "Bartłomiej\n",
      "Łukasz\n",
      "Oskar\n",
      "Joanna\n",
      "Oktawia\n",
      "Patryk\n",
      "      Nowak\n",
      "     Kowalski\n",
      "     Wiśniewski\n",
      "    Dąbrowski\n",
      "  Lewandowski\n",
      "Wójcik\n",
      "    Kamiński\n",
      "     Kowalczyk\n",
      "    Zielińska\n",
      "   Szymański\n",
      "    Woźniak\n",
      "              2.5+1.0\n",
      "              3.0+0.0\n",
      "      2.5+0.5\n",
      "            0.5+1.0\n",
      "    2.0+0.0\n",
      "    2.0+1.0\n",
      "    4.0+1.0\n",
      "              4.0+0.5\n",
      "      2.5+0.0\n",
      "           2.5+1.0\n",
      "            2.0+1.0\n",
      "  4.0+1.0\n",
      "  2.0+0.5\n",
      "  US+1.0\n",
      "  1.0+1.0\n",
      "  3.0+1.0\n",
      "  2.0+1.0\n",
      "  2.0+1.0\n",
      "  4.0+1.0\n",
      "  US+US\n",
      "  0.0+0.0\n",
      "  4.0+1.0\n",
      "    2.0+0.0\n",
      "    2.0+1.0\n",
      "    2.5+1.0\n",
      "    NA+NA\n",
      "    1.0+0.0\n",
      "    2.5+0.5\n",
      "    3.5+1.0\n",
      "    2.0+1.0\n",
      "    0.5+0.0\n",
      "    1.0+0.5\n",
      "    2.5+1.0\n",
      "   1.0+2.0\n",
      "   1.5+1.5\n",
      "   1.5+1.5\n",
      "   NA+NA\n",
      "   1.5+1.5\n",
      "   1.5+1.5\n",
      "   1.5+0.5\n",
      "   4.0+2.0\n",
      "   1.0+0.0\n",
      "   0.0+1.5\n",
      "   3.0+2.0\n",
      "   1.5+2.0\n",
      "   2.0+1.0\n",
      "   2.0+1.5\n",
      "   NA+NA\n",
      "   0.5+0.0\n",
      "   0.5+1.0\n",
      "   1.5+0.5\n",
      "   2.0+1.0\n",
      "   0.5+1.0\n",
      "   0.5+0.5\n",
      "   1.0+0.5\n",
      "   2.0+0.0\n",
      "   1.0+0.5\n",
      "   3.5+0.0\n",
      "   NA+NA\n",
      "   1.25+0.0\n",
      "   1.75+0.5\n",
      "   US+1.0\n",
      "   1.5+0.0\n",
      "   1.0+0.0\n",
      "   NB+NB\n",
      "   1.0+0.5\n",
      "   0.0+NB\n",
      "   0.0+NB\n",
      "   1.0+1.0\n",
      "   NA+NA\n",
      "  0.0+NB\n",
      "  0.0+1.0\n",
      "   0.5+1.0\n",
      "   1.0+1.0\n",
      "   0.5+NB\n",
      "     0.0+NB\n",
      "   1.0+0.5\n",
      "   1.5+1.0\n",
      "   3.0+1.0\n",
      "  3.0+1.0\n",
      "    NA+NA\n",
      "   2.5+0.0\n",
      "  1.5+1.0\n",
      "  2.0+1.0\n",
      "  4.0+1.0\n",
      "   NB+NB\n",
      "   NB+NB\n",
      "  2.0+1.0\n",
      "   3.5+0.5\n",
      "   3.5+1.0\n",
      "   3.5+1.0\n",
      "   NA+NA\n",
      "   NB+NB\n",
      "   4.0+1.0\n",
      "   3.5+1.0\n",
      "   4.0+1.0\n",
      "     NB+NB\n",
      "     NB+NB\n",
      "   4.0+1.0\n",
      "   2.0+0.0\n",
      "   0.0+NB\n",
      "   ZW+ZW\n",
      "   NA+NA\n",
      "     NB+NB\n",
      "   ZW+ZW\n",
      "   2.0+0.0\n",
      "   1.0+0.5\n",
      "     NB+NB\n",
      "     NB+NB\n",
      "   2.0+0.5\n",
      "   0.5+1.0\n",
      "    1.0+1.0\n",
      "     1.0+0.5\n",
      "   NA+NA\n",
      "     NB+NB\n",
      "   0.5+1.0\n",
      "   0.5+0.5\n",
      "   0.0+NB\n",
      "     NB+NB\n",
      "     NB+NB\n",
      "   4.0+1.0\n",
      "   ZW+ZW\n",
      "   NS.(3.0)+NS.(1.0)\n",
      "   3.5+1.0\n",
      "   NA+NA\n",
      "     NB+NB\n",
      "   3.0+0.0\n",
      "   3.0+1.0\n",
      "    3.5+1.0\n",
      "     NB+NB\n",
      "     NB+NB\n",
      "   4.0+1.0\n",
      "               4.0+0.0\n",
      "   4.0+0.0\n",
      "             4.0+1.0\n",
      "   NA+NA\n",
      "               NB+NB\n",
      "             4.0+1.0\n",
      "             2.0+1.0\n",
      "             4.0+1.0\n",
      "               NB+NB\n",
      "               NB+NB\n",
      "             2.0+0.0\n",
      " 4.0+1.0\n",
      " 4.0+1.0\n",
      " 4.0+1.0\n",
      " NA+NA\n",
      "   NB+NB\n",
      " 3.5+0.0\n",
      " 4.0+1.0\n",
      " 3.0+0.0\n",
      "   NB+NB\n",
      "   NB+NB\n",
      " 4.0+1.0\n",
      "   NA\n",
      "   NA\n",
      "   NA\n",
      "   NA\n",
      "   NA\n",
      "   NA\n",
      "   NA\n",
      "   NA\n",
      "   NA\n",
      "   NA\n",
      "   NA\n"
     ]
    },
    {
     "data": {
      "text/html": [
       "<div>\n",
       "<style scoped>\n",
       "    .dataframe tbody tr th:only-of-type {\n",
       "        vertical-align: middle;\n",
       "    }\n",
       "\n",
       "    .dataframe tbody tr th {\n",
       "        vertical-align: top;\n",
       "    }\n",
       "\n",
       "    .dataframe thead th {\n",
       "        text-align: right;\n",
       "    }\n",
       "</style>\n",
       "<table border=\"1\" class=\"dataframe\">\n",
       "  <thead>\n",
       "    <tr style=\"text-align: right;\">\n",
       "      <th></th>\n",
       "      <th>Imię</th>\n",
       "      <th>Nazwisko</th>\n",
       "      <th>Z1(4+1)</th>\n",
       "      <th>Z2(4+1)</th>\n",
       "      <th>Z3(4+1)</th>\n",
       "      <th>Z4(4+1)</th>\n",
       "      <th>Z5(2+2)</th>\n",
       "      <th>Z6(4+1)</th>\n",
       "      <th>Z7(4+1)</th>\n",
       "      <th>Z8(4+1)</th>\n",
       "      <th>Z9(4+1)</th>\n",
       "      <th>Z10(4+1)</th>\n",
       "      <th>Z11(4+1)</th>\n",
       "      <th>Z12(4+1)</th>\n",
       "      <th>Z13(5)</th>\n",
       "      <th>Z14(4+1)</th>\n",
       "      <th>Z15(5)</th>\n",
       "    </tr>\n",
       "  </thead>\n",
       "  <tbody>\n",
       "    <tr>\n",
       "      <th>0</th>\n",
       "      <td>None</td>\n",
       "      <td>None</td>\n",
       "      <td>None</td>\n",
       "      <td>None</td>\n",
       "      <td>None</td>\n",
       "      <td>None</td>\n",
       "      <td>None</td>\n",
       "      <td>None</td>\n",
       "      <td>None</td>\n",
       "      <td>None</td>\n",
       "      <td>None</td>\n",
       "      <td>None</td>\n",
       "      <td>None</td>\n",
       "      <td>None</td>\n",
       "      <td>None</td>\n",
       "      <td>None</td>\n",
       "      <td>None</td>\n",
       "    </tr>\n",
       "    <tr>\n",
       "      <th>1</th>\n",
       "      <td>None</td>\n",
       "      <td>None</td>\n",
       "      <td>None</td>\n",
       "      <td>None</td>\n",
       "      <td>None</td>\n",
       "      <td>None</td>\n",
       "      <td>None</td>\n",
       "      <td>None</td>\n",
       "      <td>None</td>\n",
       "      <td>None</td>\n",
       "      <td>None</td>\n",
       "      <td>None</td>\n",
       "      <td>None</td>\n",
       "      <td>None</td>\n",
       "      <td>None</td>\n",
       "      <td>None</td>\n",
       "      <td>None</td>\n",
       "    </tr>\n",
       "    <tr>\n",
       "      <th>2</th>\n",
       "      <td>None</td>\n",
       "      <td>None</td>\n",
       "      <td>None</td>\n",
       "      <td>None</td>\n",
       "      <td>None</td>\n",
       "      <td>None</td>\n",
       "      <td>None</td>\n",
       "      <td>None</td>\n",
       "      <td>None</td>\n",
       "      <td>None</td>\n",
       "      <td>None</td>\n",
       "      <td>None</td>\n",
       "      <td>None</td>\n",
       "      <td>None</td>\n",
       "      <td>None</td>\n",
       "      <td>None</td>\n",
       "      <td>None</td>\n",
       "    </tr>\n",
       "    <tr>\n",
       "      <th>3</th>\n",
       "      <td>None</td>\n",
       "      <td>None</td>\n",
       "      <td>None</td>\n",
       "      <td>None</td>\n",
       "      <td>None</td>\n",
       "      <td>None</td>\n",
       "      <td>None</td>\n",
       "      <td>None</td>\n",
       "      <td>None</td>\n",
       "      <td>None</td>\n",
       "      <td>None</td>\n",
       "      <td>None</td>\n",
       "      <td>None</td>\n",
       "      <td>None</td>\n",
       "      <td>None</td>\n",
       "      <td>None</td>\n",
       "      <td>None</td>\n",
       "    </tr>\n",
       "    <tr>\n",
       "      <th>4</th>\n",
       "      <td>None</td>\n",
       "      <td>None</td>\n",
       "      <td>None</td>\n",
       "      <td>None</td>\n",
       "      <td>None</td>\n",
       "      <td>None</td>\n",
       "      <td>None</td>\n",
       "      <td>None</td>\n",
       "      <td>None</td>\n",
       "      <td>None</td>\n",
       "      <td>None</td>\n",
       "      <td>None</td>\n",
       "      <td>None</td>\n",
       "      <td>None</td>\n",
       "      <td>None</td>\n",
       "      <td>None</td>\n",
       "      <td>None</td>\n",
       "    </tr>\n",
       "    <tr>\n",
       "      <th>5</th>\n",
       "      <td>None</td>\n",
       "      <td>None</td>\n",
       "      <td>None</td>\n",
       "      <td>None</td>\n",
       "      <td>None</td>\n",
       "      <td>None</td>\n",
       "      <td>None</td>\n",
       "      <td>None</td>\n",
       "      <td>None</td>\n",
       "      <td>None</td>\n",
       "      <td>None</td>\n",
       "      <td>None</td>\n",
       "      <td>None</td>\n",
       "      <td>None</td>\n",
       "      <td>None</td>\n",
       "      <td>None</td>\n",
       "      <td>None</td>\n",
       "    </tr>\n",
       "    <tr>\n",
       "      <th>6</th>\n",
       "      <td>None</td>\n",
       "      <td>None</td>\n",
       "      <td>None</td>\n",
       "      <td>None</td>\n",
       "      <td>None</td>\n",
       "      <td>None</td>\n",
       "      <td>None</td>\n",
       "      <td>None</td>\n",
       "      <td>None</td>\n",
       "      <td>None</td>\n",
       "      <td>None</td>\n",
       "      <td>None</td>\n",
       "      <td>None</td>\n",
       "      <td>None</td>\n",
       "      <td>None</td>\n",
       "      <td>None</td>\n",
       "      <td>None</td>\n",
       "    </tr>\n",
       "    <tr>\n",
       "      <th>7</th>\n",
       "      <td>None</td>\n",
       "      <td>None</td>\n",
       "      <td>None</td>\n",
       "      <td>None</td>\n",
       "      <td>None</td>\n",
       "      <td>None</td>\n",
       "      <td>None</td>\n",
       "      <td>None</td>\n",
       "      <td>None</td>\n",
       "      <td>None</td>\n",
       "      <td>None</td>\n",
       "      <td>None</td>\n",
       "      <td>None</td>\n",
       "      <td>None</td>\n",
       "      <td>None</td>\n",
       "      <td>None</td>\n",
       "      <td>None</td>\n",
       "    </tr>\n",
       "    <tr>\n",
       "      <th>8</th>\n",
       "      <td>None</td>\n",
       "      <td>None</td>\n",
       "      <td>None</td>\n",
       "      <td>None</td>\n",
       "      <td>None</td>\n",
       "      <td>None</td>\n",
       "      <td>None</td>\n",
       "      <td>None</td>\n",
       "      <td>None</td>\n",
       "      <td>None</td>\n",
       "      <td>None</td>\n",
       "      <td>None</td>\n",
       "      <td>None</td>\n",
       "      <td>None</td>\n",
       "      <td>None</td>\n",
       "      <td>None</td>\n",
       "      <td>None</td>\n",
       "    </tr>\n",
       "    <tr>\n",
       "      <th>9</th>\n",
       "      <td>None</td>\n",
       "      <td>None</td>\n",
       "      <td>None</td>\n",
       "      <td>None</td>\n",
       "      <td>None</td>\n",
       "      <td>None</td>\n",
       "      <td>None</td>\n",
       "      <td>None</td>\n",
       "      <td>None</td>\n",
       "      <td>None</td>\n",
       "      <td>None</td>\n",
       "      <td>None</td>\n",
       "      <td>None</td>\n",
       "      <td>None</td>\n",
       "      <td>None</td>\n",
       "      <td>None</td>\n",
       "      <td>None</td>\n",
       "    </tr>\n",
       "    <tr>\n",
       "      <th>10</th>\n",
       "      <td>None</td>\n",
       "      <td>None</td>\n",
       "      <td>None</td>\n",
       "      <td>None</td>\n",
       "      <td>None</td>\n",
       "      <td>None</td>\n",
       "      <td>None</td>\n",
       "      <td>None</td>\n",
       "      <td>None</td>\n",
       "      <td>None</td>\n",
       "      <td>None</td>\n",
       "      <td>None</td>\n",
       "      <td>None</td>\n",
       "      <td>None</td>\n",
       "      <td>None</td>\n",
       "      <td>None</td>\n",
       "      <td>None</td>\n",
       "    </tr>\n",
       "  </tbody>\n",
       "</table>\n",
       "</div>"
      ],
      "text/plain": [
       "    Imię Nazwisko Z1(4+1) Z2(4+1) Z3(4+1) Z4(4+1) Z5(2+2) Z6(4+1) Z7(4+1)  \\\n",
       "0   None     None    None    None    None    None    None    None    None   \n",
       "1   None     None    None    None    None    None    None    None    None   \n",
       "2   None     None    None    None    None    None    None    None    None   \n",
       "3   None     None    None    None    None    None    None    None    None   \n",
       "4   None     None    None    None    None    None    None    None    None   \n",
       "5   None     None    None    None    None    None    None    None    None   \n",
       "6   None     None    None    None    None    None    None    None    None   \n",
       "7   None     None    None    None    None    None    None    None    None   \n",
       "8   None     None    None    None    None    None    None    None    None   \n",
       "9   None     None    None    None    None    None    None    None    None   \n",
       "10  None     None    None    None    None    None    None    None    None   \n",
       "\n",
       "   Z8(4+1) Z9(4+1) Z10(4+1) Z11(4+1) Z12(4+1) Z13(5) Z14(4+1) Z15(5)  \n",
       "0     None    None     None     None     None   None     None   None  \n",
       "1     None    None     None     None     None   None     None   None  \n",
       "2     None    None     None     None     None   None     None   None  \n",
       "3     None    None     None     None     None   None     None   None  \n",
       "4     None    None     None     None     None   None     None   None  \n",
       "5     None    None     None     None     None   None     None   None  \n",
       "6     None    None     None     None     None   None     None   None  \n",
       "7     None    None     None     None     None   None     None   None  \n",
       "8     None    None     None     None     None   None     None   None  \n",
       "9     None    None     None     None     None   None     None   None  \n",
       "10    None    None     None     None     None   None     None   None  "
      ]
     },
     "execution_count": 42,
     "metadata": {},
     "output_type": "execute_result"
    }
   ],
   "source": [
    "oceny.applymap(lambda x: print(x)) # działa na pojedyńczych komórkach"
   ]
  },
  {
   "cell_type": "markdown",
   "metadata": {},
   "source": [
    "Jak zastosować stripa typlko na kolumnach pewnego typu?"
   ]
  },
  {
   "cell_type": "code",
   "execution_count": 45,
   "metadata": {},
   "outputs": [],
   "source": [
    "x = 11\n",
    "zmienna = 22 if x > 10 else 33"
   ]
  },
  {
   "cell_type": "code",
   "execution_count": 46,
   "metadata": {},
   "outputs": [
    {
     "data": {
      "text/plain": [
       "22"
      ]
     },
     "execution_count": 46,
     "metadata": {},
     "output_type": "execute_result"
    }
   ],
   "source": [
    "zmienna"
   ]
  },
  {
   "cell_type": "code",
   "execution_count": 47,
   "metadata": {},
   "outputs": [
    {
     "data": {
      "text/plain": [
       "22"
      ]
     },
     "execution_count": 47,
     "metadata": {},
     "output_type": "execute_result"
    }
   ],
   "source": [
    "if x > 10:\n",
    "    zmienna = 22\n",
    "else:\n",
    "    zmienna = 33\n",
    "zmienna"
   ]
  },
  {
   "cell_type": "code",
   "execution_count": 48,
   "metadata": {},
   "outputs": [],
   "source": [
    "x = \"     Janek   \""
   ]
  },
  {
   "cell_type": "code",
   "execution_count": 49,
   "metadata": {},
   "outputs": [
    {
     "data": {
      "text/plain": [
       "'Janek'"
      ]
     },
     "execution_count": 49,
     "metadata": {},
     "output_type": "execute_result"
    }
   ],
   "source": [
    "\"     Janek   \".strip()"
   ]
  },
  {
   "cell_type": "code",
   "execution_count": 50,
   "metadata": {},
   "outputs": [],
   "source": [
    "zmienna = x.strip() if isinstance(x, str) else x"
   ]
  },
  {
   "cell_type": "code",
   "execution_count": 51,
   "metadata": {},
   "outputs": [
    {
     "data": {
      "text/plain": [
       "'Janek'"
      ]
     },
     "execution_count": 51,
     "metadata": {},
     "output_type": "execute_result"
    }
   ],
   "source": [
    "zmienna"
   ]
  },
  {
   "cell_type": "code",
   "execution_count": 52,
   "metadata": {},
   "outputs": [],
   "source": [
    "x = 6"
   ]
  },
  {
   "cell_type": "code",
   "execution_count": 53,
   "metadata": {},
   "outputs": [],
   "source": [
    "zmienna = x.strip() if isinstance(x, str) else x"
   ]
  },
  {
   "cell_type": "code",
   "execution_count": 54,
   "metadata": {},
   "outputs": [
    {
     "data": {
      "text/plain": [
       "6"
      ]
     },
     "execution_count": 54,
     "metadata": {},
     "output_type": "execute_result"
    }
   ],
   "source": [
    "zmienna"
   ]
  },
  {
   "cell_type": "code",
   "execution_count": 55,
   "metadata": {},
   "outputs": [
    {
     "ename": "AttributeError",
     "evalue": "'int' object has no attribute 'strip'",
     "output_type": "error",
     "traceback": [
      "\u001b[0;31m---------------------------------------------------------------------------\u001b[0m",
      "\u001b[0;31mAttributeError\u001b[0m                            Traceback (most recent call last)",
      "\u001b[0;32m<ipython-input-55-2fe90504e38e>\u001b[0m in \u001b[0;36m<module>\u001b[0;34m\u001b[0m\n\u001b[0;32m----> 1\u001b[0;31m \u001b[0mx\u001b[0m\u001b[0;34m.\u001b[0m\u001b[0mstrip\u001b[0m\u001b[0;34m(\u001b[0m\u001b[0;34m)\u001b[0m\u001b[0;34m\u001b[0m\u001b[0;34m\u001b[0m\u001b[0m\n\u001b[0m",
      "\u001b[0;31mAttributeError\u001b[0m: 'int' object has no attribute 'strip'"
     ]
    }
   ],
   "source": [
    "x.strip()"
   ]
  },
  {
   "cell_type": "code",
   "execution_count": 60,
   "metadata": {},
   "outputs": [],
   "source": [
    "df = oceny.applymap(lambda pojedynczy_napis: pojedynczy_napis.strip() if isinstance(pojedynczy_napis, str) else pojedynczy_napis)"
   ]
  },
  {
   "cell_type": "code",
   "execution_count": 61,
   "metadata": {},
   "outputs": [
    {
     "data": {
      "text/plain": [
       "array(['Nowak', 'Kowalski', 'Wiśniewski', 'Dąbrowski', 'Lewandowski',\n",
       "       'Wójcik', 'Kamiński', 'Kowalczyk', 'Zielińska', 'Szymański',\n",
       "       'Woźniak'], dtype=object)"
      ]
     },
     "execution_count": 61,
     "metadata": {},
     "output_type": "execute_result"
    }
   ],
   "source": [
    "df.Nazwisko.values"
   ]
  },
  {
   "cell_type": "code",
   "execution_count": 62,
   "metadata": {},
   "outputs": [
    {
     "data": {
      "text/html": [
       "<div>\n",
       "<style scoped>\n",
       "    .dataframe tbody tr th:only-of-type {\n",
       "        vertical-align: middle;\n",
       "    }\n",
       "\n",
       "    .dataframe tbody tr th {\n",
       "        vertical-align: top;\n",
       "    }\n",
       "\n",
       "    .dataframe thead th {\n",
       "        text-align: right;\n",
       "    }\n",
       "</style>\n",
       "<table border=\"1\" class=\"dataframe\">\n",
       "  <thead>\n",
       "    <tr style=\"text-align: right;\">\n",
       "      <th></th>\n",
       "      <th>Imię</th>\n",
       "      <th>Nazwisko</th>\n",
       "      <th>Z1(4+1)</th>\n",
       "      <th>Z2(4+1)</th>\n",
       "      <th>Z3(4+1)</th>\n",
       "      <th>Z4(4+1)</th>\n",
       "      <th>Z5(2+2)</th>\n",
       "      <th>Z6(4+1)</th>\n",
       "      <th>Z7(4+1)</th>\n",
       "      <th>Z8(4+1)</th>\n",
       "      <th>Z9(4+1)</th>\n",
       "      <th>Z10(4+1)</th>\n",
       "      <th>Z11(4+1)</th>\n",
       "      <th>Z12(4+1)</th>\n",
       "      <th>Z13(5)</th>\n",
       "      <th>Z14(4+1)</th>\n",
       "      <th>Z15(5)</th>\n",
       "    </tr>\n",
       "  </thead>\n",
       "  <tbody>\n",
       "    <tr>\n",
       "      <th>0</th>\n",
       "      <td>Anna</td>\n",
       "      <td>Nowak</td>\n",
       "      <td>2.5+1.0</td>\n",
       "      <td>4.0+1.0</td>\n",
       "      <td>2.0+0.0</td>\n",
       "      <td>1.0+2.0</td>\n",
       "      <td>1.5+2.0</td>\n",
       "      <td>2.0+0.0</td>\n",
       "      <td>0.0+NB</td>\n",
       "      <td>1.5+1.0</td>\n",
       "      <td>3.5+0.5</td>\n",
       "      <td>2.0+0.0</td>\n",
       "      <td>0.5+1.0</td>\n",
       "      <td>ZW+ZW</td>\n",
       "      <td>4.0+0.0</td>\n",
       "      <td>4.0+1.0</td>\n",
       "      <td>NA</td>\n",
       "    </tr>\n",
       "    <tr>\n",
       "      <th>1</th>\n",
       "      <td>Rafał</td>\n",
       "      <td>Kowalski</td>\n",
       "      <td>3.0+0.0</td>\n",
       "      <td>2.0+0.5</td>\n",
       "      <td>2.0+1.0</td>\n",
       "      <td>1.5+1.5</td>\n",
       "      <td>2.0+1.0</td>\n",
       "      <td>1.0+0.5</td>\n",
       "      <td>0.0+NB</td>\n",
       "      <td>3.0+1.0</td>\n",
       "      <td>3.5+1.0</td>\n",
       "      <td>0.0+NB</td>\n",
       "      <td>1.0+1.0</td>\n",
       "      <td>NS.(3.0)+NS.(1.0)</td>\n",
       "      <td>4.0+0.0</td>\n",
       "      <td>4.0+1.0</td>\n",
       "      <td>NA</td>\n",
       "    </tr>\n",
       "    <tr>\n",
       "      <th>2</th>\n",
       "      <td>Pavlo</td>\n",
       "      <td>Wiśniewski</td>\n",
       "      <td>2.5+0.5</td>\n",
       "      <td>US+1.0</td>\n",
       "      <td>2.5+1.0</td>\n",
       "      <td>1.5+1.5</td>\n",
       "      <td>2.0+1.5</td>\n",
       "      <td>3.5+0.0</td>\n",
       "      <td>1.0+1.0</td>\n",
       "      <td>3.0+1.0</td>\n",
       "      <td>3.5+1.0</td>\n",
       "      <td>ZW+ZW</td>\n",
       "      <td>1.0+0.5</td>\n",
       "      <td>3.5+1.0</td>\n",
       "      <td>4.0+1.0</td>\n",
       "      <td>4.0+1.0</td>\n",
       "      <td>NA</td>\n",
       "    </tr>\n",
       "    <tr>\n",
       "      <th>3</th>\n",
       "      <td>Aleksy</td>\n",
       "      <td>Dąbrowski</td>\n",
       "      <td>0.5+1.0</td>\n",
       "      <td>1.0+1.0</td>\n",
       "      <td>NA+NA</td>\n",
       "      <td>NA+NA</td>\n",
       "      <td>NA+NA</td>\n",
       "      <td>NA+NA</td>\n",
       "      <td>NA+NA</td>\n",
       "      <td>NA+NA</td>\n",
       "      <td>NA+NA</td>\n",
       "      <td>NA+NA</td>\n",
       "      <td>NA+NA</td>\n",
       "      <td>NA+NA</td>\n",
       "      <td>NA+NA</td>\n",
       "      <td>NA+NA</td>\n",
       "      <td>NA</td>\n",
       "    </tr>\n",
       "    <tr>\n",
       "      <th>4</th>\n",
       "      <td>Jarosław</td>\n",
       "      <td>Lewandowski</td>\n",
       "      <td>2.0+0.0</td>\n",
       "      <td>3.0+1.0</td>\n",
       "      <td>1.0+0.0</td>\n",
       "      <td>1.5+1.5</td>\n",
       "      <td>0.5+0.0</td>\n",
       "      <td>1.25+0.0</td>\n",
       "      <td>0.0+NB</td>\n",
       "      <td>2.5+0.0</td>\n",
       "      <td>NB+NB</td>\n",
       "      <td>NB+NB</td>\n",
       "      <td>NB+NB</td>\n",
       "      <td>NB+NB</td>\n",
       "      <td>NB+NB</td>\n",
       "      <td>NB+NB</td>\n",
       "      <td>NA</td>\n",
       "    </tr>\n",
       "    <tr>\n",
       "      <th>5</th>\n",
       "      <td>Bartłomiej</td>\n",
       "      <td>Wójcik</td>\n",
       "      <td>2.0+1.0</td>\n",
       "      <td>2.0+1.0</td>\n",
       "      <td>2.5+0.5</td>\n",
       "      <td>1.5+1.5</td>\n",
       "      <td>0.5+1.0</td>\n",
       "      <td>1.75+0.5</td>\n",
       "      <td>0.0+1.0</td>\n",
       "      <td>1.5+1.0</td>\n",
       "      <td>4.0+1.0</td>\n",
       "      <td>ZW+ZW</td>\n",
       "      <td>0.5+1.0</td>\n",
       "      <td>3.0+0.0</td>\n",
       "      <td>4.0+1.0</td>\n",
       "      <td>3.5+0.0</td>\n",
       "      <td>NA</td>\n",
       "    </tr>\n",
       "    <tr>\n",
       "      <th>6</th>\n",
       "      <td>Łukasz</td>\n",
       "      <td>Kamiński</td>\n",
       "      <td>4.0+1.0</td>\n",
       "      <td>2.0+1.0</td>\n",
       "      <td>3.5+1.0</td>\n",
       "      <td>1.5+0.5</td>\n",
       "      <td>1.5+0.5</td>\n",
       "      <td>US+1.0</td>\n",
       "      <td>0.5+1.0</td>\n",
       "      <td>2.0+1.0</td>\n",
       "      <td>3.5+1.0</td>\n",
       "      <td>2.0+0.0</td>\n",
       "      <td>0.5+0.5</td>\n",
       "      <td>3.0+1.0</td>\n",
       "      <td>2.0+1.0</td>\n",
       "      <td>4.0+1.0</td>\n",
       "      <td>NA</td>\n",
       "    </tr>\n",
       "    <tr>\n",
       "      <th>7</th>\n",
       "      <td>Oskar</td>\n",
       "      <td>Kowalczyk</td>\n",
       "      <td>4.0+0.5</td>\n",
       "      <td>4.0+1.0</td>\n",
       "      <td>2.0+1.0</td>\n",
       "      <td>4.0+2.0</td>\n",
       "      <td>2.0+1.0</td>\n",
       "      <td>1.5+0.0</td>\n",
       "      <td>1.0+1.0</td>\n",
       "      <td>4.0+1.0</td>\n",
       "      <td>4.0+1.0</td>\n",
       "      <td>1.0+0.5</td>\n",
       "      <td>0.0+NB</td>\n",
       "      <td>3.5+1.0</td>\n",
       "      <td>4.0+1.0</td>\n",
       "      <td>3.0+0.0</td>\n",
       "      <td>NA</td>\n",
       "    </tr>\n",
       "    <tr>\n",
       "      <th>8</th>\n",
       "      <td>Joanna</td>\n",
       "      <td>Zielińska</td>\n",
       "      <td>2.5+0.0</td>\n",
       "      <td>US+US</td>\n",
       "      <td>0.5+0.0</td>\n",
       "      <td>1.0+0.0</td>\n",
       "      <td>0.5+1.0</td>\n",
       "      <td>1.0+0.0</td>\n",
       "      <td>0.5+NB</td>\n",
       "      <td>NB+NB</td>\n",
       "      <td>NB+NB</td>\n",
       "      <td>NB+NB</td>\n",
       "      <td>NB+NB</td>\n",
       "      <td>NB+NB</td>\n",
       "      <td>NB+NB</td>\n",
       "      <td>NB+NB</td>\n",
       "      <td>NA</td>\n",
       "    </tr>\n",
       "    <tr>\n",
       "      <th>9</th>\n",
       "      <td>Oktawia</td>\n",
       "      <td>Szymański</td>\n",
       "      <td>2.5+1.0</td>\n",
       "      <td>0.0+0.0</td>\n",
       "      <td>1.0+0.5</td>\n",
       "      <td>0.0+1.5</td>\n",
       "      <td>0.5+0.5</td>\n",
       "      <td>NB+NB</td>\n",
       "      <td>0.0+NB</td>\n",
       "      <td>NB+NB</td>\n",
       "      <td>NB+NB</td>\n",
       "      <td>NB+NB</td>\n",
       "      <td>NB+NB</td>\n",
       "      <td>NB+NB</td>\n",
       "      <td>NB+NB</td>\n",
       "      <td>NB+NB</td>\n",
       "      <td>NA</td>\n",
       "    </tr>\n",
       "    <tr>\n",
       "      <th>10</th>\n",
       "      <td>Patryk</td>\n",
       "      <td>Woźniak</td>\n",
       "      <td>2.0+1.0</td>\n",
       "      <td>4.0+1.0</td>\n",
       "      <td>2.5+1.0</td>\n",
       "      <td>3.0+2.0</td>\n",
       "      <td>1.0+0.5</td>\n",
       "      <td>1.0+0.5</td>\n",
       "      <td>1.0+0.5</td>\n",
       "      <td>2.0+1.0</td>\n",
       "      <td>4.0+1.0</td>\n",
       "      <td>2.0+0.5</td>\n",
       "      <td>4.0+1.0</td>\n",
       "      <td>4.0+1.0</td>\n",
       "      <td>2.0+0.0</td>\n",
       "      <td>4.0+1.0</td>\n",
       "      <td>NA</td>\n",
       "    </tr>\n",
       "  </tbody>\n",
       "</table>\n",
       "</div>"
      ],
      "text/plain": [
       "          Imię     Nazwisko  Z1(4+1)  Z2(4+1)  Z3(4+1)  Z4(4+1)  Z5(2+2)  \\\n",
       "0         Anna        Nowak  2.5+1.0  4.0+1.0  2.0+0.0  1.0+2.0  1.5+2.0   \n",
       "1        Rafał     Kowalski  3.0+0.0  2.0+0.5  2.0+1.0  1.5+1.5  2.0+1.0   \n",
       "2        Pavlo   Wiśniewski  2.5+0.5   US+1.0  2.5+1.0  1.5+1.5  2.0+1.5   \n",
       "3       Aleksy    Dąbrowski  0.5+1.0  1.0+1.0    NA+NA    NA+NA    NA+NA   \n",
       "4     Jarosław  Lewandowski  2.0+0.0  3.0+1.0  1.0+0.0  1.5+1.5  0.5+0.0   \n",
       "5   Bartłomiej       Wójcik  2.0+1.0  2.0+1.0  2.5+0.5  1.5+1.5  0.5+1.0   \n",
       "6       Łukasz     Kamiński  4.0+1.0  2.0+1.0  3.5+1.0  1.5+0.5  1.5+0.5   \n",
       "7        Oskar    Kowalczyk  4.0+0.5  4.0+1.0  2.0+1.0  4.0+2.0  2.0+1.0   \n",
       "8       Joanna    Zielińska  2.5+0.0    US+US  0.5+0.0  1.0+0.0  0.5+1.0   \n",
       "9      Oktawia    Szymański  2.5+1.0  0.0+0.0  1.0+0.5  0.0+1.5  0.5+0.5   \n",
       "10      Patryk      Woźniak  2.0+1.0  4.0+1.0  2.5+1.0  3.0+2.0  1.0+0.5   \n",
       "\n",
       "     Z6(4+1)  Z7(4+1)  Z8(4+1)  Z9(4+1) Z10(4+1) Z11(4+1)           Z12(4+1)  \\\n",
       "0    2.0+0.0   0.0+NB  1.5+1.0  3.5+0.5  2.0+0.0  0.5+1.0              ZW+ZW   \n",
       "1    1.0+0.5   0.0+NB  3.0+1.0  3.5+1.0   0.0+NB  1.0+1.0  NS.(3.0)+NS.(1.0)   \n",
       "2    3.5+0.0  1.0+1.0  3.0+1.0  3.5+1.0    ZW+ZW  1.0+0.5            3.5+1.0   \n",
       "3      NA+NA    NA+NA    NA+NA    NA+NA    NA+NA    NA+NA              NA+NA   \n",
       "4   1.25+0.0   0.0+NB  2.5+0.0    NB+NB    NB+NB    NB+NB              NB+NB   \n",
       "5   1.75+0.5  0.0+1.0  1.5+1.0  4.0+1.0    ZW+ZW  0.5+1.0            3.0+0.0   \n",
       "6     US+1.0  0.5+1.0  2.0+1.0  3.5+1.0  2.0+0.0  0.5+0.5            3.0+1.0   \n",
       "7    1.5+0.0  1.0+1.0  4.0+1.0  4.0+1.0  1.0+0.5   0.0+NB            3.5+1.0   \n",
       "8    1.0+0.0   0.5+NB    NB+NB    NB+NB    NB+NB    NB+NB              NB+NB   \n",
       "9      NB+NB   0.0+NB    NB+NB    NB+NB    NB+NB    NB+NB              NB+NB   \n",
       "10   1.0+0.5  1.0+0.5  2.0+1.0  4.0+1.0  2.0+0.5  4.0+1.0            4.0+1.0   \n",
       "\n",
       "     Z13(5) Z14(4+1) Z15(5)  \n",
       "0   4.0+0.0  4.0+1.0     NA  \n",
       "1   4.0+0.0  4.0+1.0     NA  \n",
       "2   4.0+1.0  4.0+1.0     NA  \n",
       "3     NA+NA    NA+NA     NA  \n",
       "4     NB+NB    NB+NB     NA  \n",
       "5   4.0+1.0  3.5+0.0     NA  \n",
       "6   2.0+1.0  4.0+1.0     NA  \n",
       "7   4.0+1.0  3.0+0.0     NA  \n",
       "8     NB+NB    NB+NB     NA  \n",
       "9     NB+NB    NB+NB     NA  \n",
       "10  2.0+0.0  4.0+1.0     NA  "
      ]
     },
     "execution_count": 62,
     "metadata": {},
     "output_type": "execute_result"
    }
   ],
   "source": [
    "oceny.applymap(lambda pojedynczy_napis: pojedynczy_napis.strip() if isinstance(pojedynczy_napis, str) else pojedynczy_napis)"
   ]
  },
  {
   "cell_type": "code",
   "execution_count": 70,
   "metadata": {},
   "outputs": [],
   "source": [
    "oceny[\"float\"] = 1.0\n",
    "oceny[\"int\"] = 1"
   ]
  },
  {
   "cell_type": "code",
   "execution_count": 71,
   "metadata": {},
   "outputs": [
    {
     "data": {
      "text/html": [
       "<div>\n",
       "<style scoped>\n",
       "    .dataframe tbody tr th:only-of-type {\n",
       "        vertical-align: middle;\n",
       "    }\n",
       "\n",
       "    .dataframe tbody tr th {\n",
       "        vertical-align: top;\n",
       "    }\n",
       "\n",
       "    .dataframe thead th {\n",
       "        text-align: right;\n",
       "    }\n",
       "</style>\n",
       "<table border=\"1\" class=\"dataframe\">\n",
       "  <thead>\n",
       "    <tr style=\"text-align: right;\">\n",
       "      <th></th>\n",
       "      <th>Imię</th>\n",
       "      <th>Nazwisko</th>\n",
       "      <th>Z1(4+1)</th>\n",
       "      <th>Z2(4+1)</th>\n",
       "      <th>Z3(4+1)</th>\n",
       "      <th>Z4(4+1)</th>\n",
       "      <th>Z5(2+2)</th>\n",
       "      <th>Z6(4+1)</th>\n",
       "      <th>Z7(4+1)</th>\n",
       "      <th>Z8(4+1)</th>\n",
       "      <th>Z9(4+1)</th>\n",
       "      <th>Z10(4+1)</th>\n",
       "      <th>Z11(4+1)</th>\n",
       "      <th>Z12(4+1)</th>\n",
       "      <th>Z13(5)</th>\n",
       "      <th>Z14(4+1)</th>\n",
       "      <th>Z15(5)</th>\n",
       "      <th>float</th>\n",
       "      <th>int</th>\n",
       "    </tr>\n",
       "  </thead>\n",
       "  <tbody>\n",
       "    <tr>\n",
       "      <th>0</th>\n",
       "      <td>Anna</td>\n",
       "      <td>Nowak</td>\n",
       "      <td>2.5+1.0</td>\n",
       "      <td>4.0+1.0</td>\n",
       "      <td>2.0+0.0</td>\n",
       "      <td>1.0+2.0</td>\n",
       "      <td>1.5+2.0</td>\n",
       "      <td>2.0+0.0</td>\n",
       "      <td>0.0+NB</td>\n",
       "      <td>1.5+1.0</td>\n",
       "      <td>3.5+0.5</td>\n",
       "      <td>2.0+0.0</td>\n",
       "      <td>0.5+1.0</td>\n",
       "      <td>ZW+ZW</td>\n",
       "      <td>4.0+0.0</td>\n",
       "      <td>4.0+1.0</td>\n",
       "      <td>NA</td>\n",
       "      <td>1.0</td>\n",
       "      <td>1</td>\n",
       "    </tr>\n",
       "    <tr>\n",
       "      <th>1</th>\n",
       "      <td>Rafał</td>\n",
       "      <td>Kowalski</td>\n",
       "      <td>3.0+0.0</td>\n",
       "      <td>2.0+0.5</td>\n",
       "      <td>2.0+1.0</td>\n",
       "      <td>1.5+1.5</td>\n",
       "      <td>2.0+1.0</td>\n",
       "      <td>1.0+0.5</td>\n",
       "      <td>0.0+NB</td>\n",
       "      <td>3.0+1.0</td>\n",
       "      <td>3.5+1.0</td>\n",
       "      <td>0.0+NB</td>\n",
       "      <td>1.0+1.0</td>\n",
       "      <td>NS.(3.0)+NS.(1.0)</td>\n",
       "      <td>4.0+0.0</td>\n",
       "      <td>4.0+1.0</td>\n",
       "      <td>NA</td>\n",
       "      <td>1.0</td>\n",
       "      <td>1</td>\n",
       "    </tr>\n",
       "    <tr>\n",
       "      <th>2</th>\n",
       "      <td>Pavlo</td>\n",
       "      <td>Wiśniewski</td>\n",
       "      <td>2.5+0.5</td>\n",
       "      <td>US+1.0</td>\n",
       "      <td>2.5+1.0</td>\n",
       "      <td>1.5+1.5</td>\n",
       "      <td>2.0+1.5</td>\n",
       "      <td>3.5+0.0</td>\n",
       "      <td>1.0+1.0</td>\n",
       "      <td>3.0+1.0</td>\n",
       "      <td>3.5+1.0</td>\n",
       "      <td>ZW+ZW</td>\n",
       "      <td>1.0+0.5</td>\n",
       "      <td>3.5+1.0</td>\n",
       "      <td>4.0+1.0</td>\n",
       "      <td>4.0+1.0</td>\n",
       "      <td>NA</td>\n",
       "      <td>1.0</td>\n",
       "      <td>1</td>\n",
       "    </tr>\n",
       "    <tr>\n",
       "      <th>3</th>\n",
       "      <td>Aleksy</td>\n",
       "      <td>Dąbrowski</td>\n",
       "      <td>0.5+1.0</td>\n",
       "      <td>1.0+1.0</td>\n",
       "      <td>NA+NA</td>\n",
       "      <td>NA+NA</td>\n",
       "      <td>NA+NA</td>\n",
       "      <td>NA+NA</td>\n",
       "      <td>NA+NA</td>\n",
       "      <td>NA+NA</td>\n",
       "      <td>NA+NA</td>\n",
       "      <td>NA+NA</td>\n",
       "      <td>NA+NA</td>\n",
       "      <td>NA+NA</td>\n",
       "      <td>NA+NA</td>\n",
       "      <td>NA+NA</td>\n",
       "      <td>NA</td>\n",
       "      <td>1.0</td>\n",
       "      <td>1</td>\n",
       "    </tr>\n",
       "    <tr>\n",
       "      <th>4</th>\n",
       "      <td>Jarosław</td>\n",
       "      <td>Lewandowski</td>\n",
       "      <td>2.0+0.0</td>\n",
       "      <td>3.0+1.0</td>\n",
       "      <td>1.0+0.0</td>\n",
       "      <td>1.5+1.5</td>\n",
       "      <td>0.5+0.0</td>\n",
       "      <td>1.25+0.0</td>\n",
       "      <td>0.0+NB</td>\n",
       "      <td>2.5+0.0</td>\n",
       "      <td>NB+NB</td>\n",
       "      <td>NB+NB</td>\n",
       "      <td>NB+NB</td>\n",
       "      <td>NB+NB</td>\n",
       "      <td>NB+NB</td>\n",
       "      <td>NB+NB</td>\n",
       "      <td>NA</td>\n",
       "      <td>1.0</td>\n",
       "      <td>1</td>\n",
       "    </tr>\n",
       "  </tbody>\n",
       "</table>\n",
       "</div>"
      ],
      "text/plain": [
       "       Imię         Nazwisko                Z1(4+1)    Z2(4+1)      Z3(4+1)  \\\n",
       "0      Anna            Nowak                2.5+1.0    4.0+1.0      2.0+0.0   \n",
       "1     Rafał         Kowalski                3.0+0.0    2.0+0.5      2.0+1.0   \n",
       "2     Pavlo       Wiśniewski                2.5+0.5     US+1.0      2.5+1.0   \n",
       "3    Aleksy        Dąbrowski                0.5+1.0    1.0+1.0        NA+NA   \n",
       "4  Jarosław      Lewandowski                2.0+0.0    3.0+1.0      1.0+0.0   \n",
       "\n",
       "      Z4(4+1)     Z5(2+2)      Z6(4+1)     Z7(4+1)     Z8(4+1)     Z9(4+1)  \\\n",
       "0     1.0+2.0     1.5+2.0      2.0+0.0      0.0+NB     1.5+1.0     3.5+0.5   \n",
       "1     1.5+1.5     2.0+1.0      1.0+0.5      0.0+NB     3.0+1.0     3.5+1.0   \n",
       "2     1.5+1.5     2.0+1.5      3.5+0.0     1.0+1.0     3.0+1.0     3.5+1.0   \n",
       "3       NA+NA       NA+NA        NA+NA       NA+NA       NA+NA       NA+NA   \n",
       "4     1.5+1.5     0.5+0.0     1.25+0.0      0.0+NB     2.5+0.0       NB+NB   \n",
       "\n",
       "     Z10(4+1)      Z11(4+1)              Z12(4+1)                  Z13(5)  \\\n",
       "0     2.0+0.0       0.5+1.0                 ZW+ZW                 4.0+0.0   \n",
       "1      0.0+NB       1.0+1.0     NS.(3.0)+NS.(1.0)                 4.0+0.0   \n",
       "2       ZW+ZW       1.0+0.5               3.5+1.0                 4.0+1.0   \n",
       "3       NA+NA         NA+NA                 NA+NA                   NA+NA   \n",
       "4       NB+NB         NB+NB                 NB+NB                   NB+NB   \n",
       "\n",
       "   Z14(4+1) Z15(5)  float  int  \n",
       "0   4.0+1.0     NA    1.0    1  \n",
       "1   4.0+1.0     NA    1.0    1  \n",
       "2   4.0+1.0     NA    1.0    1  \n",
       "3     NA+NA     NA    1.0    1  \n",
       "4     NB+NB     NA    1.0    1  "
      ]
     },
     "execution_count": 71,
     "metadata": {},
     "output_type": "execute_result"
    }
   ],
   "source": [
    "oceny.head()"
   ]
  },
  {
   "cell_type": "code",
   "execution_count": 72,
   "metadata": {},
   "outputs": [
    {
     "data": {
      "text/plain": [
       "Imię         object\n",
       "Nazwisko     object\n",
       "Z1(4+1)      object\n",
       "Z2(4+1)      object\n",
       "Z3(4+1)      object\n",
       "Z4(4+1)      object\n",
       "Z5(2+2)      object\n",
       "Z6(4+1)      object\n",
       "Z7(4+1)      object\n",
       "Z8(4+1)      object\n",
       "Z9(4+1)      object\n",
       "Z10(4+1)     object\n",
       "Z11(4+1)     object\n",
       "Z12(4+1)     object\n",
       "Z13(5)       object\n",
       "Z14(4+1)     object\n",
       "Z15(5)       object\n",
       "float       float64\n",
       "int           int64\n",
       "dtype: object"
      ]
     },
     "execution_count": 72,
     "metadata": {},
     "output_type": "execute_result"
    }
   ],
   "source": [
    "oceny.dtypes"
   ]
  },
  {
   "cell_type": "code",
   "execution_count": 77,
   "metadata": {},
   "outputs": [],
   "source": [
    "oceny_obj = oceny.select_dtypes(['object'])"
   ]
  },
  {
   "cell_type": "code",
   "execution_count": 78,
   "metadata": {},
   "outputs": [
    {
     "data": {
      "text/html": [
       "<div>\n",
       "<style scoped>\n",
       "    .dataframe tbody tr th:only-of-type {\n",
       "        vertical-align: middle;\n",
       "    }\n",
       "\n",
       "    .dataframe tbody tr th {\n",
       "        vertical-align: top;\n",
       "    }\n",
       "\n",
       "    .dataframe thead th {\n",
       "        text-align: right;\n",
       "    }\n",
       "</style>\n",
       "<table border=\"1\" class=\"dataframe\">\n",
       "  <thead>\n",
       "    <tr style=\"text-align: right;\">\n",
       "      <th></th>\n",
       "      <th>Imię</th>\n",
       "      <th>Nazwisko</th>\n",
       "      <th>Z1(4+1)</th>\n",
       "      <th>Z2(4+1)</th>\n",
       "      <th>Z3(4+1)</th>\n",
       "      <th>Z4(4+1)</th>\n",
       "      <th>Z5(2+2)</th>\n",
       "      <th>Z6(4+1)</th>\n",
       "      <th>Z7(4+1)</th>\n",
       "      <th>Z8(4+1)</th>\n",
       "      <th>Z9(4+1)</th>\n",
       "      <th>Z10(4+1)</th>\n",
       "      <th>Z11(4+1)</th>\n",
       "      <th>Z12(4+1)</th>\n",
       "      <th>Z13(5)</th>\n",
       "      <th>Z14(4+1)</th>\n",
       "      <th>Z15(5)</th>\n",
       "    </tr>\n",
       "  </thead>\n",
       "  <tbody>\n",
       "    <tr>\n",
       "      <th>0</th>\n",
       "      <td>Anna</td>\n",
       "      <td>Nowak</td>\n",
       "      <td>2.5+1.0</td>\n",
       "      <td>4.0+1.0</td>\n",
       "      <td>2.0+0.0</td>\n",
       "      <td>1.0+2.0</td>\n",
       "      <td>1.5+2.0</td>\n",
       "      <td>2.0+0.0</td>\n",
       "      <td>0.0+NB</td>\n",
       "      <td>1.5+1.0</td>\n",
       "      <td>3.5+0.5</td>\n",
       "      <td>2.0+0.0</td>\n",
       "      <td>0.5+1.0</td>\n",
       "      <td>ZW+ZW</td>\n",
       "      <td>4.0+0.0</td>\n",
       "      <td>4.0+1.0</td>\n",
       "      <td>NA</td>\n",
       "    </tr>\n",
       "    <tr>\n",
       "      <th>1</th>\n",
       "      <td>Rafał</td>\n",
       "      <td>Kowalski</td>\n",
       "      <td>3.0+0.0</td>\n",
       "      <td>2.0+0.5</td>\n",
       "      <td>2.0+1.0</td>\n",
       "      <td>1.5+1.5</td>\n",
       "      <td>2.0+1.0</td>\n",
       "      <td>1.0+0.5</td>\n",
       "      <td>0.0+NB</td>\n",
       "      <td>3.0+1.0</td>\n",
       "      <td>3.5+1.0</td>\n",
       "      <td>0.0+NB</td>\n",
       "      <td>1.0+1.0</td>\n",
       "      <td>NS.(3.0)+NS.(1.0)</td>\n",
       "      <td>4.0+0.0</td>\n",
       "      <td>4.0+1.0</td>\n",
       "      <td>NA</td>\n",
       "    </tr>\n",
       "    <tr>\n",
       "      <th>2</th>\n",
       "      <td>Pavlo</td>\n",
       "      <td>Wiśniewski</td>\n",
       "      <td>2.5+0.5</td>\n",
       "      <td>US+1.0</td>\n",
       "      <td>2.5+1.0</td>\n",
       "      <td>1.5+1.5</td>\n",
       "      <td>2.0+1.5</td>\n",
       "      <td>3.5+0.0</td>\n",
       "      <td>1.0+1.0</td>\n",
       "      <td>3.0+1.0</td>\n",
       "      <td>3.5+1.0</td>\n",
       "      <td>ZW+ZW</td>\n",
       "      <td>1.0+0.5</td>\n",
       "      <td>3.5+1.0</td>\n",
       "      <td>4.0+1.0</td>\n",
       "      <td>4.0+1.0</td>\n",
       "      <td>NA</td>\n",
       "    </tr>\n",
       "    <tr>\n",
       "      <th>3</th>\n",
       "      <td>Aleksy</td>\n",
       "      <td>Dąbrowski</td>\n",
       "      <td>0.5+1.0</td>\n",
       "      <td>1.0+1.0</td>\n",
       "      <td>NA+NA</td>\n",
       "      <td>NA+NA</td>\n",
       "      <td>NA+NA</td>\n",
       "      <td>NA+NA</td>\n",
       "      <td>NA+NA</td>\n",
       "      <td>NA+NA</td>\n",
       "      <td>NA+NA</td>\n",
       "      <td>NA+NA</td>\n",
       "      <td>NA+NA</td>\n",
       "      <td>NA+NA</td>\n",
       "      <td>NA+NA</td>\n",
       "      <td>NA+NA</td>\n",
       "      <td>NA</td>\n",
       "    </tr>\n",
       "    <tr>\n",
       "      <th>4</th>\n",
       "      <td>Jarosław</td>\n",
       "      <td>Lewandowski</td>\n",
       "      <td>2.0+0.0</td>\n",
       "      <td>3.0+1.0</td>\n",
       "      <td>1.0+0.0</td>\n",
       "      <td>1.5+1.5</td>\n",
       "      <td>0.5+0.0</td>\n",
       "      <td>1.25+0.0</td>\n",
       "      <td>0.0+NB</td>\n",
       "      <td>2.5+0.0</td>\n",
       "      <td>NB+NB</td>\n",
       "      <td>NB+NB</td>\n",
       "      <td>NB+NB</td>\n",
       "      <td>NB+NB</td>\n",
       "      <td>NB+NB</td>\n",
       "      <td>NB+NB</td>\n",
       "      <td>NA</td>\n",
       "    </tr>\n",
       "    <tr>\n",
       "      <th>5</th>\n",
       "      <td>Bartłomiej</td>\n",
       "      <td>Wójcik</td>\n",
       "      <td>2.0+1.0</td>\n",
       "      <td>2.0+1.0</td>\n",
       "      <td>2.5+0.5</td>\n",
       "      <td>1.5+1.5</td>\n",
       "      <td>0.5+1.0</td>\n",
       "      <td>1.75+0.5</td>\n",
       "      <td>0.0+1.0</td>\n",
       "      <td>1.5+1.0</td>\n",
       "      <td>4.0+1.0</td>\n",
       "      <td>ZW+ZW</td>\n",
       "      <td>0.5+1.0</td>\n",
       "      <td>3.0+0.0</td>\n",
       "      <td>4.0+1.0</td>\n",
       "      <td>3.5+0.0</td>\n",
       "      <td>NA</td>\n",
       "    </tr>\n",
       "    <tr>\n",
       "      <th>6</th>\n",
       "      <td>Łukasz</td>\n",
       "      <td>Kamiński</td>\n",
       "      <td>4.0+1.0</td>\n",
       "      <td>2.0+1.0</td>\n",
       "      <td>3.5+1.0</td>\n",
       "      <td>1.5+0.5</td>\n",
       "      <td>1.5+0.5</td>\n",
       "      <td>US+1.0</td>\n",
       "      <td>0.5+1.0</td>\n",
       "      <td>2.0+1.0</td>\n",
       "      <td>3.5+1.0</td>\n",
       "      <td>2.0+0.0</td>\n",
       "      <td>0.5+0.5</td>\n",
       "      <td>3.0+1.0</td>\n",
       "      <td>2.0+1.0</td>\n",
       "      <td>4.0+1.0</td>\n",
       "      <td>NA</td>\n",
       "    </tr>\n",
       "    <tr>\n",
       "      <th>7</th>\n",
       "      <td>Oskar</td>\n",
       "      <td>Kowalczyk</td>\n",
       "      <td>4.0+0.5</td>\n",
       "      <td>4.0+1.0</td>\n",
       "      <td>2.0+1.0</td>\n",
       "      <td>4.0+2.0</td>\n",
       "      <td>2.0+1.0</td>\n",
       "      <td>1.5+0.0</td>\n",
       "      <td>1.0+1.0</td>\n",
       "      <td>4.0+1.0</td>\n",
       "      <td>4.0+1.0</td>\n",
       "      <td>1.0+0.5</td>\n",
       "      <td>0.0+NB</td>\n",
       "      <td>3.5+1.0</td>\n",
       "      <td>4.0+1.0</td>\n",
       "      <td>3.0+0.0</td>\n",
       "      <td>NA</td>\n",
       "    </tr>\n",
       "    <tr>\n",
       "      <th>8</th>\n",
       "      <td>Joanna</td>\n",
       "      <td>Zielińska</td>\n",
       "      <td>2.5+0.0</td>\n",
       "      <td>US+US</td>\n",
       "      <td>0.5+0.0</td>\n",
       "      <td>1.0+0.0</td>\n",
       "      <td>0.5+1.0</td>\n",
       "      <td>1.0+0.0</td>\n",
       "      <td>0.5+NB</td>\n",
       "      <td>NB+NB</td>\n",
       "      <td>NB+NB</td>\n",
       "      <td>NB+NB</td>\n",
       "      <td>NB+NB</td>\n",
       "      <td>NB+NB</td>\n",
       "      <td>NB+NB</td>\n",
       "      <td>NB+NB</td>\n",
       "      <td>NA</td>\n",
       "    </tr>\n",
       "    <tr>\n",
       "      <th>9</th>\n",
       "      <td>Oktawia</td>\n",
       "      <td>Szymański</td>\n",
       "      <td>2.5+1.0</td>\n",
       "      <td>0.0+0.0</td>\n",
       "      <td>1.0+0.5</td>\n",
       "      <td>0.0+1.5</td>\n",
       "      <td>0.5+0.5</td>\n",
       "      <td>NB+NB</td>\n",
       "      <td>0.0+NB</td>\n",
       "      <td>NB+NB</td>\n",
       "      <td>NB+NB</td>\n",
       "      <td>NB+NB</td>\n",
       "      <td>NB+NB</td>\n",
       "      <td>NB+NB</td>\n",
       "      <td>NB+NB</td>\n",
       "      <td>NB+NB</td>\n",
       "      <td>NA</td>\n",
       "    </tr>\n",
       "    <tr>\n",
       "      <th>10</th>\n",
       "      <td>Patryk</td>\n",
       "      <td>Woźniak</td>\n",
       "      <td>2.0+1.0</td>\n",
       "      <td>4.0+1.0</td>\n",
       "      <td>2.5+1.0</td>\n",
       "      <td>3.0+2.0</td>\n",
       "      <td>1.0+0.5</td>\n",
       "      <td>1.0+0.5</td>\n",
       "      <td>1.0+0.5</td>\n",
       "      <td>2.0+1.0</td>\n",
       "      <td>4.0+1.0</td>\n",
       "      <td>2.0+0.5</td>\n",
       "      <td>4.0+1.0</td>\n",
       "      <td>4.0+1.0</td>\n",
       "      <td>2.0+0.0</td>\n",
       "      <td>4.0+1.0</td>\n",
       "      <td>NA</td>\n",
       "    </tr>\n",
       "  </tbody>\n",
       "</table>\n",
       "</div>"
      ],
      "text/plain": [
       "          Imię         Nazwisko                Z1(4+1)    Z2(4+1)  \\\n",
       "0         Anna            Nowak                2.5+1.0    4.0+1.0   \n",
       "1        Rafał         Kowalski                3.0+0.0    2.0+0.5   \n",
       "2        Pavlo       Wiśniewski                2.5+0.5     US+1.0   \n",
       "3       Aleksy        Dąbrowski                0.5+1.0    1.0+1.0   \n",
       "4     Jarosław      Lewandowski                2.0+0.0    3.0+1.0   \n",
       "5   Bartłomiej           Wójcik                2.0+1.0    2.0+1.0   \n",
       "6       Łukasz         Kamiński                4.0+1.0    2.0+1.0   \n",
       "7        Oskar        Kowalczyk                4.0+0.5    4.0+1.0   \n",
       "8       Joanna        Zielińska                2.5+0.0      US+US   \n",
       "9      Oktawia        Szymański                2.5+1.0    0.0+0.0   \n",
       "10      Patryk          Woźniak                2.0+1.0    4.0+1.0   \n",
       "\n",
       "        Z3(4+1)     Z4(4+1)     Z5(2+2)      Z6(4+1)      Z7(4+1)     Z8(4+1)  \\\n",
       "0       2.0+0.0     1.0+2.0     1.5+2.0      2.0+0.0       0.0+NB     1.5+1.0   \n",
       "1       2.0+1.0     1.5+1.5     2.0+1.0      1.0+0.5       0.0+NB     3.0+1.0   \n",
       "2       2.5+1.0     1.5+1.5     2.0+1.5      3.5+0.0      1.0+1.0     3.0+1.0   \n",
       "3         NA+NA       NA+NA       NA+NA        NA+NA        NA+NA       NA+NA   \n",
       "4       1.0+0.0     1.5+1.5     0.5+0.0     1.25+0.0       0.0+NB     2.5+0.0   \n",
       "5       2.5+0.5     1.5+1.5     0.5+1.0     1.75+0.5      0.0+1.0     1.5+1.0   \n",
       "6       3.5+1.0     1.5+0.5     1.5+0.5       US+1.0      0.5+1.0     2.0+1.0   \n",
       "7       2.0+1.0     4.0+2.0     2.0+1.0      1.5+0.0      1.0+1.0     4.0+1.0   \n",
       "8       0.5+0.0     1.0+0.0     0.5+1.0      1.0+0.0       0.5+NB       NB+NB   \n",
       "9       1.0+0.5     0.0+1.5     0.5+0.5        NB+NB       0.0+NB       NB+NB   \n",
       "10      2.5+1.0     3.0+2.0     1.0+0.5      1.0+0.5      1.0+0.5     2.0+1.0   \n",
       "\n",
       "       Z9(4+1)    Z10(4+1)      Z11(4+1)              Z12(4+1)  \\\n",
       "0      3.5+0.5     2.0+0.0       0.5+1.0                 ZW+ZW   \n",
       "1      3.5+1.0      0.0+NB       1.0+1.0     NS.(3.0)+NS.(1.0)   \n",
       "2      3.5+1.0       ZW+ZW       1.0+0.5               3.5+1.0   \n",
       "3        NA+NA       NA+NA         NA+NA                 NA+NA   \n",
       "4        NB+NB       NB+NB         NB+NB                 NB+NB   \n",
       "5      4.0+1.0       ZW+ZW       0.5+1.0               3.0+0.0   \n",
       "6      3.5+1.0     2.0+0.0       0.5+0.5               3.0+1.0   \n",
       "7      4.0+1.0     1.0+0.5        0.0+NB               3.5+1.0   \n",
       "8        NB+NB       NB+NB         NB+NB                 NB+NB   \n",
       "9        NB+NB       NB+NB         NB+NB                 NB+NB   \n",
       "10     4.0+1.0     2.0+0.5       4.0+1.0               4.0+1.0   \n",
       "\n",
       "                    Z13(5)  Z14(4+1) Z15(5)  \n",
       "0                  4.0+0.0   4.0+1.0     NA  \n",
       "1                  4.0+0.0   4.0+1.0     NA  \n",
       "2                  4.0+1.0   4.0+1.0     NA  \n",
       "3                    NA+NA     NA+NA     NA  \n",
       "4                    NB+NB     NB+NB     NA  \n",
       "5                  4.0+1.0   3.5+0.0     NA  \n",
       "6                  2.0+1.0   4.0+1.0     NA  \n",
       "7                  4.0+1.0   3.0+0.0     NA  \n",
       "8                    NB+NB     NB+NB     NA  \n",
       "9                    NB+NB     NB+NB     NA  \n",
       "10                 2.0+0.0   4.0+1.0     NA  "
      ]
     },
     "execution_count": 78,
     "metadata": {},
     "output_type": "execute_result"
    }
   ],
   "source": [
    "oceny_obj"
   ]
  },
  {
   "cell_type": "code",
   "execution_count": 82,
   "metadata": {},
   "outputs": [],
   "source": [
    "oceny[oceny_obj.columns] = oceny_obj.apply(lambda kolumna: kolumna.str.strip())"
   ]
  },
  {
   "cell_type": "code",
   "execution_count": 83,
   "metadata": {},
   "outputs": [
    {
     "data": {
      "text/plain": [
       "array(['Nowak', 'Kowalski', 'Wiśniewski', 'Dąbrowski', 'Lewandowski',\n",
       "       'Wójcik', 'Kamiński', 'Kowalczyk', 'Zielińska', 'Szymański',\n",
       "       'Woźniak'], dtype=object)"
      ]
     },
     "execution_count": 83,
     "metadata": {},
     "output_type": "execute_result"
    }
   ],
   "source": [
    "oceny.Nazwisko.values"
   ]
  },
  {
   "cell_type": "code",
   "execution_count": 80,
   "metadata": {},
   "outputs": [],
   "source": [
    "oceny.drop([\"int\", \"float\"], axis=1, inplace=True)"
   ]
  },
  {
   "cell_type": "markdown",
   "metadata": {},
   "source": [
    "## Eleganckie rozwiązanie (szybsze)"
   ]
  },
  {
   "cell_type": "code",
   "execution_count": 84,
   "metadata": {},
   "outputs": [
    {
     "data": {
      "text/html": [
       "<div>\n",
       "<style scoped>\n",
       "    .dataframe tbody tr th:only-of-type {\n",
       "        vertical-align: middle;\n",
       "    }\n",
       "\n",
       "    .dataframe tbody tr th {\n",
       "        vertical-align: top;\n",
       "    }\n",
       "\n",
       "    .dataframe thead th {\n",
       "        text-align: right;\n",
       "    }\n",
       "</style>\n",
       "<table border=\"1\" class=\"dataframe\">\n",
       "  <thead>\n",
       "    <tr style=\"text-align: right;\">\n",
       "      <th></th>\n",
       "      <th>Imię</th>\n",
       "      <th>Nazwisko</th>\n",
       "      <th>Z1(4+1)</th>\n",
       "      <th>Z2(4+1)</th>\n",
       "      <th>Z3(4+1)</th>\n",
       "      <th>Z4(4+1)</th>\n",
       "      <th>Z5(2+2)</th>\n",
       "      <th>Z6(4+1)</th>\n",
       "      <th>Z7(4+1)</th>\n",
       "      <th>Z8(4+1)</th>\n",
       "      <th>Z9(4+1)</th>\n",
       "      <th>Z10(4+1)</th>\n",
       "      <th>Z11(4+1)</th>\n",
       "      <th>Z12(4+1)</th>\n",
       "      <th>Z13(5)</th>\n",
       "      <th>Z14(4+1)</th>\n",
       "      <th>Z15(5)</th>\n",
       "    </tr>\n",
       "  </thead>\n",
       "  <tbody>\n",
       "    <tr>\n",
       "      <th>0</th>\n",
       "      <td>Anna</td>\n",
       "      <td>Nowak</td>\n",
       "      <td>2.5+1.0</td>\n",
       "      <td>4.0+1.0</td>\n",
       "      <td>2.0+0.0</td>\n",
       "      <td>1.0+2.0</td>\n",
       "      <td>1.5+2.0</td>\n",
       "      <td>2.0+0.0</td>\n",
       "      <td>0.0+NB</td>\n",
       "      <td>1.5+1.0</td>\n",
       "      <td>3.5+0.5</td>\n",
       "      <td>2.0+0.0</td>\n",
       "      <td>0.5+1.0</td>\n",
       "      <td>ZW+ZW</td>\n",
       "      <td>4.0+0.0</td>\n",
       "      <td>4.0+1.0</td>\n",
       "      <td>NaN</td>\n",
       "    </tr>\n",
       "    <tr>\n",
       "      <th>1</th>\n",
       "      <td>Rafał</td>\n",
       "      <td>Kowalski</td>\n",
       "      <td>3.0+0.0</td>\n",
       "      <td>2.0+0.5</td>\n",
       "      <td>2.0+1.0</td>\n",
       "      <td>1.5+1.5</td>\n",
       "      <td>2.0+1.0</td>\n",
       "      <td>1.0+0.5</td>\n",
       "      <td>0.0+NB</td>\n",
       "      <td>3.0+1.0</td>\n",
       "      <td>3.5+1.0</td>\n",
       "      <td>0.0+NB</td>\n",
       "      <td>1.0+1.0</td>\n",
       "      <td>NS.(3.0)+NS.(1.0)</td>\n",
       "      <td>4.0+0.0</td>\n",
       "      <td>4.0+1.0</td>\n",
       "      <td>NaN</td>\n",
       "    </tr>\n",
       "    <tr>\n",
       "      <th>2</th>\n",
       "      <td>Pavlo</td>\n",
       "      <td>Wiśniewski</td>\n",
       "      <td>2.5+0.5</td>\n",
       "      <td>US+1.0</td>\n",
       "      <td>2.5+1.0</td>\n",
       "      <td>1.5+1.5</td>\n",
       "      <td>2.0+1.5</td>\n",
       "      <td>3.5+0.0</td>\n",
       "      <td>1.0+1.0</td>\n",
       "      <td>3.0+1.0</td>\n",
       "      <td>3.5+1.0</td>\n",
       "      <td>ZW+ZW</td>\n",
       "      <td>1.0+0.5</td>\n",
       "      <td>3.5+1.0</td>\n",
       "      <td>4.0+1.0</td>\n",
       "      <td>4.0+1.0</td>\n",
       "      <td>NaN</td>\n",
       "    </tr>\n",
       "    <tr>\n",
       "      <th>3</th>\n",
       "      <td>Aleksy</td>\n",
       "      <td>Dąbrowski</td>\n",
       "      <td>0.5+1.0</td>\n",
       "      <td>1.0+1.0</td>\n",
       "      <td>NA+NA</td>\n",
       "      <td>NA+NA</td>\n",
       "      <td>NA+NA</td>\n",
       "      <td>NA+NA</td>\n",
       "      <td>NA+NA</td>\n",
       "      <td>NA+NA</td>\n",
       "      <td>NA+NA</td>\n",
       "      <td>NA+NA</td>\n",
       "      <td>NA+NA</td>\n",
       "      <td>NA+NA</td>\n",
       "      <td>NA+NA</td>\n",
       "      <td>NA+NA</td>\n",
       "      <td>NaN</td>\n",
       "    </tr>\n",
       "    <tr>\n",
       "      <th>4</th>\n",
       "      <td>Jarosław</td>\n",
       "      <td>Lewandowski</td>\n",
       "      <td>2.0+0.0</td>\n",
       "      <td>3.0+1.0</td>\n",
       "      <td>1.0+0.0</td>\n",
       "      <td>1.5+1.5</td>\n",
       "      <td>0.5+0.0</td>\n",
       "      <td>1.25+0.0</td>\n",
       "      <td>0.0+NB</td>\n",
       "      <td>2.5+0.0</td>\n",
       "      <td>NB+NB</td>\n",
       "      <td>NB+NB</td>\n",
       "      <td>NB+NB</td>\n",
       "      <td>NB+NB</td>\n",
       "      <td>NB+NB</td>\n",
       "      <td>NB+NB</td>\n",
       "      <td>NaN</td>\n",
       "    </tr>\n",
       "  </tbody>\n",
       "</table>\n",
       "</div>"
      ],
      "text/plain": [
       "       Imię     Nazwisko  Z1(4+1)  Z2(4+1)  Z3(4+1)  Z4(4+1)  Z5(2+2)  \\\n",
       "0      Anna        Nowak  2.5+1.0  4.0+1.0  2.0+0.0  1.0+2.0  1.5+2.0   \n",
       "1     Rafał     Kowalski  3.0+0.0  2.0+0.5  2.0+1.0  1.5+1.5  2.0+1.0   \n",
       "2     Pavlo   Wiśniewski  2.5+0.5   US+1.0  2.5+1.0  1.5+1.5  2.0+1.5   \n",
       "3    Aleksy    Dąbrowski  0.5+1.0  1.0+1.0    NA+NA    NA+NA    NA+NA   \n",
       "4  Jarosław  Lewandowski  2.0+0.0  3.0+1.0  1.0+0.0  1.5+1.5  0.5+0.0   \n",
       "\n",
       "    Z6(4+1)  Z7(4+1)  Z8(4+1)  Z9(4+1) Z10(4+1) Z11(4+1)           Z12(4+1)  \\\n",
       "0   2.0+0.0   0.0+NB  1.5+1.0  3.5+0.5  2.0+0.0  0.5+1.0              ZW+ZW   \n",
       "1   1.0+0.5   0.0+NB  3.0+1.0  3.5+1.0   0.0+NB  1.0+1.0  NS.(3.0)+NS.(1.0)   \n",
       "2   3.5+0.0  1.0+1.0  3.0+1.0  3.5+1.0    ZW+ZW  1.0+0.5            3.5+1.0   \n",
       "3     NA+NA    NA+NA    NA+NA    NA+NA    NA+NA    NA+NA              NA+NA   \n",
       "4  1.25+0.0   0.0+NB  2.5+0.0    NB+NB    NB+NB    NB+NB              NB+NB   \n",
       "\n",
       "    Z13(5) Z14(4+1)  Z15(5)  \n",
       "0  4.0+0.0  4.0+1.0     NaN  \n",
       "1  4.0+0.0  4.0+1.0     NaN  \n",
       "2  4.0+1.0  4.0+1.0     NaN  \n",
       "3    NA+NA    NA+NA     NaN  \n",
       "4    NB+NB    NB+NB     NaN  "
      ]
     },
     "execution_count": 84,
     "metadata": {},
     "output_type": "execute_result"
    }
   ],
   "source": [
    "oceny = pd.read_csv(\"AiSD2.csv\", skipinitialspace=True)\n",
    "oceny.head()"
   ]
  },
  {
   "cell_type": "code",
   "execution_count": 85,
   "metadata": {},
   "outputs": [
    {
     "data": {
      "text/plain": [
       "Index(['Imię', 'Nazwisko', 'Z1(4+1)', 'Z2(4+1)', 'Z3(4+1)', 'Z4(4+1)',\n",
       "       'Z5(2+2)', 'Z6(4+1)', 'Z7(4+1)', 'Z8(4+1)', 'Z9(4+1)', 'Z10(4+1)',\n",
       "       'Z11(4+1)', 'Z12(4+1)', 'Z13(5)', 'Z14(4+1)', 'Z15(5)'],\n",
       "      dtype='object')"
      ]
     },
     "execution_count": 85,
     "metadata": {},
     "output_type": "execute_result"
    }
   ],
   "source": [
    "oceny.columns"
   ]
  },
  {
   "cell_type": "code",
   "execution_count": 86,
   "metadata": {},
   "outputs": [
    {
     "data": {
      "text/plain": [
       "array(['Nowak', 'Kowalski', 'Wiśniewski', 'Dąbrowski', 'Lewandowski',\n",
       "       'Wójcik', 'Kamiński', 'Kowalczyk', 'Zielińska', 'Szymański',\n",
       "       'Woźniak'], dtype=object)"
      ]
     },
     "execution_count": 86,
     "metadata": {},
     "output_type": "execute_result"
    }
   ],
   "source": [
    "oceny.Nazwisko.values"
   ]
  },
  {
   "cell_type": "markdown",
   "metadata": {},
   "source": [
    "# E-maile"
   ]
  },
  {
   "cell_type": "markdown",
   "metadata": {},
   "source": [
    "Załóżmy, że student nazywa się Łukasz Bączyński. Jego e-mail u nas na wydziale MiNI to\n",
    "`baczynskil@student.mini.pw.edu.pl`"
   ]
  },
  {
   "cell_type": "code",
   "execution_count": 88,
   "metadata": {},
   "outputs": [
    {
     "data": {
      "text/plain": [
       "'Anna'"
      ]
     },
     "execution_count": 88,
     "metadata": {},
     "output_type": "execute_result"
    }
   ],
   "source": [
    "oceny.Imię[0]"
   ]
  },
  {
   "cell_type": "code",
   "execution_count": 89,
   "metadata": {},
   "outputs": [
    {
     "data": {
      "text/plain": [
       "0     A\n",
       "1     R\n",
       "2     P\n",
       "3     A\n",
       "4     J\n",
       "5     B\n",
       "6     Ł\n",
       "7     O\n",
       "8     J\n",
       "9     O\n",
       "10    P\n",
       "Name: Imię, dtype: object"
      ]
     },
     "execution_count": 89,
     "metadata": {},
     "output_type": "execute_result"
    }
   ],
   "source": [
    "oceny.Imię.str.slice(0, 1)"
   ]
  },
  {
   "cell_type": "code",
   "execution_count": 90,
   "metadata": {},
   "outputs": [
    {
     "data": {
      "text/plain": [
       "0     A\n",
       "1     R\n",
       "2     P\n",
       "3     A\n",
       "4     J\n",
       "5     B\n",
       "6     Ł\n",
       "7     O\n",
       "8     J\n",
       "9     O\n",
       "10    P\n",
       "Name: Imię, dtype: object"
      ]
     },
     "execution_count": 90,
     "metadata": {},
     "output_type": "execute_result"
    }
   ],
   "source": [
    "oceny.Imię.str[0] # to polecam"
   ]
  },
  {
   "cell_type": "code",
   "execution_count": 94,
   "metadata": {},
   "outputs": [
    {
     "data": {
      "text/plain": [
       "0     Ann\n",
       "1     Raf\n",
       "2     Pav\n",
       "3     Ale\n",
       "4     Jar\n",
       "5     Bar\n",
       "6     Łuk\n",
       "7     Osk\n",
       "8     Joa\n",
       "9     Okt\n",
       "10    Pat\n",
       "Name: Imię, dtype: object"
      ]
     },
     "execution_count": 94,
     "metadata": {},
     "output_type": "execute_result"
    }
   ],
   "source": [
    "oceny.Imię.str[0:3]"
   ]
  },
  {
   "cell_type": "code",
   "execution_count": 95,
   "metadata": {},
   "outputs": [
    {
     "data": {
      "text/plain": [
       "0           nowak\n",
       "1        kowalski\n",
       "2      wiśniewski\n",
       "3       dąbrowski\n",
       "4     lewandowski\n",
       "5          wójcik\n",
       "6        kamiński\n",
       "7       kowalczyk\n",
       "8       zielińska\n",
       "9       szymański\n",
       "10        woźniak\n",
       "Name: Nazwisko, dtype: object"
      ]
     },
     "execution_count": 95,
     "metadata": {},
     "output_type": "execute_result"
    }
   ],
   "source": [
    "oceny.Nazwisko.str.lower()"
   ]
  },
  {
   "cell_type": "code",
   "execution_count": 99,
   "metadata": {},
   "outputs": [],
   "source": [
    "oceny['email'] = oceny.Nazwisko.str.lower()+ oceny.Imię.str[0:1].str.lower() + '@student.mini.pw.edu.pl'"
   ]
  },
  {
   "cell_type": "code",
   "execution_count": 100,
   "metadata": {},
   "outputs": [
    {
     "data": {
      "text/html": [
       "<div>\n",
       "<style scoped>\n",
       "    .dataframe tbody tr th:only-of-type {\n",
       "        vertical-align: middle;\n",
       "    }\n",
       "\n",
       "    .dataframe tbody tr th {\n",
       "        vertical-align: top;\n",
       "    }\n",
       "\n",
       "    .dataframe thead th {\n",
       "        text-align: right;\n",
       "    }\n",
       "</style>\n",
       "<table border=\"1\" class=\"dataframe\">\n",
       "  <thead>\n",
       "    <tr style=\"text-align: right;\">\n",
       "      <th></th>\n",
       "      <th>Imię</th>\n",
       "      <th>Nazwisko</th>\n",
       "      <th>Z1(4+1)</th>\n",
       "      <th>Z2(4+1)</th>\n",
       "      <th>Z3(4+1)</th>\n",
       "      <th>Z4(4+1)</th>\n",
       "      <th>Z5(2+2)</th>\n",
       "      <th>Z6(4+1)</th>\n",
       "      <th>Z7(4+1)</th>\n",
       "      <th>Z8(4+1)</th>\n",
       "      <th>Z9(4+1)</th>\n",
       "      <th>Z10(4+1)</th>\n",
       "      <th>Z11(4+1)</th>\n",
       "      <th>Z12(4+1)</th>\n",
       "      <th>Z13(5)</th>\n",
       "      <th>Z14(4+1)</th>\n",
       "      <th>Z15(5)</th>\n",
       "      <th>email</th>\n",
       "    </tr>\n",
       "  </thead>\n",
       "  <tbody>\n",
       "    <tr>\n",
       "      <th>0</th>\n",
       "      <td>Anna</td>\n",
       "      <td>Nowak</td>\n",
       "      <td>2.5+1.0</td>\n",
       "      <td>4.0+1.0</td>\n",
       "      <td>2.0+0.0</td>\n",
       "      <td>1.0+2.0</td>\n",
       "      <td>1.5+2.0</td>\n",
       "      <td>2.0+0.0</td>\n",
       "      <td>0.0+NB</td>\n",
       "      <td>1.5+1.0</td>\n",
       "      <td>3.5+0.5</td>\n",
       "      <td>2.0+0.0</td>\n",
       "      <td>0.5+1.0</td>\n",
       "      <td>ZW+ZW</td>\n",
       "      <td>4.0+0.0</td>\n",
       "      <td>4.0+1.0</td>\n",
       "      <td>NaN</td>\n",
       "      <td>nowaka@student.mini.pw.edu.pl</td>\n",
       "    </tr>\n",
       "    <tr>\n",
       "      <th>1</th>\n",
       "      <td>Rafał</td>\n",
       "      <td>Kowalski</td>\n",
       "      <td>3.0+0.0</td>\n",
       "      <td>2.0+0.5</td>\n",
       "      <td>2.0+1.0</td>\n",
       "      <td>1.5+1.5</td>\n",
       "      <td>2.0+1.0</td>\n",
       "      <td>1.0+0.5</td>\n",
       "      <td>0.0+NB</td>\n",
       "      <td>3.0+1.0</td>\n",
       "      <td>3.5+1.0</td>\n",
       "      <td>0.0+NB</td>\n",
       "      <td>1.0+1.0</td>\n",
       "      <td>NS.(3.0)+NS.(1.0)</td>\n",
       "      <td>4.0+0.0</td>\n",
       "      <td>4.0+1.0</td>\n",
       "      <td>NaN</td>\n",
       "      <td>kowalskir@student.mini.pw.edu.pl</td>\n",
       "    </tr>\n",
       "    <tr>\n",
       "      <th>2</th>\n",
       "      <td>Pavlo</td>\n",
       "      <td>Wiśniewski</td>\n",
       "      <td>2.5+0.5</td>\n",
       "      <td>US+1.0</td>\n",
       "      <td>2.5+1.0</td>\n",
       "      <td>1.5+1.5</td>\n",
       "      <td>2.0+1.5</td>\n",
       "      <td>3.5+0.0</td>\n",
       "      <td>1.0+1.0</td>\n",
       "      <td>3.0+1.0</td>\n",
       "      <td>3.5+1.0</td>\n",
       "      <td>ZW+ZW</td>\n",
       "      <td>1.0+0.5</td>\n",
       "      <td>3.5+1.0</td>\n",
       "      <td>4.0+1.0</td>\n",
       "      <td>4.0+1.0</td>\n",
       "      <td>NaN</td>\n",
       "      <td>wiśniewskip@student.mini.pw.edu.pl</td>\n",
       "    </tr>\n",
       "    <tr>\n",
       "      <th>3</th>\n",
       "      <td>Aleksy</td>\n",
       "      <td>Dąbrowski</td>\n",
       "      <td>0.5+1.0</td>\n",
       "      <td>1.0+1.0</td>\n",
       "      <td>NA+NA</td>\n",
       "      <td>NA+NA</td>\n",
       "      <td>NA+NA</td>\n",
       "      <td>NA+NA</td>\n",
       "      <td>NA+NA</td>\n",
       "      <td>NA+NA</td>\n",
       "      <td>NA+NA</td>\n",
       "      <td>NA+NA</td>\n",
       "      <td>NA+NA</td>\n",
       "      <td>NA+NA</td>\n",
       "      <td>NA+NA</td>\n",
       "      <td>NA+NA</td>\n",
       "      <td>NaN</td>\n",
       "      <td>dąbrowskia@student.mini.pw.edu.pl</td>\n",
       "    </tr>\n",
       "    <tr>\n",
       "      <th>4</th>\n",
       "      <td>Jarosław</td>\n",
       "      <td>Lewandowski</td>\n",
       "      <td>2.0+0.0</td>\n",
       "      <td>3.0+1.0</td>\n",
       "      <td>1.0+0.0</td>\n",
       "      <td>1.5+1.5</td>\n",
       "      <td>0.5+0.0</td>\n",
       "      <td>1.25+0.0</td>\n",
       "      <td>0.0+NB</td>\n",
       "      <td>2.5+0.0</td>\n",
       "      <td>NB+NB</td>\n",
       "      <td>NB+NB</td>\n",
       "      <td>NB+NB</td>\n",
       "      <td>NB+NB</td>\n",
       "      <td>NB+NB</td>\n",
       "      <td>NB+NB</td>\n",
       "      <td>NaN</td>\n",
       "      <td>lewandowskij@student.mini.pw.edu.pl</td>\n",
       "    </tr>\n",
       "  </tbody>\n",
       "</table>\n",
       "</div>"
      ],
      "text/plain": [
       "       Imię     Nazwisko  Z1(4+1)  Z2(4+1)  Z3(4+1)  Z4(4+1)  Z5(2+2)  \\\n",
       "0      Anna        Nowak  2.5+1.0  4.0+1.0  2.0+0.0  1.0+2.0  1.5+2.0   \n",
       "1     Rafał     Kowalski  3.0+0.0  2.0+0.5  2.0+1.0  1.5+1.5  2.0+1.0   \n",
       "2     Pavlo   Wiśniewski  2.5+0.5   US+1.0  2.5+1.0  1.5+1.5  2.0+1.5   \n",
       "3    Aleksy    Dąbrowski  0.5+1.0  1.0+1.0    NA+NA    NA+NA    NA+NA   \n",
       "4  Jarosław  Lewandowski  2.0+0.0  3.0+1.0  1.0+0.0  1.5+1.5  0.5+0.0   \n",
       "\n",
       "    Z6(4+1)  Z7(4+1)  Z8(4+1)  Z9(4+1) Z10(4+1) Z11(4+1)           Z12(4+1)  \\\n",
       "0   2.0+0.0   0.0+NB  1.5+1.0  3.5+0.5  2.0+0.0  0.5+1.0              ZW+ZW   \n",
       "1   1.0+0.5   0.0+NB  3.0+1.0  3.5+1.0   0.0+NB  1.0+1.0  NS.(3.0)+NS.(1.0)   \n",
       "2   3.5+0.0  1.0+1.0  3.0+1.0  3.5+1.0    ZW+ZW  1.0+0.5            3.5+1.0   \n",
       "3     NA+NA    NA+NA    NA+NA    NA+NA    NA+NA    NA+NA              NA+NA   \n",
       "4  1.25+0.0   0.0+NB  2.5+0.0    NB+NB    NB+NB    NB+NB              NB+NB   \n",
       "\n",
       "    Z13(5) Z14(4+1)  Z15(5)                                email  \n",
       "0  4.0+0.0  4.0+1.0     NaN        nowaka@student.mini.pw.edu.pl  \n",
       "1  4.0+0.0  4.0+1.0     NaN     kowalskir@student.mini.pw.edu.pl  \n",
       "2  4.0+1.0  4.0+1.0     NaN   wiśniewskip@student.mini.pw.edu.pl  \n",
       "3    NA+NA    NA+NA     NaN    dąbrowskia@student.mini.pw.edu.pl  \n",
       "4    NB+NB    NB+NB     NaN  lewandowskij@student.mini.pw.edu.pl  "
      ]
     },
     "execution_count": 100,
     "metadata": {},
     "output_type": "execute_result"
    }
   ],
   "source": [
    "oceny.head()"
   ]
  },
  {
   "cell_type": "code",
   "execution_count": 102,
   "metadata": {},
   "outputs": [
    {
     "data": {
      "text/plain": [
       "0           nowaka@student.mini.pw.edu.pl\n",
       "1        kowalskir@student.mini.pw.edu.pl\n",
       "2      wiśniewskip@student.mini.pw.edu.pl\n",
       "3       dąbrowskia@student.mini.pw.edu.pl\n",
       "4     lewandowskij@student.mini.pw.edu.pl\n",
       "5          wójcikb@student.mini.pw.edu.pl\n",
       "6        kamińskił@student.mini.pw.edu.pl\n",
       "7       kowalczyko@student.mini.pw.edu.pl\n",
       "8       zielińskaj@student.mini.pw.edu.pl\n",
       "9       szymańskio@student.mini.pw.edu.pl\n",
       "10        woźniakp@student.mini.pw.edu.pl\n",
       "dtype: object"
      ]
     },
     "execution_count": 102,
     "metadata": {},
     "output_type": "execute_result"
    }
   ],
   "source": [
    "(oceny.Nazwisko + oceny.Imię.str[0] + \"@student.mini.pw.edu.pl\").str.lower()"
   ]
  },
  {
   "cell_type": "markdown",
   "metadata": {},
   "source": [
    "!pip install unidecode\n",
    "\n",
    "pip install unidecode"
   ]
  },
  {
   "cell_type": "code",
   "execution_count": 105,
   "metadata": {},
   "outputs": [],
   "source": [
    "import unidecode"
   ]
  },
  {
   "cell_type": "code",
   "execution_count": 106,
   "metadata": {},
   "outputs": [
    {
     "data": {
      "text/plain": [
       "'ascnolzzASCZZON'"
      ]
     },
     "execution_count": 106,
     "metadata": {},
     "output_type": "execute_result"
    }
   ],
   "source": [
    "unidecode.unidecode(\"ąśćńółżźĄŚĆŻŹÓŃ\")"
   ]
  },
  {
   "cell_type": "code",
   "execution_count": 107,
   "metadata": {},
   "outputs": [
    {
     "ename": "AttributeError",
     "evalue": "'Series' object has no attribute 'encode'",
     "output_type": "error",
     "traceback": [
      "\u001b[0;31m---------------------------------------------------------------------------\u001b[0m",
      "\u001b[0;31mAttributeError\u001b[0m                            Traceback (most recent call last)",
      "\u001b[0;32m<ipython-input-107-6ea537a874a1>\u001b[0m in \u001b[0;36m<module>\u001b[0;34m\u001b[0m\n\u001b[0;32m----> 1\u001b[0;31m \u001b[0munidecode\u001b[0m\u001b[0;34m.\u001b[0m\u001b[0munidecode\u001b[0m\u001b[0;34m(\u001b[0m\u001b[0moceny\u001b[0m\u001b[0;34m[\u001b[0m\u001b[0;34m\"email\"\u001b[0m\u001b[0;34m]\u001b[0m\u001b[0;34m)\u001b[0m\u001b[0;34m\u001b[0m\u001b[0;34m\u001b[0m\u001b[0m\n\u001b[0m",
      "\u001b[0;32m~/projects/sages/sages_rozne_zrodla_danych/.rozne_zrodla_danych/lib/python3.8/site-packages/unidecode/__init__.py\u001b[0m in \u001b[0;36munidecode_expect_ascii\u001b[0;34m(string)\u001b[0m\n\u001b[1;32m     46\u001b[0m     \u001b[0m_warn_if_not_unicode\u001b[0m\u001b[0;34m(\u001b[0m\u001b[0mstring\u001b[0m\u001b[0;34m)\u001b[0m\u001b[0;34m\u001b[0m\u001b[0;34m\u001b[0m\u001b[0m\n\u001b[1;32m     47\u001b[0m     \u001b[0;32mtry\u001b[0m\u001b[0;34m:\u001b[0m\u001b[0;34m\u001b[0m\u001b[0;34m\u001b[0m\u001b[0m\n\u001b[0;32m---> 48\u001b[0;31m         \u001b[0mbytestring\u001b[0m \u001b[0;34m=\u001b[0m \u001b[0mstring\u001b[0m\u001b[0;34m.\u001b[0m\u001b[0mencode\u001b[0m\u001b[0;34m(\u001b[0m\u001b[0;34m'ASCII'\u001b[0m\u001b[0;34m)\u001b[0m\u001b[0;34m\u001b[0m\u001b[0;34m\u001b[0m\u001b[0m\n\u001b[0m\u001b[1;32m     49\u001b[0m     \u001b[0;32mexcept\u001b[0m \u001b[0mUnicodeEncodeError\u001b[0m\u001b[0;34m:\u001b[0m\u001b[0;34m\u001b[0m\u001b[0;34m\u001b[0m\u001b[0m\n\u001b[1;32m     50\u001b[0m         \u001b[0;32mreturn\u001b[0m \u001b[0m_unidecode\u001b[0m\u001b[0;34m(\u001b[0m\u001b[0mstring\u001b[0m\u001b[0;34m)\u001b[0m\u001b[0;34m\u001b[0m\u001b[0;34m\u001b[0m\u001b[0m\n",
      "\u001b[0;32m~/projects/sages/sages_rozne_zrodla_danych/.rozne_zrodla_danych/lib/python3.8/site-packages/pandas/core/generic.py\u001b[0m in \u001b[0;36m__getattr__\u001b[0;34m(self, name)\u001b[0m\n\u001b[1;32m   5128\u001b[0m             \u001b[0;32mif\u001b[0m \u001b[0mself\u001b[0m\u001b[0;34m.\u001b[0m\u001b[0m_info_axis\u001b[0m\u001b[0;34m.\u001b[0m\u001b[0m_can_hold_identifiers_and_holds_name\u001b[0m\u001b[0;34m(\u001b[0m\u001b[0mname\u001b[0m\u001b[0;34m)\u001b[0m\u001b[0;34m:\u001b[0m\u001b[0;34m\u001b[0m\u001b[0;34m\u001b[0m\u001b[0m\n\u001b[1;32m   5129\u001b[0m                 \u001b[0;32mreturn\u001b[0m \u001b[0mself\u001b[0m\u001b[0;34m[\u001b[0m\u001b[0mname\u001b[0m\u001b[0;34m]\u001b[0m\u001b[0;34m\u001b[0m\u001b[0;34m\u001b[0m\u001b[0m\n\u001b[0;32m-> 5130\u001b[0;31m             \u001b[0;32mreturn\u001b[0m \u001b[0mobject\u001b[0m\u001b[0;34m.\u001b[0m\u001b[0m__getattribute__\u001b[0m\u001b[0;34m(\u001b[0m\u001b[0mself\u001b[0m\u001b[0;34m,\u001b[0m \u001b[0mname\u001b[0m\u001b[0;34m)\u001b[0m\u001b[0;34m\u001b[0m\u001b[0;34m\u001b[0m\u001b[0m\n\u001b[0m\u001b[1;32m   5131\u001b[0m \u001b[0;34m\u001b[0m\u001b[0m\n\u001b[1;32m   5132\u001b[0m     \u001b[0;32mdef\u001b[0m \u001b[0m__setattr__\u001b[0m\u001b[0;34m(\u001b[0m\u001b[0mself\u001b[0m\u001b[0;34m,\u001b[0m \u001b[0mname\u001b[0m\u001b[0;34m:\u001b[0m \u001b[0mstr\u001b[0m\u001b[0;34m,\u001b[0m \u001b[0mvalue\u001b[0m\u001b[0;34m)\u001b[0m \u001b[0;34m->\u001b[0m \u001b[0;32mNone\u001b[0m\u001b[0;34m:\u001b[0m\u001b[0;34m\u001b[0m\u001b[0;34m\u001b[0m\u001b[0m\n",
      "\u001b[0;31mAttributeError\u001b[0m: 'Series' object has no attribute 'encode'"
     ]
    }
   ],
   "source": [
    "unidecode.unidecode(oceny[\"email\"])"
   ]
  },
  {
   "cell_type": "markdown",
   "metadata": {},
   "source": [
    "## Podejście 1, lepsze z apply z Pandasa"
   ]
  },
  {
   "cell_type": "code",
   "execution_count": 108,
   "metadata": {},
   "outputs": [
    {
     "name": "stdout",
     "output_type": "stream",
     "text": [
      "nowaka@student.mini.pw.edu.pl\n",
      "kowalskir@student.mini.pw.edu.pl\n",
      "wiśniewskip@student.mini.pw.edu.pl\n",
      "dąbrowskia@student.mini.pw.edu.pl\n",
      "lewandowskij@student.mini.pw.edu.pl\n",
      "wójcikb@student.mini.pw.edu.pl\n",
      "kamińskił@student.mini.pw.edu.pl\n",
      "kowalczyko@student.mini.pw.edu.pl\n",
      "zielińskaj@student.mini.pw.edu.pl\n",
      "szymańskio@student.mini.pw.edu.pl\n",
      "woźniakp@student.mini.pw.edu.pl\n"
     ]
    },
    {
     "data": {
      "text/plain": [
       "0     None\n",
       "1     None\n",
       "2     None\n",
       "3     None\n",
       "4     None\n",
       "5     None\n",
       "6     None\n",
       "7     None\n",
       "8     None\n",
       "9     None\n",
       "10    None\n",
       "Name: email, dtype: object"
      ]
     },
     "execution_count": 108,
     "metadata": {},
     "output_type": "execute_result"
    }
   ],
   "source": [
    "oceny[\"email\"].apply(lambda x: print(x))"
   ]
  },
  {
   "cell_type": "code",
   "execution_count": 109,
   "metadata": {},
   "outputs": [
    {
     "data": {
      "text/plain": [
       "0           nowaka@student.mini.pw.edu.pl\n",
       "1        kowalskir@student.mini.pw.edu.pl\n",
       "2      wisniewskip@student.mini.pw.edu.pl\n",
       "3       dabrowskia@student.mini.pw.edu.pl\n",
       "4     lewandowskij@student.mini.pw.edu.pl\n",
       "5          wojcikb@student.mini.pw.edu.pl\n",
       "6        kaminskil@student.mini.pw.edu.pl\n",
       "7       kowalczyko@student.mini.pw.edu.pl\n",
       "8       zielinskaj@student.mini.pw.edu.pl\n",
       "9       szymanskio@student.mini.pw.edu.pl\n",
       "10        wozniakp@student.mini.pw.edu.pl\n",
       "Name: email, dtype: object"
      ]
     },
     "execution_count": 109,
     "metadata": {},
     "output_type": "execute_result"
    }
   ],
   "source": [
    "oceny[\"email\"].apply(lambda x: unidecode.unidecode(x))"
   ]
  },
  {
   "cell_type": "code",
   "execution_count": 110,
   "metadata": {},
   "outputs": [
    {
     "data": {
      "text/plain": [
       "0           nowaka@student.mini.pw.edu.pl\n",
       "1        kowalskir@student.mini.pw.edu.pl\n",
       "2      wisniewskip@student.mini.pw.edu.pl\n",
       "3       dabrowskia@student.mini.pw.edu.pl\n",
       "4     lewandowskij@student.mini.pw.edu.pl\n",
       "5          wojcikb@student.mini.pw.edu.pl\n",
       "6        kaminskil@student.mini.pw.edu.pl\n",
       "7       kowalczyko@student.mini.pw.edu.pl\n",
       "8       zielinskaj@student.mini.pw.edu.pl\n",
       "9       szymanskio@student.mini.pw.edu.pl\n",
       "10        wozniakp@student.mini.pw.edu.pl\n",
       "Name: email, dtype: object"
      ]
     },
     "execution_count": 110,
     "metadata": {},
     "output_type": "execute_result"
    }
   ],
   "source": [
    "oceny[\"email\"].apply(unidecode.unidecode)"
   ]
  },
  {
   "cell_type": "markdown",
   "metadata": {},
   "source": [
    "## Podejście 2, gorsze, z Numpy (ale też spoko)"
   ]
  },
  {
   "cell_type": "code",
   "execution_count": 111,
   "metadata": {},
   "outputs": [],
   "source": [
    "import numpy as np"
   ]
  },
  {
   "cell_type": "code",
   "execution_count": 113,
   "metadata": {},
   "outputs": [],
   "source": [
    "unidecode_zwektoryzowany = np.vectorize(unidecode.unidecode)"
   ]
  },
  {
   "cell_type": "code",
   "execution_count": 114,
   "metadata": {},
   "outputs": [
    {
     "data": {
      "text/plain": [
       "array(['nowaka@student.mini.pw.edu.pl',\n",
       "       'kowalskir@student.mini.pw.edu.pl',\n",
       "       'wisniewskip@student.mini.pw.edu.pl',\n",
       "       'dabrowskia@student.mini.pw.edu.pl',\n",
       "       'lewandowskij@student.mini.pw.edu.pl',\n",
       "       'wojcikb@student.mini.pw.edu.pl',\n",
       "       'kaminskil@student.mini.pw.edu.pl',\n",
       "       'kowalczyko@student.mini.pw.edu.pl',\n",
       "       'zielinskaj@student.mini.pw.edu.pl',\n",
       "       'szymanskio@student.mini.pw.edu.pl',\n",
       "       'wozniakp@student.mini.pw.edu.pl'], dtype='<U35')"
      ]
     },
     "execution_count": 114,
     "metadata": {},
     "output_type": "execute_result"
    }
   ],
   "source": [
    "unidecode_zwektoryzowany(oceny[\"email\"])"
   ]
  },
  {
   "cell_type": "code",
   "execution_count": 115,
   "metadata": {},
   "outputs": [],
   "source": [
    "oceny['email'] = unidecode_zwektoryzowany(oceny[\"email\"])"
   ]
  },
  {
   "cell_type": "code",
   "execution_count": 116,
   "metadata": {},
   "outputs": [
    {
     "data": {
      "text/html": [
       "<div>\n",
       "<style scoped>\n",
       "    .dataframe tbody tr th:only-of-type {\n",
       "        vertical-align: middle;\n",
       "    }\n",
       "\n",
       "    .dataframe tbody tr th {\n",
       "        vertical-align: top;\n",
       "    }\n",
       "\n",
       "    .dataframe thead th {\n",
       "        text-align: right;\n",
       "    }\n",
       "</style>\n",
       "<table border=\"1\" class=\"dataframe\">\n",
       "  <thead>\n",
       "    <tr style=\"text-align: right;\">\n",
       "      <th></th>\n",
       "      <th>Imię</th>\n",
       "      <th>Nazwisko</th>\n",
       "      <th>Z1(4+1)</th>\n",
       "      <th>Z2(4+1)</th>\n",
       "      <th>Z3(4+1)</th>\n",
       "      <th>Z4(4+1)</th>\n",
       "      <th>Z5(2+2)</th>\n",
       "      <th>Z6(4+1)</th>\n",
       "      <th>Z7(4+1)</th>\n",
       "      <th>Z8(4+1)</th>\n",
       "      <th>Z9(4+1)</th>\n",
       "      <th>Z10(4+1)</th>\n",
       "      <th>Z11(4+1)</th>\n",
       "      <th>Z12(4+1)</th>\n",
       "      <th>Z13(5)</th>\n",
       "      <th>Z14(4+1)</th>\n",
       "      <th>Z15(5)</th>\n",
       "      <th>email</th>\n",
       "    </tr>\n",
       "  </thead>\n",
       "  <tbody>\n",
       "    <tr>\n",
       "      <th>0</th>\n",
       "      <td>Anna</td>\n",
       "      <td>Nowak</td>\n",
       "      <td>2.5+1.0</td>\n",
       "      <td>4.0+1.0</td>\n",
       "      <td>2.0+0.0</td>\n",
       "      <td>1.0+2.0</td>\n",
       "      <td>1.5+2.0</td>\n",
       "      <td>2.0+0.0</td>\n",
       "      <td>0.0+NB</td>\n",
       "      <td>1.5+1.0</td>\n",
       "      <td>3.5+0.5</td>\n",
       "      <td>2.0+0.0</td>\n",
       "      <td>0.5+1.0</td>\n",
       "      <td>ZW+ZW</td>\n",
       "      <td>4.0+0.0</td>\n",
       "      <td>4.0+1.0</td>\n",
       "      <td>NaN</td>\n",
       "      <td>nowaka@student.mini.pw.edu.pl</td>\n",
       "    </tr>\n",
       "    <tr>\n",
       "      <th>1</th>\n",
       "      <td>Rafał</td>\n",
       "      <td>Kowalski</td>\n",
       "      <td>3.0+0.0</td>\n",
       "      <td>2.0+0.5</td>\n",
       "      <td>2.0+1.0</td>\n",
       "      <td>1.5+1.5</td>\n",
       "      <td>2.0+1.0</td>\n",
       "      <td>1.0+0.5</td>\n",
       "      <td>0.0+NB</td>\n",
       "      <td>3.0+1.0</td>\n",
       "      <td>3.5+1.0</td>\n",
       "      <td>0.0+NB</td>\n",
       "      <td>1.0+1.0</td>\n",
       "      <td>NS.(3.0)+NS.(1.0)</td>\n",
       "      <td>4.0+0.0</td>\n",
       "      <td>4.0+1.0</td>\n",
       "      <td>NaN</td>\n",
       "      <td>kowalskir@student.mini.pw.edu.pl</td>\n",
       "    </tr>\n",
       "    <tr>\n",
       "      <th>2</th>\n",
       "      <td>Pavlo</td>\n",
       "      <td>Wiśniewski</td>\n",
       "      <td>2.5+0.5</td>\n",
       "      <td>US+1.0</td>\n",
       "      <td>2.5+1.0</td>\n",
       "      <td>1.5+1.5</td>\n",
       "      <td>2.0+1.5</td>\n",
       "      <td>3.5+0.0</td>\n",
       "      <td>1.0+1.0</td>\n",
       "      <td>3.0+1.0</td>\n",
       "      <td>3.5+1.0</td>\n",
       "      <td>ZW+ZW</td>\n",
       "      <td>1.0+0.5</td>\n",
       "      <td>3.5+1.0</td>\n",
       "      <td>4.0+1.0</td>\n",
       "      <td>4.0+1.0</td>\n",
       "      <td>NaN</td>\n",
       "      <td>wisniewskip@student.mini.pw.edu.pl</td>\n",
       "    </tr>\n",
       "    <tr>\n",
       "      <th>3</th>\n",
       "      <td>Aleksy</td>\n",
       "      <td>Dąbrowski</td>\n",
       "      <td>0.5+1.0</td>\n",
       "      <td>1.0+1.0</td>\n",
       "      <td>NA+NA</td>\n",
       "      <td>NA+NA</td>\n",
       "      <td>NA+NA</td>\n",
       "      <td>NA+NA</td>\n",
       "      <td>NA+NA</td>\n",
       "      <td>NA+NA</td>\n",
       "      <td>NA+NA</td>\n",
       "      <td>NA+NA</td>\n",
       "      <td>NA+NA</td>\n",
       "      <td>NA+NA</td>\n",
       "      <td>NA+NA</td>\n",
       "      <td>NA+NA</td>\n",
       "      <td>NaN</td>\n",
       "      <td>dabrowskia@student.mini.pw.edu.pl</td>\n",
       "    </tr>\n",
       "    <tr>\n",
       "      <th>4</th>\n",
       "      <td>Jarosław</td>\n",
       "      <td>Lewandowski</td>\n",
       "      <td>2.0+0.0</td>\n",
       "      <td>3.0+1.0</td>\n",
       "      <td>1.0+0.0</td>\n",
       "      <td>1.5+1.5</td>\n",
       "      <td>0.5+0.0</td>\n",
       "      <td>1.25+0.0</td>\n",
       "      <td>0.0+NB</td>\n",
       "      <td>2.5+0.0</td>\n",
       "      <td>NB+NB</td>\n",
       "      <td>NB+NB</td>\n",
       "      <td>NB+NB</td>\n",
       "      <td>NB+NB</td>\n",
       "      <td>NB+NB</td>\n",
       "      <td>NB+NB</td>\n",
       "      <td>NaN</td>\n",
       "      <td>lewandowskij@student.mini.pw.edu.pl</td>\n",
       "    </tr>\n",
       "  </tbody>\n",
       "</table>\n",
       "</div>"
      ],
      "text/plain": [
       "       Imię     Nazwisko  Z1(4+1)  Z2(4+1)  Z3(4+1)  Z4(4+1)  Z5(2+2)  \\\n",
       "0      Anna        Nowak  2.5+1.0  4.0+1.0  2.0+0.0  1.0+2.0  1.5+2.0   \n",
       "1     Rafał     Kowalski  3.0+0.0  2.0+0.5  2.0+1.0  1.5+1.5  2.0+1.0   \n",
       "2     Pavlo   Wiśniewski  2.5+0.5   US+1.0  2.5+1.0  1.5+1.5  2.0+1.5   \n",
       "3    Aleksy    Dąbrowski  0.5+1.0  1.0+1.0    NA+NA    NA+NA    NA+NA   \n",
       "4  Jarosław  Lewandowski  2.0+0.0  3.0+1.0  1.0+0.0  1.5+1.5  0.5+0.0   \n",
       "\n",
       "    Z6(4+1)  Z7(4+1)  Z8(4+1)  Z9(4+1) Z10(4+1) Z11(4+1)           Z12(4+1)  \\\n",
       "0   2.0+0.0   0.0+NB  1.5+1.0  3.5+0.5  2.0+0.0  0.5+1.0              ZW+ZW   \n",
       "1   1.0+0.5   0.0+NB  3.0+1.0  3.5+1.0   0.0+NB  1.0+1.0  NS.(3.0)+NS.(1.0)   \n",
       "2   3.5+0.0  1.0+1.0  3.0+1.0  3.5+1.0    ZW+ZW  1.0+0.5            3.5+1.0   \n",
       "3     NA+NA    NA+NA    NA+NA    NA+NA    NA+NA    NA+NA              NA+NA   \n",
       "4  1.25+0.0   0.0+NB  2.5+0.0    NB+NB    NB+NB    NB+NB              NB+NB   \n",
       "\n",
       "    Z13(5) Z14(4+1)  Z15(5)                                email  \n",
       "0  4.0+0.0  4.0+1.0     NaN        nowaka@student.mini.pw.edu.pl  \n",
       "1  4.0+0.0  4.0+1.0     NaN     kowalskir@student.mini.pw.edu.pl  \n",
       "2  4.0+1.0  4.0+1.0     NaN   wisniewskip@student.mini.pw.edu.pl  \n",
       "3    NA+NA    NA+NA     NaN    dabrowskia@student.mini.pw.edu.pl  \n",
       "4    NB+NB    NB+NB     NaN  lewandowskij@student.mini.pw.edu.pl  "
      ]
     },
     "execution_count": 116,
     "metadata": {},
     "output_type": "execute_result"
    }
   ],
   "source": [
    "oceny.head()"
   ]
  },
  {
   "cell_type": "markdown",
   "metadata": {},
   "source": [
    "## E-mail jako jeden napis"
   ]
  },
  {
   "cell_type": "markdown",
   "metadata": {},
   "source": [
    "Chcę połączyć wszystkie maila w taki napis: \"student1@domena.pl, student2@domena.pl, student3@domena.pl, ...\"\n",
    "\n",
    "* odpowiednia metoda str w Pandasie\n",
    "* operacje na napisach"
   ]
  },
  {
   "cell_type": "markdown",
   "metadata": {},
   "source": [
    "### operacje na napisach"
   ]
  },
  {
   "cell_type": "code",
   "execution_count": 122,
   "metadata": {},
   "outputs": [
    {
     "data": {
      "text/plain": [
       "'element1#separator#element2#separator#element2'"
      ]
     },
     "execution_count": 122,
     "metadata": {},
     "output_type": "execute_result"
    }
   ],
   "source": [
    "l = [\"element1\", \"element2\", \"element2\"]\n",
    "'#separator#'.join(l)"
   ]
  },
  {
   "cell_type": "code",
   "execution_count": 121,
   "metadata": {},
   "outputs": [
    {
     "data": {
      "text/plain": [
       "'nowaka@student.mini.pw.edu.pl, kowalskir@student.mini.pw.edu.pl, wisniewskip@student.mini.pw.edu.pl, dabrowskia@student.mini.pw.edu.pl, lewandowskij@student.mini.pw.edu.pl, wojcikb@student.mini.pw.edu.pl, kaminskil@student.mini.pw.edu.pl, kowalczyko@student.mini.pw.edu.pl, zielinskaj@student.mini.pw.edu.pl, szymanskio@student.mini.pw.edu.pl, wozniakp@student.mini.pw.edu.pl'"
      ]
     },
     "execution_count": 121,
     "metadata": {},
     "output_type": "execute_result"
    }
   ],
   "source": [
    "', '.join(oceny['email'].values)"
   ]
  },
  {
   "cell_type": "markdown",
   "metadata": {},
   "source": [
    "### metoda w Pandasie"
   ]
  },
  {
   "cell_type": "code",
   "execution_count": 123,
   "metadata": {},
   "outputs": [
    {
     "data": {
      "text/plain": [
       "'nowaka@student.mini.pw.edu.pl, kowalskir@student.mini.pw.edu.pl, wisniewskip@student.mini.pw.edu.pl, dabrowskia@student.mini.pw.edu.pl, lewandowskij@student.mini.pw.edu.pl, wojcikb@student.mini.pw.edu.pl, kaminskil@student.mini.pw.edu.pl, kowalczyko@student.mini.pw.edu.pl, zielinskaj@student.mini.pw.edu.pl, szymanskio@student.mini.pw.edu.pl, wozniakp@student.mini.pw.edu.pl'"
      ]
     },
     "execution_count": 123,
     "metadata": {},
     "output_type": "execute_result"
    }
   ],
   "source": [
    "oceny[\"email\"].str.cat(sep=\", \")"
   ]
  },
  {
   "cell_type": "markdown",
   "metadata": {},
   "source": [
    "# Rozbij kolumny na część labolatoryjną i domową"
   ]
  },
  {
   "cell_type": "code",
   "execution_count": 125,
   "metadata": {},
   "outputs": [
    {
     "data": {
      "text/html": [
       "<div>\n",
       "<style scoped>\n",
       "    .dataframe tbody tr th:only-of-type {\n",
       "        vertical-align: middle;\n",
       "    }\n",
       "\n",
       "    .dataframe tbody tr th {\n",
       "        vertical-align: top;\n",
       "    }\n",
       "\n",
       "    .dataframe thead th {\n",
       "        text-align: right;\n",
       "    }\n",
       "</style>\n",
       "<table border=\"1\" class=\"dataframe\">\n",
       "  <thead>\n",
       "    <tr style=\"text-align: right;\">\n",
       "      <th></th>\n",
       "      <th>Imię</th>\n",
       "      <th>Nazwisko</th>\n",
       "      <th>Z1(4+1)</th>\n",
       "      <th>Z2(4+1)</th>\n",
       "      <th>Z3(4+1)</th>\n",
       "      <th>Z4(4+1)</th>\n",
       "      <th>Z5(2+2)</th>\n",
       "      <th>Z6(4+1)</th>\n",
       "      <th>Z7(4+1)</th>\n",
       "      <th>Z8(4+1)</th>\n",
       "      <th>Z9(4+1)</th>\n",
       "      <th>Z10(4+1)</th>\n",
       "      <th>Z11(4+1)</th>\n",
       "      <th>Z12(4+1)</th>\n",
       "      <th>Z13(5)</th>\n",
       "      <th>Z14(4+1)</th>\n",
       "      <th>Z15(5)</th>\n",
       "      <th>email</th>\n",
       "    </tr>\n",
       "  </thead>\n",
       "  <tbody>\n",
       "    <tr>\n",
       "      <th>0</th>\n",
       "      <td>Anna</td>\n",
       "      <td>Nowak</td>\n",
       "      <td>2.5+1.0</td>\n",
       "      <td>4.0+1.0</td>\n",
       "      <td>2.0+0.0</td>\n",
       "      <td>1.0+2.0</td>\n",
       "      <td>1.5+2.0</td>\n",
       "      <td>2.0+0.0</td>\n",
       "      <td>0.0+NB</td>\n",
       "      <td>1.5+1.0</td>\n",
       "      <td>3.5+0.5</td>\n",
       "      <td>2.0+0.0</td>\n",
       "      <td>0.5+1.0</td>\n",
       "      <td>ZW+ZW</td>\n",
       "      <td>4.0+0.0</td>\n",
       "      <td>4.0+1.0</td>\n",
       "      <td>NaN</td>\n",
       "      <td>nowaka@student.mini.pw.edu.pl</td>\n",
       "    </tr>\n",
       "    <tr>\n",
       "      <th>1</th>\n",
       "      <td>Rafał</td>\n",
       "      <td>Kowalski</td>\n",
       "      <td>3.0+0.0</td>\n",
       "      <td>2.0+0.5</td>\n",
       "      <td>2.0+1.0</td>\n",
       "      <td>1.5+1.5</td>\n",
       "      <td>2.0+1.0</td>\n",
       "      <td>1.0+0.5</td>\n",
       "      <td>0.0+NB</td>\n",
       "      <td>3.0+1.0</td>\n",
       "      <td>3.5+1.0</td>\n",
       "      <td>0.0+NB</td>\n",
       "      <td>1.0+1.0</td>\n",
       "      <td>NS.(3.0)+NS.(1.0)</td>\n",
       "      <td>4.0+0.0</td>\n",
       "      <td>4.0+1.0</td>\n",
       "      <td>NaN</td>\n",
       "      <td>kowalskir@student.mini.pw.edu.pl</td>\n",
       "    </tr>\n",
       "    <tr>\n",
       "      <th>2</th>\n",
       "      <td>Pavlo</td>\n",
       "      <td>Wiśniewski</td>\n",
       "      <td>2.5+0.5</td>\n",
       "      <td>US+1.0</td>\n",
       "      <td>2.5+1.0</td>\n",
       "      <td>1.5+1.5</td>\n",
       "      <td>2.0+1.5</td>\n",
       "      <td>3.5+0.0</td>\n",
       "      <td>1.0+1.0</td>\n",
       "      <td>3.0+1.0</td>\n",
       "      <td>3.5+1.0</td>\n",
       "      <td>ZW+ZW</td>\n",
       "      <td>1.0+0.5</td>\n",
       "      <td>3.5+1.0</td>\n",
       "      <td>4.0+1.0</td>\n",
       "      <td>4.0+1.0</td>\n",
       "      <td>NaN</td>\n",
       "      <td>wisniewskip@student.mini.pw.edu.pl</td>\n",
       "    </tr>\n",
       "    <tr>\n",
       "      <th>3</th>\n",
       "      <td>Aleksy</td>\n",
       "      <td>Dąbrowski</td>\n",
       "      <td>0.5+1.0</td>\n",
       "      <td>1.0+1.0</td>\n",
       "      <td>NA+NA</td>\n",
       "      <td>NA+NA</td>\n",
       "      <td>NA+NA</td>\n",
       "      <td>NA+NA</td>\n",
       "      <td>NA+NA</td>\n",
       "      <td>NA+NA</td>\n",
       "      <td>NA+NA</td>\n",
       "      <td>NA+NA</td>\n",
       "      <td>NA+NA</td>\n",
       "      <td>NA+NA</td>\n",
       "      <td>NA+NA</td>\n",
       "      <td>NA+NA</td>\n",
       "      <td>NaN</td>\n",
       "      <td>dabrowskia@student.mini.pw.edu.pl</td>\n",
       "    </tr>\n",
       "    <tr>\n",
       "      <th>4</th>\n",
       "      <td>Jarosław</td>\n",
       "      <td>Lewandowski</td>\n",
       "      <td>2.0+0.0</td>\n",
       "      <td>3.0+1.0</td>\n",
       "      <td>1.0+0.0</td>\n",
       "      <td>1.5+1.5</td>\n",
       "      <td>0.5+0.0</td>\n",
       "      <td>1.25+0.0</td>\n",
       "      <td>0.0+NB</td>\n",
       "      <td>2.5+0.0</td>\n",
       "      <td>NB+NB</td>\n",
       "      <td>NB+NB</td>\n",
       "      <td>NB+NB</td>\n",
       "      <td>NB+NB</td>\n",
       "      <td>NB+NB</td>\n",
       "      <td>NB+NB</td>\n",
       "      <td>NaN</td>\n",
       "      <td>lewandowskij@student.mini.pw.edu.pl</td>\n",
       "    </tr>\n",
       "  </tbody>\n",
       "</table>\n",
       "</div>"
      ],
      "text/plain": [
       "       Imię     Nazwisko  Z1(4+1)  Z2(4+1)  Z3(4+1)  Z4(4+1)  Z5(2+2)  \\\n",
       "0      Anna        Nowak  2.5+1.0  4.0+1.0  2.0+0.0  1.0+2.0  1.5+2.0   \n",
       "1     Rafał     Kowalski  3.0+0.0  2.0+0.5  2.0+1.0  1.5+1.5  2.0+1.0   \n",
       "2     Pavlo   Wiśniewski  2.5+0.5   US+1.0  2.5+1.0  1.5+1.5  2.0+1.5   \n",
       "3    Aleksy    Dąbrowski  0.5+1.0  1.0+1.0    NA+NA    NA+NA    NA+NA   \n",
       "4  Jarosław  Lewandowski  2.0+0.0  3.0+1.0  1.0+0.0  1.5+1.5  0.5+0.0   \n",
       "\n",
       "    Z6(4+1)  Z7(4+1)  Z8(4+1)  Z9(4+1) Z10(4+1) Z11(4+1)           Z12(4+1)  \\\n",
       "0   2.0+0.0   0.0+NB  1.5+1.0  3.5+0.5  2.0+0.0  0.5+1.0              ZW+ZW   \n",
       "1   1.0+0.5   0.0+NB  3.0+1.0  3.5+1.0   0.0+NB  1.0+1.0  NS.(3.0)+NS.(1.0)   \n",
       "2   3.5+0.0  1.0+1.0  3.0+1.0  3.5+1.0    ZW+ZW  1.0+0.5            3.5+1.0   \n",
       "3     NA+NA    NA+NA    NA+NA    NA+NA    NA+NA    NA+NA              NA+NA   \n",
       "4  1.25+0.0   0.0+NB  2.5+0.0    NB+NB    NB+NB    NB+NB              NB+NB   \n",
       "\n",
       "    Z13(5) Z14(4+1)  Z15(5)                                email  \n",
       "0  4.0+0.0  4.0+1.0     NaN        nowaka@student.mini.pw.edu.pl  \n",
       "1  4.0+0.0  4.0+1.0     NaN     kowalskir@student.mini.pw.edu.pl  \n",
       "2  4.0+1.0  4.0+1.0     NaN   wisniewskip@student.mini.pw.edu.pl  \n",
       "3    NA+NA    NA+NA     NaN    dabrowskia@student.mini.pw.edu.pl  \n",
       "4    NB+NB    NB+NB     NaN  lewandowskij@student.mini.pw.edu.pl  "
      ]
     },
     "execution_count": 125,
     "metadata": {},
     "output_type": "execute_result"
    }
   ],
   "source": [
    "oceny.head()"
   ]
  },
  {
   "cell_type": "markdown",
   "metadata": {},
   "source": [
    "Jeśli mam kolumnę Z1(4+1), to chciałbym mieć dwie kolumny: `L1(4)` oraz '`D1(1)` i oczywiście wartości w kolumnie odpowiednio rozbite.\n",
    "\n",
    "Trzeba pamiętać żeby nie przetowrzyć kolumn: Imię, Nazwisko, email"
   ]
  },
  {
   "cell_type": "markdown",
   "metadata": {},
   "source": [
    "* `\\d`- cyfra\n",
    "* `()` - grupa (capturing group)\n",
    "* `\\( \\)` - dosłowne rozumienie znaku nawias"
   ]
  },
  {
   "cell_type": "code",
   "execution_count": 126,
   "metadata": {},
   "outputs": [],
   "source": [
    "import re"
   ]
  },
  {
   "cell_type": "code",
   "execution_count": 128,
   "metadata": {},
   "outputs": [
    {
     "data": {
      "text/plain": [
       "['Ala', 'Ola']"
      ]
     },
     "execution_count": 128,
     "metadata": {},
     "output_type": "execute_result"
    }
   ],
   "source": [
    "re.findall(\"[AO]la\", \"Ala ma kota. Ola ma psa.\")"
   ]
  },
  {
   "cell_type": "markdown",
   "metadata": {},
   "source": [
    "Z1(4+1)"
   ]
  },
  {
   "cell_type": "code",
   "execution_count": 132,
   "metadata": {},
   "outputs": [
    {
     "data": {
      "text/plain": [
       "[('1', '4', '1')]"
      ]
     },
     "execution_count": 132,
     "metadata": {},
     "output_type": "execute_result"
    }
   ],
   "source": [
    "re.findall(\"Z(\\d{1,2})\\((\\d)\\+(\\d)\\)\", \"Z1(4+1)\")"
   ]
  },
  {
   "cell_type": "code",
   "execution_count": 133,
   "metadata": {},
   "outputs": [
    {
     "data": {
      "text/plain": [
       "[]"
      ]
     },
     "execution_count": 133,
     "metadata": {},
     "output_type": "execute_result"
    }
   ],
   "source": [
    "re.findall(\"Z(\\d{1,2})\\((\\d)\\+(\\d)\\)\", \"Kowalski\")"
   ]
  },
  {
   "cell_type": "code",
   "execution_count": 134,
   "metadata": {},
   "outputs": [
    {
     "data": {
      "text/plain": [
       "['2', '3']"
      ]
     },
     "execution_count": 134,
     "metadata": {},
     "output_type": "execute_result"
    }
   ],
   "source": [
    "\"2+3\".split(\"+\")"
   ]
  },
  {
   "cell_type": "code",
   "execution_count": 138,
   "metadata": {},
   "outputs": [
    {
     "data": {
      "text/html": [
       "<div>\n",
       "<style scoped>\n",
       "    .dataframe tbody tr th:only-of-type {\n",
       "        vertical-align: middle;\n",
       "    }\n",
       "\n",
       "    .dataframe tbody tr th {\n",
       "        vertical-align: top;\n",
       "    }\n",
       "\n",
       "    .dataframe thead th {\n",
       "        text-align: right;\n",
       "    }\n",
       "</style>\n",
       "<table border=\"1\" class=\"dataframe\">\n",
       "  <thead>\n",
       "    <tr style=\"text-align: right;\">\n",
       "      <th></th>\n",
       "      <th>0</th>\n",
       "      <th>1</th>\n",
       "    </tr>\n",
       "  </thead>\n",
       "  <tbody>\n",
       "    <tr>\n",
       "      <th>0</th>\n",
       "      <td>2.5</td>\n",
       "      <td>1.0</td>\n",
       "    </tr>\n",
       "    <tr>\n",
       "      <th>1</th>\n",
       "      <td>3.0</td>\n",
       "      <td>0.0</td>\n",
       "    </tr>\n",
       "    <tr>\n",
       "      <th>2</th>\n",
       "      <td>2.5</td>\n",
       "      <td>0.5</td>\n",
       "    </tr>\n",
       "    <tr>\n",
       "      <th>3</th>\n",
       "      <td>0.5</td>\n",
       "      <td>1.0</td>\n",
       "    </tr>\n",
       "    <tr>\n",
       "      <th>4</th>\n",
       "      <td>2.0</td>\n",
       "      <td>0.0</td>\n",
       "    </tr>\n",
       "    <tr>\n",
       "      <th>5</th>\n",
       "      <td>2.0</td>\n",
       "      <td>1.0</td>\n",
       "    </tr>\n",
       "    <tr>\n",
       "      <th>6</th>\n",
       "      <td>4.0</td>\n",
       "      <td>1.0</td>\n",
       "    </tr>\n",
       "    <tr>\n",
       "      <th>7</th>\n",
       "      <td>4.0</td>\n",
       "      <td>0.5</td>\n",
       "    </tr>\n",
       "    <tr>\n",
       "      <th>8</th>\n",
       "      <td>2.5</td>\n",
       "      <td>0.0</td>\n",
       "    </tr>\n",
       "    <tr>\n",
       "      <th>9</th>\n",
       "      <td>2.5</td>\n",
       "      <td>1.0</td>\n",
       "    </tr>\n",
       "    <tr>\n",
       "      <th>10</th>\n",
       "      <td>2.0</td>\n",
       "      <td>1.0</td>\n",
       "    </tr>\n",
       "  </tbody>\n",
       "</table>\n",
       "</div>"
      ],
      "text/plain": [
       "      0    1\n",
       "0   2.5  1.0\n",
       "1   3.0  0.0\n",
       "2   2.5  0.5\n",
       "3   0.5  1.0\n",
       "4   2.0  0.0\n",
       "5   2.0  1.0\n",
       "6   4.0  1.0\n",
       "7   4.0  0.5\n",
       "8   2.5  0.0\n",
       "9   2.5  1.0\n",
       "10  2.0  1.0"
      ]
     },
     "execution_count": 138,
     "metadata": {},
     "output_type": "execute_result"
    }
   ],
   "source": [
    "oceny[\"Z1(4+1)\"].str.split(\"+\", expand=True)"
   ]
  },
  {
   "cell_type": "code",
   "execution_count": 139,
   "metadata": {},
   "outputs": [],
   "source": [
    "oceny2 = oceny.copy()"
   ]
  },
  {
   "cell_type": "code",
   "execution_count": 140,
   "metadata": {},
   "outputs": [],
   "source": [
    "# najpierw zmienamiamy nazwe kolumny Z13(5) na Z13(4+1)\n",
    "# usuwamy Z15(5)\n",
    "\n",
    "# for po nazwach kolumn:\n",
    "    # sprawdzamy dopasowanie wzorca nazwy kolumny\n",
    "    # jesli dopasowano (len(result) > 0)\n",
    "        # bierzemy te grupy\n",
    "        # bierzemy rozbite wartości\n",
    "        # tworzymy dwie kolumny (L oraz D)\n",
    "        # drop kolumny obecnie przetwarzanej"
   ]
  },
  {
   "cell_type": "code",
   "execution_count": 141,
   "metadata": {},
   "outputs": [],
   "source": [
    "oceny2.rename(columns={\"Z13(5)\": \"Z13(4+1)\"}, inplace=True)"
   ]
  },
  {
   "cell_type": "code",
   "execution_count": 143,
   "metadata": {},
   "outputs": [],
   "source": [
    "oceny2.drop(columns=\"Z15(5)\", axis=1, inplace=True)"
   ]
  },
  {
   "cell_type": "code",
   "execution_count": 146,
   "metadata": {},
   "outputs": [
    {
     "data": {
      "text/plain": [
       "Index(['Imię', 'Nazwisko', 'Z1(4+1)', 'Z2(4+1)', 'Z3(4+1)', 'Z4(4+1)',\n",
       "       'Z5(2+2)', 'Z6(4+1)', 'Z7(4+1)', 'Z8(4+1)', 'Z9(4+1)', 'Z10(4+1)',\n",
       "       'Z11(4+1)', 'Z12(4+1)', 'Z13(4+1)', 'Z14(4+1)', 'email'],\n",
       "      dtype='object')"
      ]
     },
     "execution_count": 146,
     "metadata": {},
     "output_type": "execute_result"
    }
   ],
   "source": [
    "oceny2.columns"
   ]
  },
  {
   "cell_type": "code",
   "execution_count": 149,
   "metadata": {},
   "outputs": [
    {
     "name": "stdout",
     "output_type": "stream",
     "text": [
      "1\n",
      "2\n",
      "4\n",
      "5\n"
     ]
    }
   ],
   "source": [
    "for i in [1,2,3,4,5]:\n",
    "    if i == 3:\n",
    "        continue\n",
    "    print(i)"
   ]
  },
  {
   "cell_type": "code",
   "execution_count": 151,
   "metadata": {},
   "outputs": [
    {
     "data": {
      "text/plain": [
       "'L2(3)'"
      ]
     },
     "execution_count": 151,
     "metadata": {},
     "output_type": "execute_result"
    }
   ],
   "source": [
    "\"L\" + \"2\" + \"(\" + \"3\" + \")\""
   ]
  },
  {
   "cell_type": "code",
   "execution_count": 152,
   "metadata": {},
   "outputs": [
    {
     "data": {
      "text/plain": [
       "'L2(3)'"
      ]
     },
     "execution_count": 152,
     "metadata": {},
     "output_type": "execute_result"
    }
   ],
   "source": [
    "f\"L{2}({3})\""
   ]
  },
  {
   "cell_type": "code",
   "execution_count": 153,
   "metadata": {},
   "outputs": [],
   "source": [
    "for kolumna in oceny2.columns:\n",
    "    dopasowanie_wzorca = re.findall(\"Z(\\d{1,2})\\((\\d)\\+(\\d)\\)\", kolumna)\n",
    "    if len(dopasowanie_wzorca) == 0:\n",
    "        continue\n",
    "    numer, maks_lab, maks_dom = dopasowanie_wzorca[0]\n",
    "    rozbite_wartosci = oceny2[kolumna].str.split(\"+\", expand=True)\n",
    "    oceny2[f\"L{numer}({maks_lab})\"] = rozbite_wartosci[0]\n",
    "    oceny2[f\"D{numer}({maks_dom})\"] = rozbite_wartosci[1]\n",
    "    oceny2.drop(columns=kolumna, inplace=True)"
   ]
  },
  {
   "cell_type": "code",
   "execution_count": 154,
   "metadata": {},
   "outputs": [
    {
     "data": {
      "text/html": [
       "<div>\n",
       "<style scoped>\n",
       "    .dataframe tbody tr th:only-of-type {\n",
       "        vertical-align: middle;\n",
       "    }\n",
       "\n",
       "    .dataframe tbody tr th {\n",
       "        vertical-align: top;\n",
       "    }\n",
       "\n",
       "    .dataframe thead th {\n",
       "        text-align: right;\n",
       "    }\n",
       "</style>\n",
       "<table border=\"1\" class=\"dataframe\">\n",
       "  <thead>\n",
       "    <tr style=\"text-align: right;\">\n",
       "      <th></th>\n",
       "      <th>Imię</th>\n",
       "      <th>Nazwisko</th>\n",
       "      <th>email</th>\n",
       "      <th>L1(4)</th>\n",
       "      <th>D1(1)</th>\n",
       "      <th>L2(4)</th>\n",
       "      <th>D2(1)</th>\n",
       "      <th>L3(4)</th>\n",
       "      <th>D3(1)</th>\n",
       "      <th>L4(4)</th>\n",
       "      <th>...</th>\n",
       "      <th>L10(4)</th>\n",
       "      <th>D10(1)</th>\n",
       "      <th>L11(4)</th>\n",
       "      <th>D11(1)</th>\n",
       "      <th>L12(4)</th>\n",
       "      <th>D12(1)</th>\n",
       "      <th>L13(4)</th>\n",
       "      <th>D13(1)</th>\n",
       "      <th>L14(4)</th>\n",
       "      <th>D14(1)</th>\n",
       "    </tr>\n",
       "  </thead>\n",
       "  <tbody>\n",
       "    <tr>\n",
       "      <th>0</th>\n",
       "      <td>Anna</td>\n",
       "      <td>Nowak</td>\n",
       "      <td>nowaka@student.mini.pw.edu.pl</td>\n",
       "      <td>2.5</td>\n",
       "      <td>1.0</td>\n",
       "      <td>4.0</td>\n",
       "      <td>1.0</td>\n",
       "      <td>2.0</td>\n",
       "      <td>0.0</td>\n",
       "      <td>1.0</td>\n",
       "      <td>...</td>\n",
       "      <td>2.0</td>\n",
       "      <td>0.0</td>\n",
       "      <td>0.5</td>\n",
       "      <td>1.0</td>\n",
       "      <td>ZW</td>\n",
       "      <td>ZW</td>\n",
       "      <td>4.0</td>\n",
       "      <td>0.0</td>\n",
       "      <td>4.0</td>\n",
       "      <td>1.0</td>\n",
       "    </tr>\n",
       "    <tr>\n",
       "      <th>1</th>\n",
       "      <td>Rafał</td>\n",
       "      <td>Kowalski</td>\n",
       "      <td>kowalskir@student.mini.pw.edu.pl</td>\n",
       "      <td>3.0</td>\n",
       "      <td>0.0</td>\n",
       "      <td>2.0</td>\n",
       "      <td>0.5</td>\n",
       "      <td>2.0</td>\n",
       "      <td>1.0</td>\n",
       "      <td>1.5</td>\n",
       "      <td>...</td>\n",
       "      <td>0.0</td>\n",
       "      <td>NB</td>\n",
       "      <td>1.0</td>\n",
       "      <td>1.0</td>\n",
       "      <td>NS.(3.0)</td>\n",
       "      <td>NS.(1.0)</td>\n",
       "      <td>4.0</td>\n",
       "      <td>0.0</td>\n",
       "      <td>4.0</td>\n",
       "      <td>1.0</td>\n",
       "    </tr>\n",
       "    <tr>\n",
       "      <th>2</th>\n",
       "      <td>Pavlo</td>\n",
       "      <td>Wiśniewski</td>\n",
       "      <td>wisniewskip@student.mini.pw.edu.pl</td>\n",
       "      <td>2.5</td>\n",
       "      <td>0.5</td>\n",
       "      <td>US</td>\n",
       "      <td>1.0</td>\n",
       "      <td>2.5</td>\n",
       "      <td>1.0</td>\n",
       "      <td>1.5</td>\n",
       "      <td>...</td>\n",
       "      <td>ZW</td>\n",
       "      <td>ZW</td>\n",
       "      <td>1.0</td>\n",
       "      <td>0.5</td>\n",
       "      <td>3.5</td>\n",
       "      <td>1.0</td>\n",
       "      <td>4.0</td>\n",
       "      <td>1.0</td>\n",
       "      <td>4.0</td>\n",
       "      <td>1.0</td>\n",
       "    </tr>\n",
       "    <tr>\n",
       "      <th>3</th>\n",
       "      <td>Aleksy</td>\n",
       "      <td>Dąbrowski</td>\n",
       "      <td>dabrowskia@student.mini.pw.edu.pl</td>\n",
       "      <td>0.5</td>\n",
       "      <td>1.0</td>\n",
       "      <td>1.0</td>\n",
       "      <td>1.0</td>\n",
       "      <td>NA</td>\n",
       "      <td>NA</td>\n",
       "      <td>NA</td>\n",
       "      <td>...</td>\n",
       "      <td>NA</td>\n",
       "      <td>NA</td>\n",
       "      <td>NA</td>\n",
       "      <td>NA</td>\n",
       "      <td>NA</td>\n",
       "      <td>NA</td>\n",
       "      <td>NA</td>\n",
       "      <td>NA</td>\n",
       "      <td>NA</td>\n",
       "      <td>NA</td>\n",
       "    </tr>\n",
       "    <tr>\n",
       "      <th>4</th>\n",
       "      <td>Jarosław</td>\n",
       "      <td>Lewandowski</td>\n",
       "      <td>lewandowskij@student.mini.pw.edu.pl</td>\n",
       "      <td>2.0</td>\n",
       "      <td>0.0</td>\n",
       "      <td>3.0</td>\n",
       "      <td>1.0</td>\n",
       "      <td>1.0</td>\n",
       "      <td>0.0</td>\n",
       "      <td>1.5</td>\n",
       "      <td>...</td>\n",
       "      <td>NB</td>\n",
       "      <td>NB</td>\n",
       "      <td>NB</td>\n",
       "      <td>NB</td>\n",
       "      <td>NB</td>\n",
       "      <td>NB</td>\n",
       "      <td>NB</td>\n",
       "      <td>NB</td>\n",
       "      <td>NB</td>\n",
       "      <td>NB</td>\n",
       "    </tr>\n",
       "  </tbody>\n",
       "</table>\n",
       "<p>5 rows × 31 columns</p>\n",
       "</div>"
      ],
      "text/plain": [
       "       Imię     Nazwisko                                email L1(4) D1(1)  \\\n",
       "0      Anna        Nowak        nowaka@student.mini.pw.edu.pl   2.5   1.0   \n",
       "1     Rafał     Kowalski     kowalskir@student.mini.pw.edu.pl   3.0   0.0   \n",
       "2     Pavlo   Wiśniewski   wisniewskip@student.mini.pw.edu.pl   2.5   0.5   \n",
       "3    Aleksy    Dąbrowski    dabrowskia@student.mini.pw.edu.pl   0.5   1.0   \n",
       "4  Jarosław  Lewandowski  lewandowskij@student.mini.pw.edu.pl   2.0   0.0   \n",
       "\n",
       "  L2(4) D2(1) L3(4) D3(1) L4(4)  ... L10(4) D10(1) L11(4) D11(1)    L12(4)  \\\n",
       "0   4.0   1.0   2.0   0.0   1.0  ...    2.0    0.0    0.5    1.0        ZW   \n",
       "1   2.0   0.5   2.0   1.0   1.5  ...    0.0     NB    1.0    1.0  NS.(3.0)   \n",
       "2    US   1.0   2.5   1.0   1.5  ...     ZW     ZW    1.0    0.5       3.5   \n",
       "3   1.0   1.0    NA    NA    NA  ...     NA     NA     NA     NA        NA   \n",
       "4   3.0   1.0   1.0   0.0   1.5  ...     NB     NB     NB     NB        NB   \n",
       "\n",
       "     D12(1) L13(4) D13(1) L14(4) D14(1)  \n",
       "0        ZW    4.0    0.0    4.0    1.0  \n",
       "1  NS.(1.0)    4.0    0.0    4.0    1.0  \n",
       "2       1.0    4.0    1.0    4.0    1.0  \n",
       "3        NA     NA     NA     NA     NA  \n",
       "4        NB     NB     NB     NB     NB  \n",
       "\n",
       "[5 rows x 31 columns]"
      ]
     },
     "execution_count": 154,
     "metadata": {},
     "output_type": "execute_result"
    }
   ],
   "source": [
    "oceny2.head()"
   ]
  },
  {
   "cell_type": "markdown",
   "metadata": {},
   "source": [
    "# Zamieniamy nieobecności/plagiaty"
   ]
  },
  {
   "cell_type": "markdown",
   "metadata": {},
   "source": [
    "* NA, NB - nieobecność nieusprawiedliwiona, wstawiamy 0\n",
    "* US, ZW - nieobecność usprawiedliwiona, wstawiamy np.NaN (o co chodzi - o tym za chwilę)\n",
    "* NS.(1.0) - praca niesamodzielna, wstawiamy 0"
   ]
  },
  {
   "cell_type": "markdown",
   "metadata": {},
   "source": [
    "# Wstawiamy punkty za zwolnienia lekarskie"
   ]
  },
  {
   "cell_type": "markdown",
   "metadata": {},
   "source": [
    "* Zamieniamy kolumny na floaty\n",
    "* Dla każdego znalezionego NaN: policz średnią z wiersza (siła studenta), średnią z kolumny (trudność zadania), oblicz średnią z tych dwóch średnich i wstaw (zrobić pętlą, ja potem pokażę w Numpy)"
   ]
  },
  {
   "cell_type": "markdown",
   "metadata": {},
   "source": [
    "### Wstawienie punktów za usprawiedliwione nieobecności (wersja z pętlami)"
   ]
  },
  {
   "cell_type": "code",
   "execution_count": 71,
   "metadata": {},
   "outputs": [],
   "source": [
    "# pętla po wierszach:\n",
    "#    pętla po kolumnach (odpowiednich):\n",
    "#        czy napotkałem nan?\n",
    "#            liczę średnie, średnią z średnich, wstawiam"
   ]
  },
  {
   "cell_type": "markdown",
   "metadata": {},
   "source": [
    "### Wstawienie punktów za usprawiedliwione nieobecności (wersja zwektoryzowana)"
   ]
  },
  {
   "cell_type": "code",
   "execution_count": 75,
   "metadata": {},
   "outputs": [],
   "source": [
    "# policzyć średnie dla każdej kolumny i każdego wiersza (w sposób zwektoryzowany)\n",
    "# znaleźć indeksy, na których są nany (zwektoryzowany)\n",
    "# podstawić pod te indeksy średnie z średnich (indeksowanie listą liczb całkowitych)"
   ]
  },
  {
   "cell_type": "markdown",
   "metadata": {},
   "source": [
    "# Wystawiamy oceny (nareszcie!)"
   ]
  },
  {
   "cell_type": "markdown",
   "metadata": {},
   "source": [
    "* Obliczyć teoretyczną maksymalną sumę punktów, jaką można było uzyskać (przejść po nazwach kolumn, odzyskać maks. punkty, zsumować)\n",
    "* Zsumować punkty studentów (nowa kolumna - Suma)\n",
    "* Obliczyć procent uzyskanych punktów. Przelicznik jest następujący:"
   ]
  },
  {
   "cell_type": "markdown",
   "metadata": {},
   "source": [
    "* [0, 50%) -> 2.0\n",
    "* [50%, 60%) -> 3.0\n",
    "* [60%, 70%) -> 3.5\n",
    "* [70%, 80%) -> 4.0\n",
    "* [80%, 90%) -> 4.5\n",
    "* [90%, 100%] -> 5.0\n"
   ]
  },
  {
   "cell_type": "markdown",
   "metadata": {},
   "source": [
    "Pomocna metoda: https://pandas.pydata.org/pandas-docs/stable/reference/api/pandas.cut.html"
   ]
  }
 ],
 "metadata": {
  "kernelspec": {
   "display_name": "rozne_zrodla_danych",
   "language": "python",
   "name": "rozne_zrodla_danych"
  },
  "language_info": {
   "codemirror_mode": {
    "name": "ipython",
    "version": 3
   },
   "file_extension": ".py",
   "mimetype": "text/x-python",
   "name": "python",
   "nbconvert_exporter": "python",
   "pygments_lexer": "ipython3",
   "version": "3.8.2"
  }
 },
 "nbformat": 4,
 "nbformat_minor": 4
}
