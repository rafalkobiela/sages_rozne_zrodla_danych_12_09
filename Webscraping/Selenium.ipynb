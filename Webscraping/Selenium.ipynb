{
 "cells": [
  {
   "cell_type": "markdown",
   "metadata": {},
   "source": [
    "# Instalacja\n",
    "\n",
    "## Każdy:\n",
    "* w terminalu wykonaj: `conda install -c conda-forge selenium` lub `pip install selenium`\n",
    "* upewnić się, że mamy aktualnego Firefoxa (ważne) (i że w ogóle go mamy zainstalowanego)\n",
    "\n",
    "## MacOS, Linux, zwłaszcza maszyna wirtualna:\n",
    "* zupełnie niezależnie wejdź na stronę `https://github.com/mozilla/geckodriver/releases`\n",
    "* ściągnij najnowszą wersję, np. `geckodriver-v0.26.0-linux64.tar.gz`\n",
    "* rozpakuj (dwa razy kliknij myszą, przeciągnij do folderu Pobrane)\n",
    "* w Terminalu wejdź do folderu Pobrane, a następnie wykonaj `sudo cp geckodriver /usr/local/bin`\n",
    "\n",
    "## Windows:\n",
    "* zupełnie niezależnie wejdź na stronę `https://github.com/mozilla/geckodriver/releases`\n",
    "* ściągnij najnowszą wersję, np. `geckodriver-v0.26.0-win64.zip`\n",
    "* rozpakuj (dwa razy kliknij myszą, przeciągnij do folderu Pobrane)\n",
    "* przekopiuj `geckodriver.exe` do `C:\\Windows\\System32\\`\n",
    "\n",
    "## Pożądane zachowanie kodu poniżej (testujemy czy działa):\n",
    "\n",
    "Przede wszystkim kod nie zgłasza błędu, w szczególności nie mówi, że brakuje mu pakietu selenium lub nie może znaleźć programu geckodriver. Kod powinien uruchomić na chwilę okno przeglądarki, wejść na stronę python.org, coś na niej zrobić i **zamknąć okno na koniec**. **Zamknięcie okna i brak wyniku to pożądane zachowanie**."
   ]
  },
  {
   "cell_type": "code",
   "execution_count": 4,
   "metadata": {},
   "outputs": [],
   "source": [
    "from selenium import webdriver\n",
    "from selenium.webdriver.common.keys import Keys\n",
    "import time\n",
    "\n",
    "driver = webdriver.Firefox()\n",
    "#driver = webdriver.Firefox(executable_path=r'your\\path\\geckodriver.exe')\n",
    "driver.get(\"http://www.python.org\")\n",
    "assert \"Python\" in driver.title\n",
    "elem = driver.find_element_by_name(\"q\")\n",
    "elem.clear()\n",
    "elem.send_keys(\"pycon\")\n",
    "elem.send_keys(Keys.RETURN)\n",
    "time.sleep(2)\n",
    "assert \"No results found.\" not in driver.page_source\n",
    "driver.close()"
   ]
  },
  {
   "cell_type": "code",
   "execution_count": 2,
   "metadata": {},
   "outputs": [],
   "source": [
    "assert 3>2"
   ]
  },
  {
   "cell_type": "code",
   "execution_count": 3,
   "metadata": {
    "collapsed": true,
    "jupyter": {
     "outputs_hidden": true
    }
   },
   "outputs": [
    {
     "ename": "AssertionError",
     "evalue": "",
     "output_type": "error",
     "traceback": [
      "\u001b[0;31m---------------------------------------------------------------------------\u001b[0m",
      "\u001b[0;31mAssertionError\u001b[0m                            Traceback (most recent call last)",
      "\u001b[0;32m<ipython-input-3-2de83885ea20>\u001b[0m in \u001b[0;36m<module>\u001b[0;34m\u001b[0m\n\u001b[0;32m----> 1\u001b[0;31m \u001b[0;32massert\u001b[0m \u001b[0;36m2\u001b[0m \u001b[0;34m>\u001b[0m \u001b[0;36m3\u001b[0m\u001b[0;34m\u001b[0m\u001b[0;34m\u001b[0m\u001b[0m\n\u001b[0m",
      "\u001b[0;31mAssertionError\u001b[0m: "
     ]
    }
   ],
   "source": [
    "assert 2 > 3"
   ]
  },
  {
   "cell_type": "markdown",
   "metadata": {},
   "source": [
    "# Przewijanie strony do końca"
   ]
  },
  {
   "cell_type": "markdown",
   "metadata": {},
   "source": [
    "https://www.google.com/search?q=red+alert&client=firefox-b-ab&source=lnms&tbm=isch&sa=X&ved=0ahUKEwig45qX--3iAhUFxIsKHaGAC0sQ_AUIECgB&biw=1855&bih=852"
   ]
  },
  {
   "cell_type": "code",
   "execution_count": null,
   "metadata": {},
   "outputs": [],
   "source": []
  },
  {
   "cell_type": "markdown",
   "metadata": {},
   "source": [
    "# Podpowiedzi na Google"
   ]
  },
  {
   "cell_type": "code",
   "execution_count": null,
   "metadata": {},
   "outputs": [],
   "source": []
  },
  {
   "cell_type": "markdown",
   "metadata": {},
   "source": [
    "# Wypełnianie formularzy"
   ]
  },
  {
   "cell_type": "markdown",
   "metadata": {},
   "source": [
    "https://wiedza.pkn.pl/wyszukiwarka-norm"
   ]
  },
  {
   "cell_type": "code",
   "execution_count": null,
   "metadata": {},
   "outputs": [],
   "source": []
  }
 ],
 "metadata": {
  "kernelspec": {
   "display_name": "Python 3",
   "language": "python",
   "name": "python3"
  },
  "language_info": {
   "codemirror_mode": {
    "name": "ipython",
    "version": 3
   },
   "file_extension": ".py",
   "mimetype": "text/x-python",
   "name": "python",
   "nbconvert_exporter": "python",
   "pygments_lexer": "ipython3",
   "version": "3.8.2"
  }
 },
 "nbformat": 4,
 "nbformat_minor": 4
}
