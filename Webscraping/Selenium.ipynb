{
 "cells": [
  {
   "cell_type": "markdown",
   "metadata": {},
   "source": [
    "# Instalacja\n",
    "\n",
    "## Każdy:\n",
    "* w terminalu wykonaj: `conda install -c conda-forge selenium` lub `pip install selenium`\n",
    "* upewnić się, że mamy aktualnego Firefoxa (ważne) (i że w ogóle go mamy zainstalowanego)\n",
    "\n",
    "## MacOS, Linux, zwłaszcza maszyna wirtualna:\n",
    "* zupełnie niezależnie wejdź na stronę `https://github.com/mozilla/geckodriver/releases`\n",
    "* ściągnij najnowszą wersję, np. `geckodriver-v0.27.0-linux64.tar.gz`\n",
    "* rozpakuj (dwa razy kliknij myszą, przeciągnij do folderu Pobrane)\n",
    "* w Terminalu wejdź do folderu Pobrane, a następnie wykonaj `sudo cp geckodriver /usr/local/bin`\n",
    "\n",
    "## Windows:\n",
    "* zupełnie niezależnie wejdź na stronę `https://github.com/mozilla/geckodriver/releases` #https://sites.google.com/a/chromium.org/chromedriver/downloads\n",
    "* ściągnij najnowszą wersję, np. `geckodriver-v0.27.0-win64.zip`\n",
    "* rozpakuj (dwa razy kliknij myszą, przeciągnij do folderu Pobrane)\n",
    "* przekopiuj `geckodriver.exe` do `C:\\Windows\\System32\\`\n",
    "\n",
    "## Pożądane zachowanie kodu poniżej (testujemy czy działa):\n",
    "\n",
    "Przede wszystkim kod nie zgłasza błędu, w szczególności nie mówi, że brakuje mu pakietu selenium lub nie może znaleźć programu geckodriver. Kod powinien uruchomić na chwilę okno przeglądarki, wejść na stronę python.org, coś na niej zrobić i **zamknąć okno na koniec**. **Zamknięcie okna i brak wyniku to pożądane zachowanie**."
   ]
  },
  {
   "cell_type": "code",
   "execution_count": 2,
   "metadata": {},
   "outputs": [],
   "source": [
    "from selenium import webdriver\n",
    "from selenium.webdriver.common.keys import Keys\n",
    "import time\n",
    "\n",
    "driver = webdriver.Firefox() # webdriver.Chrome()\n",
    "#driver = webdriver.Firefox(executable_path=r'your\\path\\geckodriver.exe')\n",
    "driver.get(\"http://www.python.org\")\n",
    "assert \"Python\" in driver.title\n",
    "elem = driver.find_element_by_name(\"q\")\n",
    "elem.clear()\n",
    "elem.send_keys(\"pycon\")\n",
    "elem.send_keys(Keys.RETURN)\n",
    "time.sleep(2)\n",
    "assert \"No results found.\" not in driver.page_source\n",
    "driver.close()"
   ]
  },
  {
   "cell_type": "code",
   "execution_count": 3,
   "metadata": {},
   "outputs": [],
   "source": [
    "assert 3>2"
   ]
  },
  {
   "cell_type": "code",
   "execution_count": 4,
   "metadata": {},
   "outputs": [
    {
     "ename": "AssertionError",
     "evalue": "",
     "output_type": "error",
     "traceback": [
      "\u001b[0;31m---------------------------------------------------------------------------\u001b[0m",
      "\u001b[0;31mAssertionError\u001b[0m                            Traceback (most recent call last)",
      "\u001b[0;32m<ipython-input-4-2de83885ea20>\u001b[0m in \u001b[0;36m<module>\u001b[0;34m\u001b[0m\n\u001b[0;32m----> 1\u001b[0;31m \u001b[0;32massert\u001b[0m \u001b[0;36m2\u001b[0m \u001b[0;34m>\u001b[0m \u001b[0;36m3\u001b[0m\u001b[0;34m\u001b[0m\u001b[0;34m\u001b[0m\u001b[0m\n\u001b[0m",
      "\u001b[0;31mAssertionError\u001b[0m: "
     ]
    }
   ],
   "source": [
    "assert 2 > 3"
   ]
  },
  {
   "cell_type": "markdown",
   "metadata": {},
   "source": [
    "# Przewijanie strony do końca"
   ]
  },
  {
   "cell_type": "markdown",
   "metadata": {},
   "source": [
    "https://www.google.com/search?q=red+alert&client=firefox-b-ab&source=lnms&tbm=isch&sa=X&ved=0ahUKEwig45qX--3iAhUFxIsKHaGAC0sQ_AUIECgB&biw=1855&bih=852"
   ]
  },
  {
   "cell_type": "code",
   "execution_count": 10,
   "metadata": {},
   "outputs": [],
   "source": [
    "import time"
   ]
  },
  {
   "cell_type": "code",
   "execution_count": 20,
   "metadata": {},
   "outputs": [
    {
     "name": "stdout",
     "output_type": "stream",
     "text": [
      "Ilość obrazków 605\n"
     ]
    }
   ],
   "source": [
    "driver = webdriver.Firefox()\n",
    "driver.get(\"https://www.google.com/search?q=red+alert&client=firefox-b-ab&source=lnms&tbm=isch&sa=X&ved=0ahUKEwig45qX--3iAhUFxIsKHaGAC0sQ_AUIECgB&biw=1855&bih=852\")\n",
    "\n",
    "last_height = driver.execute_script(\"return document.body.scrollHeight\")\n",
    "\n",
    "while True:\n",
    "    while True:\n",
    "        # zjzdzamy na dół\n",
    "        driver.execute_script(\"window.scrollTo(0, document.body.scrollHeight);\")\n",
    "        \n",
    "        time.sleep(1)\n",
    "        \n",
    "        new_height = driver.execute_script(\"return document.body.scrollHeight\")\n",
    "        \n",
    "        if new_height == last_height:\n",
    "            break\n",
    "        last_height = new_height\n",
    "    \n",
    "    try:\n",
    "        przycisk = driver.find_element_by_class_name(\"mye4qd\")\n",
    "        przycisk.click()\n",
    "        time.sleep(1)\n",
    "    except:\n",
    "        break\n",
    "    \n",
    "    \n",
    "obrazki = driver.find_elements_by_class_name(\"rg_i\")\n",
    "driver.close()\n",
    "\n",
    "print(f\"Ilość obrazków {len(obrazki)}\")\n"
   ]
  },
  {
   "cell_type": "code",
   "execution_count": 21,
   "metadata": {},
   "outputs": [
    {
     "name": "stdout",
     "output_type": "stream",
     "text": [
      "Ilość obrazków 605\n"
     ]
    }
   ],
   "source": [
    "from selenium.webdriver.firefox.options import Options\n",
    "\n",
    "options = Options()\n",
    "options.headless = True\n",
    "driver = webdriver.Firefox(options=options)\n",
    "\n",
    "driver.get(\"https://www.google.com/search?q=red+alert&client=firefox-b-ab&source=lnms&tbm=isch&sa=X&ved=0ahUKEwig45qX--3iAhUFxIsKHaGAC0sQ_AUIECgB&biw=1855&bih=852\")\n",
    "\n",
    "last_height = driver.execute_script(\"return document.body.scrollHeight\")\n",
    "\n",
    "while True:\n",
    "    while True:\n",
    "        # zjzdzamy na dół\n",
    "        driver.execute_script(\"window.scrollTo(0, document.body.scrollHeight);\")\n",
    "        \n",
    "        time.sleep(1)\n",
    "        \n",
    "        new_height = driver.execute_script(\"return document.body.scrollHeight\")\n",
    "        \n",
    "        if new_height == last_height:\n",
    "            break\n",
    "        last_height = new_height\n",
    "    \n",
    "    try:\n",
    "        przycisk = driver.find_element_by_class_name(\"mye4qd\")\n",
    "        przycisk.click()\n",
    "        time.sleep(1)\n",
    "    except:\n",
    "        break\n",
    "    \n",
    "    \n",
    "obrazki = driver.find_elements_by_class_name(\"rg_i\")\n",
    "driver.close()\n",
    "\n",
    "print(f\"Ilość obrazków {len(obrazki)}\")\n"
   ]
  },
  {
   "cell_type": "markdown",
   "metadata": {},
   "source": [
    "# Podpowiedzi na Google"
   ]
  },
  {
   "cell_type": "code",
   "execution_count": 29,
   "metadata": {},
   "outputs": [],
   "source": [
    "tekst = \"komputer 3\""
   ]
  },
  {
   "cell_type": "code",
   "execution_count": 30,
   "metadata": {},
   "outputs": [
    {
     "name": "stdout",
     "output_type": "stream",
     "text": [
      "11\n",
      "komputer\n",
      "komputer gamingowy\n",
      "komputer stacjonarny\n",
      "komputer świat\n",
      "komputery\n",
      "komputer do gier\n",
      "komputery gamingowe\n",
      "komputery poleasingowe\n",
      "komputery poleasingowe warszawa\n",
      "komputer apple\n",
      "\n"
     ]
    }
   ],
   "source": [
    "driver = webdriver.Firefox()\n",
    "driver.get(\"http://www.google.com\")\n",
    "\n",
    "elem = driver.find_element_by_name(\"q\")\n",
    "elem.clear()\n",
    "elem.send_keys(tekst)\n",
    "\n",
    "elem.send_keys(Keys.BACK_SPACE)\n",
    "time.sleep(0.1)\n",
    "elem.send_keys(Keys.BACK_SPACE)\n",
    "\n",
    "time.sleep(0.1)\n",
    "\n",
    "podpowiedzi = driver.find_elements_by_class_name(\"sbtc\")\n",
    "\n",
    "print(len(podpowiedzi))\n",
    "\n",
    "for podpowiedz in podpowiedzi:\n",
    "    # wchodzimy w opcje deweloperskie, klikamy w odpowiedni fragment kodu strony, klikamy prawym i copy selector\n",
    "    elem = podpowiedz.find_element_by_css_selector(\"div.sbl1 span\") \n",
    "    print(elem.text)\n",
    "\n",
    "time.sleep(3)\n",
    "\n",
    "driver.close()\n"
   ]
  },
  {
   "cell_type": "code",
   "execution_count": 35,
   "metadata": {},
   "outputs": [],
   "source": [
    "driver = webdriver.Firefox()\n",
    "driver.get(\"http://www.google.com\")\n",
    "\n",
    "elem = driver.find_element_by_name(\"q\")\n",
    "elem.clear()\n",
    "elem.send_keys(tekst)\n",
    "\n",
    "elem.send_keys(Keys.BACK_SPACE)\n",
    "time.sleep(0.1)\n",
    "elem.send_keys(Keys.BACK_SPACE)\n",
    "\n",
    "time.sleep(0.1)\n",
    "\n",
    "elem = driver.find_element_by_xpath('//*[@id=\"tsf\"]/div[2]/div[1]/div[2]/div[2]/ul')\n",
    "\n",
    "t = elem.text\n",
    "\n",
    "\n",
    "time.sleep(3)\n",
    "\n",
    "driver.close()\n"
   ]
  },
  {
   "cell_type": "code",
   "execution_count": 37,
   "metadata": {},
   "outputs": [
    {
     "data": {
      "text/plain": [
       "['komputer',\n",
       " 'komputer gamingowy',\n",
       " 'komputer stacjonarny',\n",
       " 'komputer świat',\n",
       " 'komputery',\n",
       " 'komputer do gier',\n",
       " 'komputery gamingowe',\n",
       " 'komputery poleasingowe',\n",
       " 'komputery poleasingowe warszawa',\n",
       " 'komputer apple']"
      ]
     },
     "execution_count": 37,
     "metadata": {},
     "output_type": "execute_result"
    }
   ],
   "source": [
    "t.split(\"\\n\")"
   ]
  },
  {
   "cell_type": "code",
   "execution_count": 44,
   "metadata": {},
   "outputs": [
    {
     "name": "stdout",
     "output_type": "stream",
     "text": [
      "komputer\n",
      "komputer gamingowy\n",
      "komputer stacjonarny\n",
      "komputer świat\n",
      "komputery\n",
      "komputer do gier\n",
      "komputery gamingowe\n",
      "komputery poleasingowe\n",
      "komputery poleasingowe warszawa\n",
      "komputer apple\n"
     ]
    }
   ],
   "source": [
    "from selenium.webdriver.support.ui import WebDriverWait\n",
    "from selenium.webdriver.support import expected_conditions as EC\n",
    "from selenium.webdriver.common.by import By\n",
    "\n",
    "\n",
    "driver = webdriver.Firefox()\n",
    "driver.get(\"http://www.google.com\")\n",
    "\n",
    "elem = driver.find_element_by_name(\"q\")\n",
    "elem.clear()\n",
    "elem.send_keys(tekst)\n",
    "\n",
    "elem.send_keys(Keys.BACK_SPACE)\n",
    "time.sleep(0.1)\n",
    "elem.send_keys(Keys.BACK_SPACE)\n",
    "\n",
    "time.sleep(0.1)\n",
    "\n",
    "sugestie =  WebDriverWait(driver, 3).until(EC.visibility_of_all_elements_located((By.XPATH, '//*[@id=\"tsf\"]/div[2]/div[1]/div[2]/div[2]/ul')))\n",
    "\n",
    "for elem in sugestie:\n",
    "    print(elem.text)\n",
    "\n",
    "time.sleep(3)\n",
    "\n",
    "driver.close()\n"
   ]
  },
  {
   "cell_type": "markdown",
   "metadata": {},
   "source": [
    "# Wypełnianie formularzy"
   ]
  },
  {
   "cell_type": "markdown",
   "metadata": {},
   "source": [
    "https://wiedza.pkn.pl/wyszukiwarka-norm"
   ]
  },
  {
   "cell_type": "code",
   "execution_count": 49,
   "metadata": {},
   "outputs": [
    {
     "name": "stdout",
     "output_type": "stream",
     "text": [
      "https://wiedza.pkn.pl/wyszukiwarka-norm?p_auth=Ay3AQHN8&p_p_id=searchstandards_WAR_p4scustomerpknzwnelsearchstandardsportlet&p_p_lifecycle=1&p_p_state=normal&p_p_mode=view&p_p_col_id=column-1&p_p_col_count=1&_searchstandards_WAR_p4scustomerpknzwnelsearchstandardsportlet_standardNumber=PKN-CEN%2FTR+15123%3A2007E&_searchstandards_WAR_p4scustomerpknzwnelsearchstandardsportlet_javax.portlet.action=showStandardDetailsAction\n",
      "https://wiedza.pkn.pl/wyszukiwarka-norm?p_auth=Ay3AQHN8&p_p_id=searchstandards_WAR_p4scustomerpknzwnelsearchstandardsportlet&p_p_lifecycle=1&p_p_state=normal&p_p_mode=view&p_p_col_id=column-1&p_p_col_count=1&_searchstandards_WAR_p4scustomerpknzwnelsearchstandardsportlet_standardNumber=PKN-CEN%2FTR+15123%3A2007E&_searchstandards_WAR_p4scustomerpknzwnelsearchstandardsportlet_javax.portlet.action=showStandardDetailsAction\n",
      "https://wiedza.pkn.pl/wyszukiwarka-norm?p_auth=Ay3AQHN8&p_p_id=searchstandards_WAR_p4scustomerpknzwnelsearchstandardsportlet&p_p_lifecycle=1&p_p_state=normal&p_p_mode=view&p_p_col_id=column-1&p_p_col_count=1&_searchstandards_WAR_p4scustomerpknzwnelsearchstandardsportlet_standardNumber=PKN-CEN%2FTR+15123%3A2007E&_searchstandards_WAR_p4scustomerpknzwnelsearchstandardsportlet_javax.portlet.action=showStandardDetailsAction\n",
      "https://wiedza.pkn.pl/wyszukiwarka-norm?p_auth=Ay3AQHN8&p_p_id=searchstandards_WAR_p4scustomerpknzwnelsearchstandardsportlet&p_p_lifecycle=1&p_p_state=normal&p_p_mode=view&p_p_col_id=column-1&p_p_col_count=1&_searchstandards_WAR_p4scustomerpknzwnelsearchstandardsportlet_standardNumber=PKN-CEN%2FTS+12390-9%3A2017-07E&_searchstandards_WAR_p4scustomerpknzwnelsearchstandardsportlet_javax.portlet.action=showStandardDetailsAction\n",
      "https://wiedza.pkn.pl/wyszukiwarka-norm?p_auth=Ay3AQHN8&p_p_id=searchstandards_WAR_p4scustomerpknzwnelsearchstandardsportlet&p_p_lifecycle=1&p_p_state=normal&p_p_mode=view&p_p_col_id=column-1&p_p_col_count=1&_searchstandards_WAR_p4scustomerpknzwnelsearchstandardsportlet_standardNumber=PKN-CEN%2FTS+12390-9%3A2017-07E&_searchstandards_WAR_p4scustomerpknzwnelsearchstandardsportlet_javax.portlet.action=showStandardDetailsAction\n",
      "https://wiedza.pkn.pl/wyszukiwarka-norm?p_auth=Ay3AQHN8&p_p_id=searchstandards_WAR_p4scustomerpknzwnelsearchstandardsportlet&p_p_lifecycle=1&p_p_state=normal&p_p_mode=view&p_p_col_id=column-1&p_p_col_count=1&_searchstandards_WAR_p4scustomerpknzwnelsearchstandardsportlet_standardNumber=PKN-CEN%2FTS+12390-9%3A2017-07E&_searchstandards_WAR_p4scustomerpknzwnelsearchstandardsportlet_javax.portlet.action=showStandardDetailsAction\n",
      "https://wiedza.pkn.pl/wyszukiwarka-norm?p_auth=Ay3AQHN8&p_p_id=searchstandards_WAR_p4scustomerpknzwnelsearchstandardsportlet&p_p_lifecycle=1&p_p_state=normal&p_p_mode=view&p_p_col_id=column-1&p_p_col_count=1&_searchstandards_WAR_p4scustomerpknzwnelsearchstandardsportlet_standardNumber=PKN-CEN%2FTS+12390-9%3A2007E&_searchstandards_WAR_p4scustomerpknzwnelsearchstandardsportlet_javax.portlet.action=showStandardDetailsAction\n",
      "https://wiedza.pkn.pl/wyszukiwarka-norm?p_auth=Ay3AQHN8&p_p_id=searchstandards_WAR_p4scustomerpknzwnelsearchstandardsportlet&p_p_lifecycle=1&p_p_state=normal&p_p_mode=view&p_p_col_id=column-1&p_p_col_count=1&_searchstandards_WAR_p4scustomerpknzwnelsearchstandardsportlet_standardNumber=PKN-CEN%2FTS+12390-9%3A2007E&_searchstandards_WAR_p4scustomerpknzwnelsearchstandardsportlet_javax.portlet.action=showStandardDetailsAction\n",
      "https://wiedza.pkn.pl/wyszukiwarka-norm?p_auth=Ay3AQHN8&p_p_id=searchstandards_WAR_p4scustomerpknzwnelsearchstandardsportlet&p_p_lifecycle=1&p_p_state=normal&p_p_mode=view&p_p_col_id=column-1&p_p_col_count=1&_searchstandards_WAR_p4scustomerpknzwnelsearchstandardsportlet_standardNumber=PKN-CEN%2FTS+12390-9%3A2007E&_searchstandards_WAR_p4scustomerpknzwnelsearchstandardsportlet_javax.portlet.action=showStandardDetailsAction\n",
      "https://wiedza.pkn.pl/wyszukiwarka-norm?p_auth=Ay3AQHN8&p_p_id=searchstandards_WAR_p4scustomerpknzwnelsearchstandardsportlet&p_p_lifecycle=1&p_p_state=normal&p_p_mode=view&p_p_col_id=column-1&p_p_col_count=1&_searchstandards_WAR_p4scustomerpknzwnelsearchstandardsportlet_standardNumber=PN-CR+12340%3A2002E&_searchstandards_WAR_p4scustomerpknzwnelsearchstandardsportlet_javax.portlet.action=showStandardDetailsAction\n",
      "https://wiedza.pkn.pl/wyszukiwarka-norm?p_auth=Ay3AQHN8&p_p_id=searchstandards_WAR_p4scustomerpknzwnelsearchstandardsportlet&p_p_lifecycle=1&p_p_state=normal&p_p_mode=view&p_p_col_id=column-1&p_p_col_count=1&_searchstandards_WAR_p4scustomerpknzwnelsearchstandardsportlet_standardNumber=PN-CR+12340%3A2002E&_searchstandards_WAR_p4scustomerpknzwnelsearchstandardsportlet_javax.portlet.action=showStandardDetailsAction\n",
      "https://wiedza.pkn.pl/wyszukiwarka-norm?p_auth=Ay3AQHN8&p_p_id=searchstandards_WAR_p4scustomerpknzwnelsearchstandardsportlet&p_p_lifecycle=1&p_p_state=normal&p_p_mode=view&p_p_col_id=column-1&p_p_col_count=1&_searchstandards_WAR_p4scustomerpknzwnelsearchstandardsportlet_standardNumber=PN-CR+12340%3A2002E&_searchstandards_WAR_p4scustomerpknzwnelsearchstandardsportlet_javax.portlet.action=showStandardDetailsAction\n",
      "https://wiedza.pkn.pl/wyszukiwarka-norm?p_auth=Ay3AQHN8&p_p_id=searchstandards_WAR_p4scustomerpknzwnelsearchstandardsportlet&p_p_lifecycle=1&p_p_state=normal&p_p_mode=view&p_p_col_id=column-1&p_p_col_count=1&_searchstandards_WAR_p4scustomerpknzwnelsearchstandardsportlet_standardNumber=PN-CR+12361%3A2002E&_searchstandards_WAR_p4scustomerpknzwnelsearchstandardsportlet_javax.portlet.action=showStandardDetailsAction\n",
      "https://wiedza.pkn.pl/wyszukiwarka-norm?p_auth=Ay3AQHN8&p_p_id=searchstandards_WAR_p4scustomerpknzwnelsearchstandardsportlet&p_p_lifecycle=1&p_p_state=normal&p_p_mode=view&p_p_col_id=column-1&p_p_col_count=1&_searchstandards_WAR_p4scustomerpknzwnelsearchstandardsportlet_standardNumber=PN-CR+12361%3A2002E&_searchstandards_WAR_p4scustomerpknzwnelsearchstandardsportlet_javax.portlet.action=showStandardDetailsAction\n",
      "https://wiedza.pkn.pl/wyszukiwarka-norm?p_auth=Ay3AQHN8&p_p_id=searchstandards_WAR_p4scustomerpknzwnelsearchstandardsportlet&p_p_lifecycle=1&p_p_state=normal&p_p_mode=view&p_p_col_id=column-1&p_p_col_count=1&_searchstandards_WAR_p4scustomerpknzwnelsearchstandardsportlet_standardNumber=PN-CR+12361%3A2002E&_searchstandards_WAR_p4scustomerpknzwnelsearchstandardsportlet_javax.portlet.action=showStandardDetailsAction\n",
      "https://wiedza.pkn.pl/wyszukiwarka-norm?p_auth=Ay3AQHN8&p_p_id=searchstandards_WAR_p4scustomerpknzwnelsearchstandardsportlet&p_p_lifecycle=1&p_p_state=normal&p_p_mode=view&p_p_col_id=column-1&p_p_col_count=1&_searchstandards_WAR_p4scustomerpknzwnelsearchstandardsportlet_standardNumber=PN-EN+1123-1%3A2007P&_searchstandards_WAR_p4scustomerpknzwnelsearchstandardsportlet_javax.portlet.action=showStandardDetailsAction\n",
      "https://wiedza.pkn.pl/wyszukiwarka-norm?p_auth=Ay3AQHN8&p_p_id=searchstandards_WAR_p4scustomerpknzwnelsearchstandardsportlet&p_p_lifecycle=1&p_p_state=normal&p_p_mode=view&p_p_col_id=column-1&p_p_col_count=1&_searchstandards_WAR_p4scustomerpknzwnelsearchstandardsportlet_standardNumber=PN-EN+1123-1%3A2007P&_searchstandards_WAR_p4scustomerpknzwnelsearchstandardsportlet_javax.portlet.action=showStandardDetailsAction\n",
      "https://wiedza.pkn.pl/wyszukiwarka-norm?p_auth=Ay3AQHN8&p_p_id=searchstandards_WAR_p4scustomerpknzwnelsearchstandardsportlet&p_p_lifecycle=1&p_p_state=normal&p_p_mode=view&p_p_col_id=column-1&p_p_col_count=1&_searchstandards_WAR_p4scustomerpknzwnelsearchstandardsportlet_standardNumber=PN-EN+1123-1%3A2007P&_searchstandards_WAR_p4scustomerpknzwnelsearchstandardsportlet_javax.portlet.action=showStandardDetailsAction\n",
      "https://wiedza.pkn.pl/wyszukiwarka-norm?p_auth=Ay3AQHN8&p_p_id=searchstandards_WAR_p4scustomerpknzwnelsearchstandardsportlet&p_p_lifecycle=1&p_p_state=normal&p_p_mode=view&p_p_col_id=column-1&p_p_col_count=1&_searchstandards_WAR_p4scustomerpknzwnelsearchstandardsportlet_standardNumber=PN-EN+1123-1%3A2002E&_searchstandards_WAR_p4scustomerpknzwnelsearchstandardsportlet_javax.portlet.action=showStandardDetailsAction\n",
      "https://wiedza.pkn.pl/wyszukiwarka-norm?p_auth=Ay3AQHN8&p_p_id=searchstandards_WAR_p4scustomerpknzwnelsearchstandardsportlet&p_p_lifecycle=1&p_p_state=normal&p_p_mode=view&p_p_col_id=column-1&p_p_col_count=1&_searchstandards_WAR_p4scustomerpknzwnelsearchstandardsportlet_standardNumber=PN-EN+1123-1%3A2002%2FA1%3A2005E&_searchstandards_WAR_p4scustomerpknzwnelsearchstandardsportlet_javax.portlet.action=showStandardDetailsAction\n",
      "https://wiedza.pkn.pl/wyszukiwarka-norm?p_auth=Ay3AQHN8&p_p_id=searchstandards_WAR_p4scustomerpknzwnelsearchstandardsportlet&p_p_lifecycle=1&p_p_state=normal&p_p_mode=view&p_p_col_id=column-1&p_p_col_count=1&_searchstandards_WAR_p4scustomerpknzwnelsearchstandardsportlet_standardNumber=PN-EN+1123-1%3A2002E&_searchstandards_WAR_p4scustomerpknzwnelsearchstandardsportlet_javax.portlet.action=showStandardDetailsAction\n",
      "https://wiedza.pkn.pl/wyszukiwarka-norm?p_auth=Ay3AQHN8&p_p_id=searchstandards_WAR_p4scustomerpknzwnelsearchstandardsportlet&p_p_lifecycle=1&p_p_state=normal&p_p_mode=view&p_p_col_id=column-1&p_p_col_count=1&_searchstandards_WAR_p4scustomerpknzwnelsearchstandardsportlet_standardNumber=PN-EN+1123-1%3A2002E&_searchstandards_WAR_p4scustomerpknzwnelsearchstandardsportlet_javax.portlet.action=showStandardDetailsAction\n",
      "https://wiedza.pkn.pl/wyszukiwarka-norm?p_auth=Ay3AQHN8&p_p_id=searchstandards_WAR_p4scustomerpknzwnelsearchstandardsportlet&p_p_lifecycle=1&p_p_state=normal&p_p_mode=view&p_p_col_id=column-1&p_p_col_count=1&_searchstandards_WAR_p4scustomerpknzwnelsearchstandardsportlet_standardNumber=PN-EN+1123-1%3A2002E&_searchstandards_WAR_p4scustomerpknzwnelsearchstandardsportlet_javax.portlet.action=showStandardDetailsAction\n",
      "https://wiedza.pkn.pl/wyszukiwarka-norm?p_auth=Ay3AQHN8&p_p_id=searchstandards_WAR_p4scustomerpknzwnelsearchstandardsportlet&p_p_lifecycle=1&p_p_state=normal&p_p_mode=view&p_p_col_id=column-1&p_p_col_count=1&_searchstandards_WAR_p4scustomerpknzwnelsearchstandardsportlet_standardNumber=PN-EN+1123-1%3A2007P&_searchstandards_WAR_p4scustomerpknzwnelsearchstandardsportlet_javax.portlet.action=showStandardDetailsAction\n",
      "https://wiedza.pkn.pl/wyszukiwarka-norm?p_auth=Ay3AQHN8&p_p_id=searchstandards_WAR_p4scustomerpknzwnelsearchstandardsportlet&p_p_lifecycle=1&p_p_state=normal&p_p_mode=view&p_p_col_id=column-1&p_p_col_count=1&_searchstandards_WAR_p4scustomerpknzwnelsearchstandardsportlet_standardNumber=PN-EN+1123-1%3A2002E&_searchstandards_WAR_p4scustomerpknzwnelsearchstandardsportlet_standardEdNumber=PN-EN+1123-1%3A2002%2FA1%3A2005E&_searchstandards_WAR_p4scustomerpknzwnelsearchstandardsportlet_javax.portlet.action=showElementDodatkowyDetailsAction\n",
      "https://wiedza.pkn.pl/wyszukiwarka-norm?p_auth=Ay3AQHN8&p_p_id=searchstandards_WAR_p4scustomerpknzwnelsearchstandardsportlet&p_p_lifecycle=1&p_p_state=normal&p_p_mode=view&p_p_col_id=column-1&p_p_col_count=1&_searchstandards_WAR_p4scustomerpknzwnelsearchstandardsportlet_standardNumber=PN-EN+1123-1%3A2002E&_searchstandards_WAR_p4scustomerpknzwnelsearchstandardsportlet_standardEdNumber=PN-EN+1123-1%3A2002%2FA1%3A2005E&_searchstandards_WAR_p4scustomerpknzwnelsearchstandardsportlet_javax.portlet.action=showElementDodatkowyDetailsAction\n",
      "https://wiedza.pkn.pl/wyszukiwarka-norm?p_auth=Ay3AQHN8&p_p_id=searchstandards_WAR_p4scustomerpknzwnelsearchstandardsportlet&p_p_lifecycle=1&p_p_state=normal&p_p_mode=view&p_p_col_id=column-1&p_p_col_count=1&_searchstandards_WAR_p4scustomerpknzwnelsearchstandardsportlet_standardNumber=PN-EN+1123-1%3A2002E&_searchstandards_WAR_p4scustomerpknzwnelsearchstandardsportlet_standardEdNumber=PN-EN+1123-1%3A2002%2FA1%3A2005E&_searchstandards_WAR_p4scustomerpknzwnelsearchstandardsportlet_javax.portlet.action=showElementDodatkowyDetailsAction\n",
      "https://wiedza.pkn.pl/wyszukiwarka-norm?p_auth=Ay3AQHN8&p_p_id=searchstandards_WAR_p4scustomerpknzwnelsearchstandardsportlet&p_p_lifecycle=1&p_p_state=normal&p_p_mode=view&p_p_col_id=column-1&p_p_col_count=1&_searchstandards_WAR_p4scustomerpknzwnelsearchstandardsportlet_standardNumber=PN-EN+1123-2%3A2006E&_searchstandards_WAR_p4scustomerpknzwnelsearchstandardsportlet_javax.portlet.action=showStandardDetailsAction\n",
      "https://wiedza.pkn.pl/wyszukiwarka-norm?p_auth=Ay3AQHN8&p_p_id=searchstandards_WAR_p4scustomerpknzwnelsearchstandardsportlet&p_p_lifecycle=1&p_p_state=normal&p_p_mode=view&p_p_col_id=column-1&p_p_col_count=1&_searchstandards_WAR_p4scustomerpknzwnelsearchstandardsportlet_standardNumber=PN-EN+1123-2%3A2006E&_searchstandards_WAR_p4scustomerpknzwnelsearchstandardsportlet_javax.portlet.action=showStandardDetailsAction\n",
      "https://wiedza.pkn.pl/wyszukiwarka-norm?p_auth=Ay3AQHN8&p_p_id=searchstandards_WAR_p4scustomerpknzwnelsearchstandardsportlet&p_p_lifecycle=1&p_p_state=normal&p_p_mode=view&p_p_col_id=column-1&p_p_col_count=1&_searchstandards_WAR_p4scustomerpknzwnelsearchstandardsportlet_standardNumber=PN-EN+1123-2%3A2006E&_searchstandards_WAR_p4scustomerpknzwnelsearchstandardsportlet_javax.portlet.action=showStandardDetailsAction\n",
      "https://wiedza.pkn.pl/wyszukiwarka-norm?p_auth=Ay3AQHN8&p_p_id=searchstandards_WAR_p4scustomerpknzwnelsearchstandardsportlet&p_p_lifecycle=1&p_p_state=normal&p_p_mode=view&p_p_col_id=column-1&p_p_col_count=1&_searchstandards_WAR_p4scustomerpknzwnelsearchstandardsportlet_standardNumber=PN-EN+1123-2%3A2002E&_searchstandards_WAR_p4scustomerpknzwnelsearchstandardsportlet_javax.portlet.action=showStandardDetailsAction\n",
      "https://wiedza.pkn.pl/wyszukiwarka-norm?p_auth=Ay3AQHN8&p_p_id=searchstandards_WAR_p4scustomerpknzwnelsearchstandardsportlet&p_p_lifecycle=1&p_p_state=normal&p_p_mode=view&p_p_col_id=column-1&p_p_col_count=1&_searchstandards_WAR_p4scustomerpknzwnelsearchstandardsportlet_standardNumber=PN-EN+1123-2%2BA1%3A2007E&_searchstandards_WAR_p4scustomerpknzwnelsearchstandardsportlet_javax.portlet.action=showStandardDetailsAction\n",
      "https://wiedza.pkn.pl/wyszukiwarka-norm?p_auth=Ay3AQHN8&p_p_id=searchstandards_WAR_p4scustomerpknzwnelsearchstandardsportlet&p_p_lifecycle=1&p_p_state=normal&p_p_mode=view&p_p_col_id=column-1&p_p_col_count=1&_searchstandards_WAR_p4scustomerpknzwnelsearchstandardsportlet_standardNumber=PN-EN+1123-2%3A2002E&_searchstandards_WAR_p4scustomerpknzwnelsearchstandardsportlet_javax.portlet.action=showStandardDetailsAction\n",
      "https://wiedza.pkn.pl/wyszukiwarka-norm?p_auth=Ay3AQHN8&p_p_id=searchstandards_WAR_p4scustomerpknzwnelsearchstandardsportlet&p_p_lifecycle=1&p_p_state=normal&p_p_mode=view&p_p_col_id=column-1&p_p_col_count=1&_searchstandards_WAR_p4scustomerpknzwnelsearchstandardsportlet_standardNumber=PN-EN+1123-2%3A2002E&_searchstandards_WAR_p4scustomerpknzwnelsearchstandardsportlet_javax.portlet.action=showStandardDetailsAction\n",
      "https://wiedza.pkn.pl/wyszukiwarka-norm?p_auth=Ay3AQHN8&p_p_id=searchstandards_WAR_p4scustomerpknzwnelsearchstandardsportlet&p_p_lifecycle=1&p_p_state=normal&p_p_mode=view&p_p_col_id=column-1&p_p_col_count=1&_searchstandards_WAR_p4scustomerpknzwnelsearchstandardsportlet_standardNumber=PN-EN+1123-2%3A2002E&_searchstandards_WAR_p4scustomerpknzwnelsearchstandardsportlet_javax.portlet.action=showStandardDetailsAction\n",
      "https://wiedza.pkn.pl/wyszukiwarka-norm?p_auth=Ay3AQHN8&p_p_id=searchstandards_WAR_p4scustomerpknzwnelsearchstandardsportlet&p_p_lifecycle=1&p_p_state=normal&p_p_mode=view&p_p_col_id=column-1&p_p_col_count=1&_searchstandards_WAR_p4scustomerpknzwnelsearchstandardsportlet_standardNumber=PN-EN+1123-2%3A2006E&_searchstandards_WAR_p4scustomerpknzwnelsearchstandardsportlet_javax.portlet.action=showStandardDetailsAction\n",
      "https://wiedza.pkn.pl/wyszukiwarka-norm?p_auth=Ay3AQHN8&p_p_id=searchstandards_WAR_p4scustomerpknzwnelsearchstandardsportlet&p_p_lifecycle=1&p_p_state=normal&p_p_mode=view&p_p_col_id=column-1&p_p_col_count=1&_searchstandards_WAR_p4scustomerpknzwnelsearchstandardsportlet_standardNumber=PN-EN+1123-2%2BA1%3A2007E&_searchstandards_WAR_p4scustomerpknzwnelsearchstandardsportlet_javax.portlet.action=showStandardDetailsAction\n",
      "https://wiedza.pkn.pl/wyszukiwarka-norm?p_auth=Ay3AQHN8&p_p_id=searchstandards_WAR_p4scustomerpknzwnelsearchstandardsportlet&p_p_lifecycle=1&p_p_state=normal&p_p_mode=view&p_p_col_id=column-1&p_p_col_count=1&_searchstandards_WAR_p4scustomerpknzwnelsearchstandardsportlet_standardNumber=PN-EN+1123-2%2BA1%3A2007E&_searchstandards_WAR_p4scustomerpknzwnelsearchstandardsportlet_javax.portlet.action=showStandardDetailsAction\n",
      "https://wiedza.pkn.pl/wyszukiwarka-norm?p_auth=Ay3AQHN8&p_p_id=searchstandards_WAR_p4scustomerpknzwnelsearchstandardsportlet&p_p_lifecycle=1&p_p_state=normal&p_p_mode=view&p_p_col_id=column-1&p_p_col_count=1&_searchstandards_WAR_p4scustomerpknzwnelsearchstandardsportlet_standardNumber=PN-EN+1123-2%2BA1%3A2007E&_searchstandards_WAR_p4scustomerpknzwnelsearchstandardsportlet_javax.portlet.action=showStandardDetailsAction\n",
      "https://wiedza.pkn.pl/wyszukiwarka-norm?p_auth=Ay3AQHN8&p_p_id=searchstandards_WAR_p4scustomerpknzwnelsearchstandardsportlet&p_p_lifecycle=1&p_p_state=normal&p_p_mode=view&p_p_col_id=column-1&p_p_col_count=1&_searchstandards_WAR_p4scustomerpknzwnelsearchstandardsportlet_standardNumber=PN-EN+1123-2%3A2006E&_searchstandards_WAR_p4scustomerpknzwnelsearchstandardsportlet_javax.portlet.action=showStandardDetailsAction\n",
      "https://wiedza.pkn.pl/wyszukiwarka-norm?p_auth=Ay3AQHN8&p_p_id=searchstandards_WAR_p4scustomerpknzwnelsearchstandardsportlet&p_p_lifecycle=1&p_p_state=normal&p_p_mode=view&p_p_col_id=column-1&p_p_col_count=1&_searchstandards_WAR_p4scustomerpknzwnelsearchstandardsportlet_standardNumber=PN-EN+1123-3%3A2005E&_searchstandards_WAR_p4scustomerpknzwnelsearchstandardsportlet_javax.portlet.action=showStandardDetailsAction\n",
      "https://wiedza.pkn.pl/wyszukiwarka-norm?p_auth=Ay3AQHN8&p_p_id=searchstandards_WAR_p4scustomerpknzwnelsearchstandardsportlet&p_p_lifecycle=1&p_p_state=normal&p_p_mode=view&p_p_col_id=column-1&p_p_col_count=1&_searchstandards_WAR_p4scustomerpknzwnelsearchstandardsportlet_standardNumber=PN-EN+1123-3%3A2005E&_searchstandards_WAR_p4scustomerpknzwnelsearchstandardsportlet_javax.portlet.action=showStandardDetailsAction\n",
      "https://wiedza.pkn.pl/wyszukiwarka-norm?p_auth=Ay3AQHN8&p_p_id=searchstandards_WAR_p4scustomerpknzwnelsearchstandardsportlet&p_p_lifecycle=1&p_p_state=normal&p_p_mode=view&p_p_col_id=column-1&p_p_col_count=1&_searchstandards_WAR_p4scustomerpknzwnelsearchstandardsportlet_standardNumber=PN-EN+1123-3%3A2005E&_searchstandards_WAR_p4scustomerpknzwnelsearchstandardsportlet_javax.portlet.action=showStandardDetailsAction\n",
      "https://wiedza.pkn.pl/wyszukiwarka-norm?p_auth=Ay3AQHN8&p_p_id=searchstandards_WAR_p4scustomerpknzwnelsearchstandardsportlet&p_p_lifecycle=1&p_p_state=normal&p_p_mode=view&p_p_col_id=column-1&p_p_col_count=1&_searchstandards_WAR_p4scustomerpknzwnelsearchstandardsportlet_standardNumber=PN-EN+1230-1%3A2009E&_searchstandards_WAR_p4scustomerpknzwnelsearchstandardsportlet_javax.portlet.action=showStandardDetailsAction\n",
      "https://wiedza.pkn.pl/wyszukiwarka-norm?p_auth=Ay3AQHN8&p_p_id=searchstandards_WAR_p4scustomerpknzwnelsearchstandardsportlet&p_p_lifecycle=1&p_p_state=normal&p_p_mode=view&p_p_col_id=column-1&p_p_col_count=1&_searchstandards_WAR_p4scustomerpknzwnelsearchstandardsportlet_standardNumber=PN-EN+1230-1%3A2009E&_searchstandards_WAR_p4scustomerpknzwnelsearchstandardsportlet_javax.portlet.action=showStandardDetailsAction\n",
      "https://wiedza.pkn.pl/wyszukiwarka-norm?p_auth=Ay3AQHN8&p_p_id=searchstandards_WAR_p4scustomerpknzwnelsearchstandardsportlet&p_p_lifecycle=1&p_p_state=normal&p_p_mode=view&p_p_col_id=column-1&p_p_col_count=1&_searchstandards_WAR_p4scustomerpknzwnelsearchstandardsportlet_standardNumber=PN-EN+1230-1%3A2009E&_searchstandards_WAR_p4scustomerpknzwnelsearchstandardsportlet_javax.portlet.action=showStandardDetailsAction\n",
      "https://wiedza.pkn.pl/wyszukiwarka-norm?p_auth=Ay3AQHN8&p_p_id=searchstandards_WAR_p4scustomerpknzwnelsearchstandardsportlet&p_p_lifecycle=1&p_p_state=normal&p_p_mode=view&p_p_col_id=column-1&p_p_col_count=1&_searchstandards_WAR_p4scustomerpknzwnelsearchstandardsportlet_standardNumber=PN-EN+1230-1%3A2004P&_searchstandards_WAR_p4scustomerpknzwnelsearchstandardsportlet_javax.portlet.action=showStandardDetailsAction\n",
      "https://wiedza.pkn.pl/wyszukiwarka-norm?p_auth=Ay3AQHN8&p_p_id=searchstandards_WAR_p4scustomerpknzwnelsearchstandardsportlet&p_p_lifecycle=1&p_p_state=normal&p_p_mode=view&p_p_col_id=column-1&p_p_col_count=1&_searchstandards_WAR_p4scustomerpknzwnelsearchstandardsportlet_standardNumber=PN-EN+1230-1%3A2004P&_searchstandards_WAR_p4scustomerpknzwnelsearchstandardsportlet_javax.portlet.action=showStandardDetailsAction\n",
      "https://wiedza.pkn.pl/wyszukiwarka-norm?p_auth=Ay3AQHN8&p_p_id=searchstandards_WAR_p4scustomerpknzwnelsearchstandardsportlet&p_p_lifecycle=1&p_p_state=normal&p_p_mode=view&p_p_col_id=column-1&p_p_col_count=1&_searchstandards_WAR_p4scustomerpknzwnelsearchstandardsportlet_standardNumber=PN-EN+1230-1%3A2004P&_searchstandards_WAR_p4scustomerpknzwnelsearchstandardsportlet_javax.portlet.action=showStandardDetailsAction\n",
      "https://wiedza.pkn.pl/wyszukiwarka-norm?p_auth=Ay3AQHN8&p_p_id=searchstandards_WAR_p4scustomerpknzwnelsearchstandardsportlet&p_p_lifecycle=1&p_p_state=normal&p_p_mode=view&p_p_col_id=column-1&p_p_col_count=1&_searchstandards_WAR_p4scustomerpknzwnelsearchstandardsportlet_standardNumber=PN-EN+1230-1%3A2004P&_searchstandards_WAR_p4scustomerpknzwnelsearchstandardsportlet_javax.portlet.action=showStandardDetailsAction\n",
      "https://wiedza.pkn.pl/wyszukiwarka-norm?p_auth=Ay3AQHN8&p_p_id=searchstandards_WAR_p4scustomerpknzwnelsearchstandardsportlet&p_p_lifecycle=1&p_p_state=normal&p_p_mode=view&p_p_col_id=column-1&p_p_col_count=1&_searchstandards_WAR_p4scustomerpknzwnelsearchstandardsportlet_standardNumber=PN-EN+1230-1%3A2002E&_searchstandards_WAR_p4scustomerpknzwnelsearchstandardsportlet_javax.portlet.action=showStandardDetailsAction\n",
      "https://wiedza.pkn.pl/wyszukiwarka-norm?p_auth=Ay3AQHN8&p_p_id=searchstandards_WAR_p4scustomerpknzwnelsearchstandardsportlet&p_p_lifecycle=1&p_p_state=normal&p_p_mode=view&p_p_col_id=column-1&p_p_col_count=1&_searchstandards_WAR_p4scustomerpknzwnelsearchstandardsportlet_standardNumber=PN-EN+1230-1%3A2009E&_searchstandards_WAR_p4scustomerpknzwnelsearchstandardsportlet_javax.portlet.action=showStandardDetailsAction\n",
      "https://wiedza.pkn.pl/wyszukiwarka-norm?p_auth=Ay3AQHN8&p_p_id=searchstandards_WAR_p4scustomerpknzwnelsearchstandardsportlet&p_p_lifecycle=1&p_p_state=normal&p_p_mode=view&p_p_col_id=column-1&p_p_col_count=1&_searchstandards_WAR_p4scustomerpknzwnelsearchstandardsportlet_standardNumber=PN-EN+1230-1%3A2002E&_searchstandards_WAR_p4scustomerpknzwnelsearchstandardsportlet_javax.portlet.action=showStandardDetailsAction\n",
      "https://wiedza.pkn.pl/wyszukiwarka-norm?p_auth=Ay3AQHN8&p_p_id=searchstandards_WAR_p4scustomerpknzwnelsearchstandardsportlet&p_p_lifecycle=1&p_p_state=normal&p_p_mode=view&p_p_col_id=column-1&p_p_col_count=1&_searchstandards_WAR_p4scustomerpknzwnelsearchstandardsportlet_standardNumber=PN-EN+1230-1%3A2002E&_searchstandards_WAR_p4scustomerpknzwnelsearchstandardsportlet_javax.portlet.action=showStandardDetailsAction\n",
      "https://wiedza.pkn.pl/wyszukiwarka-norm?p_auth=Ay3AQHN8&p_p_id=searchstandards_WAR_p4scustomerpknzwnelsearchstandardsportlet&p_p_lifecycle=1&p_p_state=normal&p_p_mode=view&p_p_col_id=column-1&p_p_col_count=1&_searchstandards_WAR_p4scustomerpknzwnelsearchstandardsportlet_standardNumber=PN-EN+1230-1%3A2002E&_searchstandards_WAR_p4scustomerpknzwnelsearchstandardsportlet_javax.portlet.action=showStandardDetailsAction\n",
      "https://wiedza.pkn.pl/wyszukiwarka-norm?p_auth=Ay3AQHN8&p_p_id=searchstandards_WAR_p4scustomerpknzwnelsearchstandardsportlet&p_p_lifecycle=1&p_p_state=normal&p_p_mode=view&p_p_col_id=column-1&p_p_col_count=1&_searchstandards_WAR_p4scustomerpknzwnelsearchstandardsportlet_standardNumber=PN-EN+1230-1%3A2004P&_searchstandards_WAR_p4scustomerpknzwnelsearchstandardsportlet_javax.portlet.action=showStandardDetailsAction\n",
      "https://wiedza.pkn.pl/wyszukiwarka-norm?p_auth=Ay3AQHN8&p_p_id=searchstandards_WAR_p4scustomerpknzwnelsearchstandardsportlet&p_p_lifecycle=1&p_p_state=normal&p_p_mode=view&p_p_col_id=column-1&p_p_col_count=1&_searchstandards_WAR_p4scustomerpknzwnelsearchstandardsportlet_standardNumber=PN-EN+1230-2%3A2009E&_searchstandards_WAR_p4scustomerpknzwnelsearchstandardsportlet_javax.portlet.action=showStandardDetailsAction\n",
      "https://wiedza.pkn.pl/wyszukiwarka-norm?p_auth=Ay3AQHN8&p_p_id=searchstandards_WAR_p4scustomerpknzwnelsearchstandardsportlet&p_p_lifecycle=1&p_p_state=normal&p_p_mode=view&p_p_col_id=column-1&p_p_col_count=1&_searchstandards_WAR_p4scustomerpknzwnelsearchstandardsportlet_standardNumber=PN-EN+1230-2%3A2009E&_searchstandards_WAR_p4scustomerpknzwnelsearchstandardsportlet_javax.portlet.action=showStandardDetailsAction\n",
      "https://wiedza.pkn.pl/wyszukiwarka-norm?p_auth=Ay3AQHN8&p_p_id=searchstandards_WAR_p4scustomerpknzwnelsearchstandardsportlet&p_p_lifecycle=1&p_p_state=normal&p_p_mode=view&p_p_col_id=column-1&p_p_col_count=1&_searchstandards_WAR_p4scustomerpknzwnelsearchstandardsportlet_standardNumber=PN-EN+1230-2%3A2009E&_searchstandards_WAR_p4scustomerpknzwnelsearchstandardsportlet_javax.portlet.action=showStandardDetailsAction\n",
      "https://wiedza.pkn.pl/wyszukiwarka-norm?p_auth=Ay3AQHN8&p_p_id=searchstandards_WAR_p4scustomerpknzwnelsearchstandardsportlet&p_p_lifecycle=1&p_p_state=normal&p_p_mode=view&p_p_col_id=column-1&p_p_col_count=1&_searchstandards_WAR_p4scustomerpknzwnelsearchstandardsportlet_standardNumber=PN-EN+1230-2%3A2004P&_searchstandards_WAR_p4scustomerpknzwnelsearchstandardsportlet_javax.portlet.action=showStandardDetailsAction\n",
      "https://wiedza.pkn.pl/wyszukiwarka-norm?p_auth=Ay3AQHN8&p_p_id=searchstandards_WAR_p4scustomerpknzwnelsearchstandardsportlet&p_p_lifecycle=1&p_p_state=normal&p_p_mode=view&p_p_col_id=column-1&p_p_col_count=1&_searchstandards_WAR_p4scustomerpknzwnelsearchstandardsportlet_standardNumber=PN-EN+1230-2%3A2004P&_searchstandards_WAR_p4scustomerpknzwnelsearchstandardsportlet_javax.portlet.action=showStandardDetailsAction\n",
      "https://wiedza.pkn.pl/wyszukiwarka-norm?p_auth=Ay3AQHN8&p_p_id=searchstandards_WAR_p4scustomerpknzwnelsearchstandardsportlet&p_p_lifecycle=1&p_p_state=normal&p_p_mode=view&p_p_col_id=column-1&p_p_col_count=1&_searchstandards_WAR_p4scustomerpknzwnelsearchstandardsportlet_standardNumber=PN-EN+1230-2%3A2004P&_searchstandards_WAR_p4scustomerpknzwnelsearchstandardsportlet_javax.portlet.action=showStandardDetailsAction\n",
      "https://wiedza.pkn.pl/wyszukiwarka-norm?p_auth=Ay3AQHN8&p_p_id=searchstandards_WAR_p4scustomerpknzwnelsearchstandardsportlet&p_p_lifecycle=1&p_p_state=normal&p_p_mode=view&p_p_col_id=column-1&p_p_col_count=1&_searchstandards_WAR_p4scustomerpknzwnelsearchstandardsportlet_standardNumber=PN-EN+1230-2%3A2004P&_searchstandards_WAR_p4scustomerpknzwnelsearchstandardsportlet_javax.portlet.action=showStandardDetailsAction\n",
      "https://wiedza.pkn.pl/wyszukiwarka-norm?p_auth=Ay3AQHN8&p_p_id=searchstandards_WAR_p4scustomerpknzwnelsearchstandardsportlet&p_p_lifecycle=1&p_p_state=normal&p_p_mode=view&p_p_col_id=column-1&p_p_col_count=1&_searchstandards_WAR_p4scustomerpknzwnelsearchstandardsportlet_standardNumber=PN-EN+1230-2%3A2002E&_searchstandards_WAR_p4scustomerpknzwnelsearchstandardsportlet_javax.portlet.action=showStandardDetailsAction\n",
      "https://wiedza.pkn.pl/wyszukiwarka-norm?p_auth=Ay3AQHN8&p_p_id=searchstandards_WAR_p4scustomerpknzwnelsearchstandardsportlet&p_p_lifecycle=1&p_p_state=normal&p_p_mode=view&p_p_col_id=column-1&p_p_col_count=1&_searchstandards_WAR_p4scustomerpknzwnelsearchstandardsportlet_standardNumber=PN-EN+1230-2%3A2009E&_searchstandards_WAR_p4scustomerpknzwnelsearchstandardsportlet_javax.portlet.action=showStandardDetailsAction\n",
      "https://wiedza.pkn.pl/wyszukiwarka-norm?p_auth=Ay3AQHN8&p_p_id=searchstandards_WAR_p4scustomerpknzwnelsearchstandardsportlet&p_p_lifecycle=1&p_p_state=normal&p_p_mode=view&p_p_col_id=column-1&p_p_col_count=1&_searchstandards_WAR_p4scustomerpknzwnelsearchstandardsportlet_standardNumber=PN-EN+1230-2%3A2002E&_searchstandards_WAR_p4scustomerpknzwnelsearchstandardsportlet_javax.portlet.action=showStandardDetailsAction\n",
      "https://wiedza.pkn.pl/wyszukiwarka-norm?p_auth=Ay3AQHN8&p_p_id=searchstandards_WAR_p4scustomerpknzwnelsearchstandardsportlet&p_p_lifecycle=1&p_p_state=normal&p_p_mode=view&p_p_col_id=column-1&p_p_col_count=1&_searchstandards_WAR_p4scustomerpknzwnelsearchstandardsportlet_standardNumber=PN-EN+1230-2%3A2002E&_searchstandards_WAR_p4scustomerpknzwnelsearchstandardsportlet_javax.portlet.action=showStandardDetailsAction\n",
      "https://wiedza.pkn.pl/wyszukiwarka-norm?p_auth=Ay3AQHN8&p_p_id=searchstandards_WAR_p4scustomerpknzwnelsearchstandardsportlet&p_p_lifecycle=1&p_p_state=normal&p_p_mode=view&p_p_col_id=column-1&p_p_col_count=1&_searchstandards_WAR_p4scustomerpknzwnelsearchstandardsportlet_standardNumber=PN-EN+1230-2%3A2002E&_searchstandards_WAR_p4scustomerpknzwnelsearchstandardsportlet_javax.portlet.action=showStandardDetailsAction\n",
      "https://wiedza.pkn.pl/wyszukiwarka-norm?p_auth=Ay3AQHN8&p_p_id=searchstandards_WAR_p4scustomerpknzwnelsearchstandardsportlet&p_p_lifecycle=1&p_p_state=normal&p_p_mode=view&p_p_col_id=column-1&p_p_col_count=1&_searchstandards_WAR_p4scustomerpknzwnelsearchstandardsportlet_standardNumber=PN-EN+1230-2%3A2004P&_searchstandards_WAR_p4scustomerpknzwnelsearchstandardsportlet_javax.portlet.action=showStandardDetailsAction\n",
      "https://wiedza.pkn.pl/wyszukiwarka-norm?p_auth=Ay3AQHN8&p_p_id=searchstandards_WAR_p4scustomerpknzwnelsearchstandardsportlet&p_p_lifecycle=1&p_p_state=normal&p_p_mode=view&p_p_col_id=column-1&p_p_col_count=1&_searchstandards_WAR_p4scustomerpknzwnelsearchstandardsportlet_standardNumber=PN-EN+1231%3A2002P&_searchstandards_WAR_p4scustomerpknzwnelsearchstandardsportlet_javax.portlet.action=showStandardDetailsAction\n",
      "https://wiedza.pkn.pl/wyszukiwarka-norm?p_auth=Ay3AQHN8&p_p_id=searchstandards_WAR_p4scustomerpknzwnelsearchstandardsportlet&p_p_lifecycle=1&p_p_state=normal&p_p_mode=view&p_p_col_id=column-1&p_p_col_count=1&_searchstandards_WAR_p4scustomerpknzwnelsearchstandardsportlet_standardNumber=PN-EN+1231%3A2002P&_searchstandards_WAR_p4scustomerpknzwnelsearchstandardsportlet_javax.portlet.action=showStandardDetailsAction\n",
      "https://wiedza.pkn.pl/wyszukiwarka-norm?p_auth=Ay3AQHN8&p_p_id=searchstandards_WAR_p4scustomerpknzwnelsearchstandardsportlet&p_p_lifecycle=1&p_p_state=normal&p_p_mode=view&p_p_col_id=column-1&p_p_col_count=1&_searchstandards_WAR_p4scustomerpknzwnelsearchstandardsportlet_standardNumber=PN-EN+1231%3A2002P&_searchstandards_WAR_p4scustomerpknzwnelsearchstandardsportlet_javax.portlet.action=showStandardDetailsAction\n",
      "https://wiedza.pkn.pl/wyszukiwarka-norm?p_auth=Ay3AQHN8&p_p_id=searchstandards_WAR_p4scustomerpknzwnelsearchstandardsportlet&p_p_lifecycle=1&p_p_state=normal&p_p_mode=view&p_p_col_id=column-1&p_p_col_count=1&_searchstandards_WAR_p4scustomerpknzwnelsearchstandardsportlet_standardNumber=PN-EN+ISO+17621%3A2016-01E&_searchstandards_WAR_p4scustomerpknzwnelsearchstandardsportlet_javax.portlet.action=showStandardDetailsAction\n",
      "https://wiedza.pkn.pl/wyszukiwarka-norm?p_auth=Ay3AQHN8&p_p_id=searchstandards_WAR_p4scustomerpknzwnelsearchstandardsportlet&p_p_lifecycle=1&p_p_state=normal&p_p_mode=view&p_p_col_id=column-1&p_p_col_count=1&_searchstandards_WAR_p4scustomerpknzwnelsearchstandardsportlet_standardNumber=PN-EN+1232%3A2002P&_searchstandards_WAR_p4scustomerpknzwnelsearchstandardsportlet_javax.portlet.action=showStandardDetailsAction\n",
      "https://wiedza.pkn.pl/wyszukiwarka-norm?p_auth=Ay3AQHN8&p_p_id=searchstandards_WAR_p4scustomerpknzwnelsearchstandardsportlet&p_p_lifecycle=1&p_p_state=normal&p_p_mode=view&p_p_col_id=column-1&p_p_col_count=1&_searchstandards_WAR_p4scustomerpknzwnelsearchstandardsportlet_standardNumber=PN-EN+1232%3A2002P&_searchstandards_WAR_p4scustomerpknzwnelsearchstandardsportlet_javax.portlet.action=showStandardDetailsAction\n",
      "https://wiedza.pkn.pl/wyszukiwarka-norm?p_auth=Ay3AQHN8&p_p_id=searchstandards_WAR_p4scustomerpknzwnelsearchstandardsportlet&p_p_lifecycle=1&p_p_state=normal&p_p_mode=view&p_p_col_id=column-1&p_p_col_count=1&_searchstandards_WAR_p4scustomerpknzwnelsearchstandardsportlet_standardNumber=PN-EN+1232%3A2002P&_searchstandards_WAR_p4scustomerpknzwnelsearchstandardsportlet_javax.portlet.action=showStandardDetailsAction\n",
      "https://wiedza.pkn.pl/wyszukiwarka-norm?p_auth=Ay3AQHN8&p_p_id=searchstandards_WAR_p4scustomerpknzwnelsearchstandardsportlet&p_p_lifecycle=1&p_p_state=normal&p_p_mode=view&p_p_col_id=column-1&p_p_col_count=1&_searchstandards_WAR_p4scustomerpknzwnelsearchstandardsportlet_standardNumber=PN-EN+ISO+13137%3A2014-02E&_searchstandards_WAR_p4scustomerpknzwnelsearchstandardsportlet_javax.portlet.action=showStandardDetailsAction\n",
      "https://wiedza.pkn.pl/wyszukiwarka-norm?p_auth=Ay3AQHN8&p_p_id=searchstandards_WAR_p4scustomerpknzwnelsearchstandardsportlet&p_p_lifecycle=1&p_p_state=normal&p_p_mode=view&p_p_col_id=column-1&p_p_col_count=1&_searchstandards_WAR_p4scustomerpknzwnelsearchstandardsportlet_standardNumber=PN-EN+1233%3A2000P&_searchstandards_WAR_p4scustomerpknzwnelsearchstandardsportlet_javax.portlet.action=showStandardDetailsAction\n",
      "https://wiedza.pkn.pl/wyszukiwarka-norm?p_auth=Ay3AQHN8&p_p_id=searchstandards_WAR_p4scustomerpknzwnelsearchstandardsportlet&p_p_lifecycle=1&p_p_state=normal&p_p_mode=view&p_p_col_id=column-1&p_p_col_count=1&_searchstandards_WAR_p4scustomerpknzwnelsearchstandardsportlet_standardNumber=PN-EN+1233%3A2000P&_searchstandards_WAR_p4scustomerpknzwnelsearchstandardsportlet_javax.portlet.action=showStandardDetailsAction\n",
      "https://wiedza.pkn.pl/wyszukiwarka-norm?p_auth=Ay3AQHN8&p_p_id=searchstandards_WAR_p4scustomerpknzwnelsearchstandardsportlet&p_p_lifecycle=1&p_p_state=normal&p_p_mode=view&p_p_col_id=column-1&p_p_col_count=1&_searchstandards_WAR_p4scustomerpknzwnelsearchstandardsportlet_standardNumber=PN-EN+1233%3A2000P&_searchstandards_WAR_p4scustomerpknzwnelsearchstandardsportlet_javax.portlet.action=showStandardDetailsAction\n",
      "https://wiedza.pkn.pl/wyszukiwarka-norm?p_auth=Ay3AQHN8&p_p_id=searchstandards_WAR_p4scustomerpknzwnelsearchstandardsportlet&p_p_lifecycle=1&p_p_state=normal&p_p_mode=view&p_p_col_id=column-1&p_p_col_count=1&_searchstandards_WAR_p4scustomerpknzwnelsearchstandardsportlet_standardNumber=PN-EN+1235%3A1999P&_searchstandards_WAR_p4scustomerpknzwnelsearchstandardsportlet_javax.portlet.action=showStandardDetailsAction\n",
      "https://wiedza.pkn.pl/wyszukiwarka-norm?p_auth=Ay3AQHN8&p_p_id=searchstandards_WAR_p4scustomerpknzwnelsearchstandardsportlet&p_p_lifecycle=1&p_p_state=normal&p_p_mode=view&p_p_col_id=column-1&p_p_col_count=1&_searchstandards_WAR_p4scustomerpknzwnelsearchstandardsportlet_standardNumber=PN-EN+1235%3A1999P&_searchstandards_WAR_p4scustomerpknzwnelsearchstandardsportlet_javax.portlet.action=showStandardDetailsAction\n",
      "https://wiedza.pkn.pl/wyszukiwarka-norm?p_auth=Ay3AQHN8&p_p_id=searchstandards_WAR_p4scustomerpknzwnelsearchstandardsportlet&p_p_lifecycle=1&p_p_state=normal&p_p_mode=view&p_p_col_id=column-1&p_p_col_count=1&_searchstandards_WAR_p4scustomerpknzwnelsearchstandardsportlet_standardNumber=PN-EN+1235%3A1999P&_searchstandards_WAR_p4scustomerpknzwnelsearchstandardsportlet_javax.portlet.action=showStandardDetailsAction\n",
      "https://wiedza.pkn.pl/wyszukiwarka-norm?p_auth=Ay3AQHN8&p_p_id=searchstandards_WAR_p4scustomerpknzwnelsearchstandardsportlet&p_p_lifecycle=1&p_p_state=normal&p_p_mode=view&p_p_col_id=column-1&p_p_col_count=1&_searchstandards_WAR_p4scustomerpknzwnelsearchstandardsportlet_standardNumber=PN-C-87012-02%3A1984P&_searchstandards_WAR_p4scustomerpknzwnelsearchstandardsportlet_javax.portlet.action=showStandardDetailsAction\n",
      "https://wiedza.pkn.pl/wyszukiwarka-norm?p_auth=Ay3AQHN8&p_p_id=searchstandards_WAR_p4scustomerpknzwnelsearchstandardsportlet&p_p_lifecycle=1&p_p_state=normal&p_p_mode=view&p_p_col_id=column-1&p_p_col_count=1&_searchstandards_WAR_p4scustomerpknzwnelsearchstandardsportlet_standardNumber=PN-C-87060-03%3A1987P&_searchstandards_WAR_p4scustomerpknzwnelsearchstandardsportlet_javax.portlet.action=showStandardDetailsAction\n",
      "https://wiedza.pkn.pl/wyszukiwarka-norm?p_auth=Ay3AQHN8&p_p_id=searchstandards_WAR_p4scustomerpknzwnelsearchstandardsportlet&p_p_lifecycle=1&p_p_state=normal&p_p_mode=view&p_p_col_id=column-1&p_p_col_count=1&_searchstandards_WAR_p4scustomerpknzwnelsearchstandardsportlet_standardNumber=PN-EN+1235%3A1999P&_searchstandards_WAR_p4scustomerpknzwnelsearchstandardsportlet_standardEdNumber=PN-EN+1235%3A1999%2FA1%3A2004P&_searchstandards_WAR_p4scustomerpknzwnelsearchstandardsportlet_javax.portlet.action=showElementDodatkowyDetailsAction\n",
      "https://wiedza.pkn.pl/wyszukiwarka-norm?p_auth=Ay3AQHN8&p_p_id=searchstandards_WAR_p4scustomerpknzwnelsearchstandardsportlet&p_p_lifecycle=1&p_p_state=normal&p_p_mode=view&p_p_col_id=column-1&p_p_col_count=1&_searchstandards_WAR_p4scustomerpknzwnelsearchstandardsportlet_standardNumber=PN-EN+1235%3A1999P&_searchstandards_WAR_p4scustomerpknzwnelsearchstandardsportlet_standardEdNumber=PN-EN+1235%3A1999%2FA1%3A2004P&_searchstandards_WAR_p4scustomerpknzwnelsearchstandardsportlet_javax.portlet.action=showElementDodatkowyDetailsAction\n",
      "https://wiedza.pkn.pl/wyszukiwarka-norm?p_auth=Ay3AQHN8&p_p_id=searchstandards_WAR_p4scustomerpknzwnelsearchstandardsportlet&p_p_lifecycle=1&p_p_state=normal&p_p_mode=view&p_p_col_id=column-1&p_p_col_count=1&_searchstandards_WAR_p4scustomerpknzwnelsearchstandardsportlet_standardNumber=PN-EN+1235%3A1999P&_searchstandards_WAR_p4scustomerpknzwnelsearchstandardsportlet_standardEdNumber=PN-EN+1235%3A1999%2FA1%3A2004P&_searchstandards_WAR_p4scustomerpknzwnelsearchstandardsportlet_javax.portlet.action=showElementDodatkowyDetailsAction\n",
      "https://wiedza.pkn.pl/wyszukiwarka-norm?p_auth=Ay3AQHN8&p_p_id=searchstandards_WAR_p4scustomerpknzwnelsearchstandardsportlet&p_p_lifecycle=1&p_p_state=normal&p_p_mode=view&p_p_col_id=column-1&p_p_col_count=1&_searchstandards_WAR_p4scustomerpknzwnelsearchstandardsportlet_standardNumber=PN-EN+1236%3A1999P&_searchstandards_WAR_p4scustomerpknzwnelsearchstandardsportlet_javax.portlet.action=showStandardDetailsAction\n",
      "https://wiedza.pkn.pl/wyszukiwarka-norm?p_auth=Ay3AQHN8&p_p_id=searchstandards_WAR_p4scustomerpknzwnelsearchstandardsportlet&p_p_lifecycle=1&p_p_state=normal&p_p_mode=view&p_p_col_id=column-1&p_p_col_count=1&_searchstandards_WAR_p4scustomerpknzwnelsearchstandardsportlet_standardNumber=PN-EN+1236%3A1999P&_searchstandards_WAR_p4scustomerpknzwnelsearchstandardsportlet_javax.portlet.action=showStandardDetailsAction\n",
      "https://wiedza.pkn.pl/wyszukiwarka-norm?p_auth=Ay3AQHN8&p_p_id=searchstandards_WAR_p4scustomerpknzwnelsearchstandardsportlet&p_p_lifecycle=1&p_p_state=normal&p_p_mode=view&p_p_col_id=column-1&p_p_col_count=1&_searchstandards_WAR_p4scustomerpknzwnelsearchstandardsportlet_standardNumber=PN-EN+1236%3A1999P&_searchstandards_WAR_p4scustomerpknzwnelsearchstandardsportlet_javax.portlet.action=showStandardDetailsAction\n",
      "https://wiedza.pkn.pl/wyszukiwarka-norm?p_auth=Ay3AQHN8&p_p_id=searchstandards_WAR_p4scustomerpknzwnelsearchstandardsportlet&p_p_lifecycle=1&p_p_state=normal&p_p_mode=view&p_p_col_id=column-1&p_p_col_count=1&_searchstandards_WAR_p4scustomerpknzwnelsearchstandardsportlet_standardNumber=PN-C-87012-07%3A1978P&_searchstandards_WAR_p4scustomerpknzwnelsearchstandardsportlet_javax.portlet.action=showStandardDetailsAction\n",
      "https://wiedza.pkn.pl/wyszukiwarka-norm?p_auth=Ay3AQHN8&p_p_id=searchstandards_WAR_p4scustomerpknzwnelsearchstandardsportlet&p_p_lifecycle=1&p_p_state=normal&p_p_mode=view&p_p_col_id=column-1&p_p_col_count=1&_searchstandards_WAR_p4scustomerpknzwnelsearchstandardsportlet_standardNumber=PN-EN+1237%3A2000P&_searchstandards_WAR_p4scustomerpknzwnelsearchstandardsportlet_javax.portlet.action=showStandardDetailsAction\n",
      "https://wiedza.pkn.pl/wyszukiwarka-norm?p_auth=Ay3AQHN8&p_p_id=searchstandards_WAR_p4scustomerpknzwnelsearchstandardsportlet&p_p_lifecycle=1&p_p_state=normal&p_p_mode=view&p_p_col_id=column-1&p_p_col_count=1&_searchstandards_WAR_p4scustomerpknzwnelsearchstandardsportlet_standardNumber=PN-EN+1237%3A2000P&_searchstandards_WAR_p4scustomerpknzwnelsearchstandardsportlet_javax.portlet.action=showStandardDetailsAction\n",
      "https://wiedza.pkn.pl/wyszukiwarka-norm?p_auth=Ay3AQHN8&p_p_id=searchstandards_WAR_p4scustomerpknzwnelsearchstandardsportlet&p_p_lifecycle=1&p_p_state=normal&p_p_mode=view&p_p_col_id=column-1&p_p_col_count=1&_searchstandards_WAR_p4scustomerpknzwnelsearchstandardsportlet_standardNumber=PN-EN+1237%3A2000P&_searchstandards_WAR_p4scustomerpknzwnelsearchstandardsportlet_javax.portlet.action=showStandardDetailsAction\n",
      "https://wiedza.pkn.pl/wyszukiwarka-norm?p_auth=Ay3AQHN8&p_p_id=searchstandards_WAR_p4scustomerpknzwnelsearchstandardsportlet&p_p_lifecycle=1&p_p_state=normal&p_p_mode=view&p_p_col_id=column-1&p_p_col_count=1&_searchstandards_WAR_p4scustomerpknzwnelsearchstandardsportlet_standardNumber=PN-ISO+5311%3A1994P&_searchstandards_WAR_p4scustomerpknzwnelsearchstandardsportlet_javax.portlet.action=showStandardDetailsAction\n",
      "https://wiedza.pkn.pl/wyszukiwarka-norm?p_auth=Ay3AQHN8&p_p_id=searchstandards_WAR_p4scustomerpknzwnelsearchstandardsportlet&p_p_lifecycle=1&p_p_state=normal&p_p_mode=view&p_p_col_id=column-1&p_p_col_count=1&_searchstandards_WAR_p4scustomerpknzwnelsearchstandardsportlet_standardNumber=PN-EN+1238%3A2011E&_searchstandards_WAR_p4scustomerpknzwnelsearchstandardsportlet_javax.portlet.action=showStandardDetailsAction\n",
      "https://wiedza.pkn.pl/wyszukiwarka-norm?p_auth=Ay3AQHN8&p_p_id=searchstandards_WAR_p4scustomerpknzwnelsearchstandardsportlet&p_p_lifecycle=1&p_p_state=normal&p_p_mode=view&p_p_col_id=column-1&p_p_col_count=1&_searchstandards_WAR_p4scustomerpknzwnelsearchstandardsportlet_standardNumber=PN-EN+1238%3A2011E&_searchstandards_WAR_p4scustomerpknzwnelsearchstandardsportlet_javax.portlet.action=showStandardDetailsAction\n",
      "https://wiedza.pkn.pl/wyszukiwarka-norm?p_auth=Ay3AQHN8&p_p_id=searchstandards_WAR_p4scustomerpknzwnelsearchstandardsportlet&p_p_lifecycle=1&p_p_state=normal&p_p_mode=view&p_p_col_id=column-1&p_p_col_count=1&_searchstandards_WAR_p4scustomerpknzwnelsearchstandardsportlet_standardNumber=PN-EN+1238%3A2011E&_searchstandards_WAR_p4scustomerpknzwnelsearchstandardsportlet_javax.portlet.action=showStandardDetailsAction\n",
      "https://wiedza.pkn.pl/wyszukiwarka-norm?p_auth=Ay3AQHN8&p_p_id=searchstandards_WAR_p4scustomerpknzwnelsearchstandardsportlet&p_p_lifecycle=1&p_p_state=normal&p_p_mode=view&p_p_col_id=column-1&p_p_col_count=1&_searchstandards_WAR_p4scustomerpknzwnelsearchstandardsportlet_standardNumber=PN-EN+1238%3A2001P&_searchstandards_WAR_p4scustomerpknzwnelsearchstandardsportlet_javax.portlet.action=showStandardDetailsAction\n",
      "https://wiedza.pkn.pl/wyszukiwarka-norm?p_auth=Ay3AQHN8&p_p_id=searchstandards_WAR_p4scustomerpknzwnelsearchstandardsportlet&p_p_lifecycle=1&p_p_state=normal&p_p_mode=view&p_p_col_id=column-1&p_p_col_count=1&_searchstandards_WAR_p4scustomerpknzwnelsearchstandardsportlet_standardNumber=PN-EN+1238%3A2001P&_searchstandards_WAR_p4scustomerpknzwnelsearchstandardsportlet_javax.portlet.action=showStandardDetailsAction\n",
      "https://wiedza.pkn.pl/wyszukiwarka-norm?p_auth=Ay3AQHN8&p_p_id=searchstandards_WAR_p4scustomerpknzwnelsearchstandardsportlet&p_p_lifecycle=1&p_p_state=normal&p_p_mode=view&p_p_col_id=column-1&p_p_col_count=1&_searchstandards_WAR_p4scustomerpknzwnelsearchstandardsportlet_standardNumber=PN-EN+1238%3A2001P&_searchstandards_WAR_p4scustomerpknzwnelsearchstandardsportlet_javax.portlet.action=showStandardDetailsAction\n",
      "https://wiedza.pkn.pl/wyszukiwarka-norm?p_auth=Ay3AQHN8&p_p_id=searchstandards_WAR_p4scustomerpknzwnelsearchstandardsportlet&p_p_lifecycle=1&p_p_state=normal&p_p_mode=view&p_p_col_id=column-1&p_p_col_count=1&_searchstandards_WAR_p4scustomerpknzwnelsearchstandardsportlet_standardNumber=PN-EN+1238%3A2001P&_searchstandards_WAR_p4scustomerpknzwnelsearchstandardsportlet_javax.portlet.action=showStandardDetailsAction\n",
      "https://wiedza.pkn.pl/wyszukiwarka-norm?p_auth=Ay3AQHN8&p_p_id=searchstandards_WAR_p4scustomerpknzwnelsearchstandardsportlet&p_p_lifecycle=1&p_p_state=normal&p_p_mode=view&p_p_col_id=column-1&p_p_col_count=1&_searchstandards_WAR_p4scustomerpknzwnelsearchstandardsportlet_standardNumber=PN-EN+1238%3A2011E&_searchstandards_WAR_p4scustomerpknzwnelsearchstandardsportlet_javax.portlet.action=showStandardDetailsAction\n",
      "https://wiedza.pkn.pl/wyszukiwarka-norm?p_auth=Ay3AQHN8&p_p_id=searchstandards_WAR_p4scustomerpknzwnelsearchstandardsportlet&p_p_lifecycle=1&p_p_state=normal&p_p_mode=view&p_p_col_id=column-1&p_p_col_count=1&_searchstandards_WAR_p4scustomerpknzwnelsearchstandardsportlet_standardNumber=PN-EN+1239%3A2011E&_searchstandards_WAR_p4scustomerpknzwnelsearchstandardsportlet_javax.portlet.action=showStandardDetailsAction\n",
      "https://wiedza.pkn.pl/wyszukiwarka-norm?p_auth=Ay3AQHN8&p_p_id=searchstandards_WAR_p4scustomerpknzwnelsearchstandardsportlet&p_p_lifecycle=1&p_p_state=normal&p_p_mode=view&p_p_col_id=column-1&p_p_col_count=1&_searchstandards_WAR_p4scustomerpknzwnelsearchstandardsportlet_standardNumber=PN-EN+1239%3A2011E&_searchstandards_WAR_p4scustomerpknzwnelsearchstandardsportlet_javax.portlet.action=showStandardDetailsAction\n",
      "https://wiedza.pkn.pl/wyszukiwarka-norm?p_auth=Ay3AQHN8&p_p_id=searchstandards_WAR_p4scustomerpknzwnelsearchstandardsportlet&p_p_lifecycle=1&p_p_state=normal&p_p_mode=view&p_p_col_id=column-1&p_p_col_count=1&_searchstandards_WAR_p4scustomerpknzwnelsearchstandardsportlet_standardNumber=PN-EN+1239%3A2011E&_searchstandards_WAR_p4scustomerpknzwnelsearchstandardsportlet_javax.portlet.action=showStandardDetailsAction\n",
      "https://wiedza.pkn.pl/wyszukiwarka-norm?p_auth=Ay3AQHN8&p_p_id=searchstandards_WAR_p4scustomerpknzwnelsearchstandardsportlet&p_p_lifecycle=1&p_p_state=normal&p_p_mode=view&p_p_col_id=column-1&p_p_col_count=1&_searchstandards_WAR_p4scustomerpknzwnelsearchstandardsportlet_standardNumber=PN-EN+1239%3A2000P&_searchstandards_WAR_p4scustomerpknzwnelsearchstandardsportlet_javax.portlet.action=showStandardDetailsAction\n",
      "https://wiedza.pkn.pl/wyszukiwarka-norm?p_auth=Ay3AQHN8&p_p_id=searchstandards_WAR_p4scustomerpknzwnelsearchstandardsportlet&p_p_lifecycle=1&p_p_state=normal&p_p_mode=view&p_p_col_id=column-1&p_p_col_count=1&_searchstandards_WAR_p4scustomerpknzwnelsearchstandardsportlet_standardNumber=PN-EN+1239%3A2000P&_searchstandards_WAR_p4scustomerpknzwnelsearchstandardsportlet_javax.portlet.action=showStandardDetailsAction\n",
      "https://wiedza.pkn.pl/wyszukiwarka-norm?p_auth=Ay3AQHN8&p_p_id=searchstandards_WAR_p4scustomerpknzwnelsearchstandardsportlet&p_p_lifecycle=1&p_p_state=normal&p_p_mode=view&p_p_col_id=column-1&p_p_col_count=1&_searchstandards_WAR_p4scustomerpknzwnelsearchstandardsportlet_standardNumber=PN-EN+1239%3A2000P&_searchstandards_WAR_p4scustomerpknzwnelsearchstandardsportlet_javax.portlet.action=showStandardDetailsAction\n",
      "https://wiedza.pkn.pl/wyszukiwarka-norm?p_auth=Ay3AQHN8&p_p_id=searchstandards_WAR_p4scustomerpknzwnelsearchstandardsportlet&p_p_lifecycle=1&p_p_state=normal&p_p_mode=view&p_p_col_id=column-1&p_p_col_count=1&_searchstandards_WAR_p4scustomerpknzwnelsearchstandardsportlet_standardNumber=PN-EN+1239%3A2000P&_searchstandards_WAR_p4scustomerpknzwnelsearchstandardsportlet_javax.portlet.action=showStandardDetailsAction\n",
      "https://wiedza.pkn.pl/wyszukiwarka-norm?p_auth=Ay3AQHN8&p_p_id=searchstandards_WAR_p4scustomerpknzwnelsearchstandardsportlet&p_p_lifecycle=1&p_p_state=normal&p_p_mode=view&p_p_col_id=column-1&p_p_col_count=1&_searchstandards_WAR_p4scustomerpknzwnelsearchstandardsportlet_standardNumber=PN-EN+1239%3A2011E&_searchstandards_WAR_p4scustomerpknzwnelsearchstandardsportlet_javax.portlet.action=showStandardDetailsAction\n",
      "https://wiedza.pkn.pl/wyszukiwarka-norm?p_auth=Ay3AQHN8&p_p_id=searchstandards_WAR_p4scustomerpknzwnelsearchstandardsportlet&p_p_lifecycle=1&p_p_state=normal&p_p_mode=view&p_p_col_id=column-1&p_p_col_count=1&_searchstandards_WAR_p4scustomerpknzwnelsearchstandardsportlet_standardNumber=PN-EN+4123%3A2018-08E&_searchstandards_WAR_p4scustomerpknzwnelsearchstandardsportlet_javax.portlet.action=showStandardDetailsAction\n",
      "https://wiedza.pkn.pl/wyszukiwarka-norm?p_auth=Ay3AQHN8&p_p_id=searchstandards_WAR_p4scustomerpknzwnelsearchstandardsportlet&p_p_lifecycle=1&p_p_state=normal&p_p_mode=view&p_p_col_id=column-1&p_p_col_count=1&_searchstandards_WAR_p4scustomerpknzwnelsearchstandardsportlet_standardNumber=PN-EN+4123%3A2018-08E&_searchstandards_WAR_p4scustomerpknzwnelsearchstandardsportlet_javax.portlet.action=showStandardDetailsAction\n",
      "https://wiedza.pkn.pl/wyszukiwarka-norm?p_auth=Ay3AQHN8&p_p_id=searchstandards_WAR_p4scustomerpknzwnelsearchstandardsportlet&p_p_lifecycle=1&p_p_state=normal&p_p_mode=view&p_p_col_id=column-1&p_p_col_count=1&_searchstandards_WAR_p4scustomerpknzwnelsearchstandardsportlet_standardNumber=PN-EN+4123%3A2018-08E&_searchstandards_WAR_p4scustomerpknzwnelsearchstandardsportlet_javax.portlet.action=showStandardDetailsAction\n",
      "https://wiedza.pkn.pl/wyszukiwarka-norm?p_auth=Ay3AQHN8&p_p_id=searchstandards_WAR_p4scustomerpknzwnelsearchstandardsportlet&p_p_lifecycle=1&p_p_state=normal&p_p_mode=view&p_p_col_id=column-1&p_p_col_count=1&_searchstandards_WAR_p4scustomerpknzwnelsearchstandardsportlet_standardNumber=PN-EN+4123%3A2005E&_searchstandards_WAR_p4scustomerpknzwnelsearchstandardsportlet_javax.portlet.action=showStandardDetailsAction\n",
      "https://wiedza.pkn.pl/wyszukiwarka-norm?p_auth=Ay3AQHN8&p_p_id=searchstandards_WAR_p4scustomerpknzwnelsearchstandardsportlet&p_p_lifecycle=1&p_p_state=normal&p_p_mode=view&p_p_col_id=column-1&p_p_col_count=1&_searchstandards_WAR_p4scustomerpknzwnelsearchstandardsportlet_standardNumber=PN-EN+4123%3A2005E&_searchstandards_WAR_p4scustomerpknzwnelsearchstandardsportlet_javax.portlet.action=showStandardDetailsAction\n",
      "https://wiedza.pkn.pl/wyszukiwarka-norm?p_auth=Ay3AQHN8&p_p_id=searchstandards_WAR_p4scustomerpknzwnelsearchstandardsportlet&p_p_lifecycle=1&p_p_state=normal&p_p_mode=view&p_p_col_id=column-1&p_p_col_count=1&_searchstandards_WAR_p4scustomerpknzwnelsearchstandardsportlet_standardNumber=PN-EN+4123%3A2005E&_searchstandards_WAR_p4scustomerpknzwnelsearchstandardsportlet_javax.portlet.action=showStandardDetailsAction\n",
      "https://wiedza.pkn.pl/wyszukiwarka-norm?p_auth=Ay3AQHN8&p_p_id=searchstandards_WAR_p4scustomerpknzwnelsearchstandardsportlet&p_p_lifecycle=1&p_p_state=normal&p_p_mode=view&p_p_col_id=column-1&p_p_col_count=1&_searchstandards_WAR_p4scustomerpknzwnelsearchstandardsportlet_standardNumber=PN-EN+4123%3A2005E&_searchstandards_WAR_p4scustomerpknzwnelsearchstandardsportlet_javax.portlet.action=showStandardDetailsAction\n",
      "https://wiedza.pkn.pl/wyszukiwarka-norm?p_auth=Ay3AQHN8&p_p_id=searchstandards_WAR_p4scustomerpknzwnelsearchstandardsportlet&p_p_lifecycle=1&p_p_state=normal&p_p_mode=view&p_p_col_id=column-1&p_p_col_count=1&_searchstandards_WAR_p4scustomerpknzwnelsearchstandardsportlet_standardNumber=PN-EN+4123%3A2003E&_searchstandards_WAR_p4scustomerpknzwnelsearchstandardsportlet_javax.portlet.action=showStandardDetailsAction\n",
      "https://wiedza.pkn.pl/wyszukiwarka-norm?p_auth=Ay3AQHN8&p_p_id=searchstandards_WAR_p4scustomerpknzwnelsearchstandardsportlet&p_p_lifecycle=1&p_p_state=normal&p_p_mode=view&p_p_col_id=column-1&p_p_col_count=1&_searchstandards_WAR_p4scustomerpknzwnelsearchstandardsportlet_standardNumber=PN-EN+4123%3A2018-08E&_searchstandards_WAR_p4scustomerpknzwnelsearchstandardsportlet_javax.portlet.action=showStandardDetailsAction\n",
      "https://wiedza.pkn.pl/wyszukiwarka-norm?p_auth=Ay3AQHN8&p_p_id=searchstandards_WAR_p4scustomerpknzwnelsearchstandardsportlet&p_p_lifecycle=1&p_p_state=normal&p_p_mode=view&p_p_col_id=column-1&p_p_col_count=1&_searchstandards_WAR_p4scustomerpknzwnelsearchstandardsportlet_standardNumber=PN-EN+4123%3A2003E&_searchstandards_WAR_p4scustomerpknzwnelsearchstandardsportlet_javax.portlet.action=showStandardDetailsAction\n",
      "https://wiedza.pkn.pl/wyszukiwarka-norm?p_auth=Ay3AQHN8&p_p_id=searchstandards_WAR_p4scustomerpknzwnelsearchstandardsportlet&p_p_lifecycle=1&p_p_state=normal&p_p_mode=view&p_p_col_id=column-1&p_p_col_count=1&_searchstandards_WAR_p4scustomerpknzwnelsearchstandardsportlet_standardNumber=PN-EN+4123%3A2003E&_searchstandards_WAR_p4scustomerpknzwnelsearchstandardsportlet_javax.portlet.action=showStandardDetailsAction\n",
      "https://wiedza.pkn.pl/wyszukiwarka-norm?p_auth=Ay3AQHN8&p_p_id=searchstandards_WAR_p4scustomerpknzwnelsearchstandardsportlet&p_p_lifecycle=1&p_p_state=normal&p_p_mode=view&p_p_col_id=column-1&p_p_col_count=1&_searchstandards_WAR_p4scustomerpknzwnelsearchstandardsportlet_standardNumber=PN-EN+4123%3A2003E&_searchstandards_WAR_p4scustomerpknzwnelsearchstandardsportlet_javax.portlet.action=showStandardDetailsAction\n",
      "https://wiedza.pkn.pl/wyszukiwarka-norm?p_auth=Ay3AQHN8&p_p_id=searchstandards_WAR_p4scustomerpknzwnelsearchstandardsportlet&p_p_lifecycle=1&p_p_state=normal&p_p_mode=view&p_p_col_id=column-1&p_p_col_count=1&_searchstandards_WAR_p4scustomerpknzwnelsearchstandardsportlet_standardNumber=PN-EN+4123%3A2005E&_searchstandards_WAR_p4scustomerpknzwnelsearchstandardsportlet_javax.portlet.action=showStandardDetailsAction\n",
      "https://wiedza.pkn.pl/wyszukiwarka-norm?p_auth=Ay3AQHN8&p_p_id=searchstandards_WAR_p4scustomerpknzwnelsearchstandardsportlet&p_p_lifecycle=1&p_p_state=normal&p_p_mode=view&p_p_col_id=column-1&p_p_col_count=1&_searchstandards_WAR_p4scustomerpknzwnelsearchstandardsportlet_standardNumber=PN-EN+6123%3A2016-05E&_searchstandards_WAR_p4scustomerpknzwnelsearchstandardsportlet_javax.portlet.action=showStandardDetailsAction\n",
      "https://wiedza.pkn.pl/wyszukiwarka-norm?p_auth=Ay3AQHN8&p_p_id=searchstandards_WAR_p4scustomerpknzwnelsearchstandardsportlet&p_p_lifecycle=1&p_p_state=normal&p_p_mode=view&p_p_col_id=column-1&p_p_col_count=1&_searchstandards_WAR_p4scustomerpknzwnelsearchstandardsportlet_standardNumber=PN-EN+6123%3A2016-05E&_searchstandards_WAR_p4scustomerpknzwnelsearchstandardsportlet_javax.portlet.action=showStandardDetailsAction\n",
      "https://wiedza.pkn.pl/wyszukiwarka-norm?p_auth=Ay3AQHN8&p_p_id=searchstandards_WAR_p4scustomerpknzwnelsearchstandardsportlet&p_p_lifecycle=1&p_p_state=normal&p_p_mode=view&p_p_col_id=column-1&p_p_col_count=1&_searchstandards_WAR_p4scustomerpknzwnelsearchstandardsportlet_standardNumber=PN-EN+6123%3A2016-05E&_searchstandards_WAR_p4scustomerpknzwnelsearchstandardsportlet_javax.portlet.action=showStandardDetailsAction\n",
      "https://wiedza.pkn.pl/wyszukiwarka-norm?p_auth=Ay3AQHN8&p_p_id=searchstandards_WAR_p4scustomerpknzwnelsearchstandardsportlet&p_p_lifecycle=1&p_p_state=normal&p_p_mode=view&p_p_col_id=column-1&p_p_col_count=1&_searchstandards_WAR_p4scustomerpknzwnelsearchstandardsportlet_standardNumber=PN-EN+12123%3A2013-05E&_searchstandards_WAR_p4scustomerpknzwnelsearchstandardsportlet_javax.portlet.action=showStandardDetailsAction\n",
      "https://wiedza.pkn.pl/wyszukiwarka-norm?p_auth=Ay3AQHN8&p_p_id=searchstandards_WAR_p4scustomerpknzwnelsearchstandardsportlet&p_p_lifecycle=1&p_p_state=normal&p_p_mode=view&p_p_col_id=column-1&p_p_col_count=1&_searchstandards_WAR_p4scustomerpknzwnelsearchstandardsportlet_standardNumber=PN-EN+12123%3A2013-05E&_searchstandards_WAR_p4scustomerpknzwnelsearchstandardsportlet_javax.portlet.action=showStandardDetailsAction\n",
      "https://wiedza.pkn.pl/wyszukiwarka-norm?p_auth=Ay3AQHN8&p_p_id=searchstandards_WAR_p4scustomerpknzwnelsearchstandardsportlet&p_p_lifecycle=1&p_p_state=normal&p_p_mode=view&p_p_col_id=column-1&p_p_col_count=1&_searchstandards_WAR_p4scustomerpknzwnelsearchstandardsportlet_standardNumber=PN-EN+12123%3A2013-05E&_searchstandards_WAR_p4scustomerpknzwnelsearchstandardsportlet_javax.portlet.action=showStandardDetailsAction\n",
      "https://wiedza.pkn.pl/wyszukiwarka-norm?p_auth=Ay3AQHN8&p_p_id=searchstandards_WAR_p4scustomerpknzwnelsearchstandardsportlet&p_p_lifecycle=1&p_p_state=normal&p_p_mode=view&p_p_col_id=column-1&p_p_col_count=1&_searchstandards_WAR_p4scustomerpknzwnelsearchstandardsportlet_standardNumber=PN-EN+12123%3A2005E&_searchstandards_WAR_p4scustomerpknzwnelsearchstandardsportlet_javax.portlet.action=showStandardDetailsAction\n",
      "https://wiedza.pkn.pl/wyszukiwarka-norm?p_auth=Ay3AQHN8&p_p_id=searchstandards_WAR_p4scustomerpknzwnelsearchstandardsportlet&p_p_lifecycle=1&p_p_state=normal&p_p_mode=view&p_p_col_id=column-1&p_p_col_count=1&_searchstandards_WAR_p4scustomerpknzwnelsearchstandardsportlet_standardNumber=PN-EN+12123%3A2005E&_searchstandards_WAR_p4scustomerpknzwnelsearchstandardsportlet_javax.portlet.action=showStandardDetailsAction\n",
      "https://wiedza.pkn.pl/wyszukiwarka-norm?p_auth=Ay3AQHN8&p_p_id=searchstandards_WAR_p4scustomerpknzwnelsearchstandardsportlet&p_p_lifecycle=1&p_p_state=normal&p_p_mode=view&p_p_col_id=column-1&p_p_col_count=1&_searchstandards_WAR_p4scustomerpknzwnelsearchstandardsportlet_standardNumber=PN-EN+12123%3A2005E&_searchstandards_WAR_p4scustomerpknzwnelsearchstandardsportlet_javax.portlet.action=showStandardDetailsAction\n",
      "https://wiedza.pkn.pl/wyszukiwarka-norm?p_auth=Ay3AQHN8&p_p_id=searchstandards_WAR_p4scustomerpknzwnelsearchstandardsportlet&p_p_lifecycle=1&p_p_state=normal&p_p_mode=view&p_p_col_id=column-1&p_p_col_count=1&_searchstandards_WAR_p4scustomerpknzwnelsearchstandardsportlet_standardNumber=PN-EN+12123%3A2005E&_searchstandards_WAR_p4scustomerpknzwnelsearchstandardsportlet_javax.portlet.action=showStandardDetailsAction\n",
      "https://wiedza.pkn.pl/wyszukiwarka-norm?p_auth=Ay3AQHN8&p_p_id=searchstandards_WAR_p4scustomerpknzwnelsearchstandardsportlet&p_p_lifecycle=1&p_p_state=normal&p_p_mode=view&p_p_col_id=column-1&p_p_col_count=1&_searchstandards_WAR_p4scustomerpknzwnelsearchstandardsportlet_standardNumber=PN-EN+12123%3A2000P&_searchstandards_WAR_p4scustomerpknzwnelsearchstandardsportlet_javax.portlet.action=showStandardDetailsAction\n",
      "https://wiedza.pkn.pl/wyszukiwarka-norm?p_auth=Ay3AQHN8&p_p_id=searchstandards_WAR_p4scustomerpknzwnelsearchstandardsportlet&p_p_lifecycle=1&p_p_state=normal&p_p_mode=view&p_p_col_id=column-1&p_p_col_count=1&_searchstandards_WAR_p4scustomerpknzwnelsearchstandardsportlet_standardNumber=PN-EN+12123%3A2013-05E&_searchstandards_WAR_p4scustomerpknzwnelsearchstandardsportlet_javax.portlet.action=showStandardDetailsAction\n",
      "https://wiedza.pkn.pl/wyszukiwarka-norm?p_auth=Ay3AQHN8&p_p_id=searchstandards_WAR_p4scustomerpknzwnelsearchstandardsportlet&p_p_lifecycle=1&p_p_state=normal&p_p_mode=view&p_p_col_id=column-1&p_p_col_count=1&_searchstandards_WAR_p4scustomerpknzwnelsearchstandardsportlet_standardNumber=PN-EN+12123%3A2000P&_searchstandards_WAR_p4scustomerpknzwnelsearchstandardsportlet_javax.portlet.action=showStandardDetailsAction\n",
      "https://wiedza.pkn.pl/wyszukiwarka-norm?p_auth=Ay3AQHN8&p_p_id=searchstandards_WAR_p4scustomerpknzwnelsearchstandardsportlet&p_p_lifecycle=1&p_p_state=normal&p_p_mode=view&p_p_col_id=column-1&p_p_col_count=1&_searchstandards_WAR_p4scustomerpknzwnelsearchstandardsportlet_standardNumber=PN-EN+12123%3A2000P&_searchstandards_WAR_p4scustomerpknzwnelsearchstandardsportlet_javax.portlet.action=showStandardDetailsAction\n",
      "https://wiedza.pkn.pl/wyszukiwarka-norm?p_auth=Ay3AQHN8&p_p_id=searchstandards_WAR_p4scustomerpknzwnelsearchstandardsportlet&p_p_lifecycle=1&p_p_state=normal&p_p_mode=view&p_p_col_id=column-1&p_p_col_count=1&_searchstandards_WAR_p4scustomerpknzwnelsearchstandardsportlet_standardNumber=PN-EN+12123%3A2000P&_searchstandards_WAR_p4scustomerpknzwnelsearchstandardsportlet_javax.portlet.action=showStandardDetailsAction\n",
      "https://wiedza.pkn.pl/wyszukiwarka-norm?p_auth=Ay3AQHN8&p_p_id=searchstandards_WAR_p4scustomerpknzwnelsearchstandardsportlet&p_p_lifecycle=1&p_p_state=normal&p_p_mode=view&p_p_col_id=column-1&p_p_col_count=1&_searchstandards_WAR_p4scustomerpknzwnelsearchstandardsportlet_standardNumber=PN-EN+12123%3A2005E&_searchstandards_WAR_p4scustomerpknzwnelsearchstandardsportlet_javax.portlet.action=showStandardDetailsAction\n",
      "https://wiedza.pkn.pl/wyszukiwarka-norm?p_auth=Ay3AQHN8&p_p_id=searchstandards_WAR_p4scustomerpknzwnelsearchstandardsportlet&p_p_lifecycle=1&p_p_state=normal&p_p_mode=view&p_p_col_id=column-1&p_p_col_count=1&_searchstandards_WAR_p4scustomerpknzwnelsearchstandardsportlet_standardNumber=PN-EN+12300%3A2003P&_searchstandards_WAR_p4scustomerpknzwnelsearchstandardsportlet_javax.portlet.action=showStandardDetailsAction\n",
      "https://wiedza.pkn.pl/wyszukiwarka-norm?p_auth=Ay3AQHN8&p_p_id=searchstandards_WAR_p4scustomerpknzwnelsearchstandardsportlet&p_p_lifecycle=1&p_p_state=normal&p_p_mode=view&p_p_col_id=column-1&p_p_col_count=1&_searchstandards_WAR_p4scustomerpknzwnelsearchstandardsportlet_standardNumber=PN-EN+12300%3A2003P&_searchstandards_WAR_p4scustomerpknzwnelsearchstandardsportlet_javax.portlet.action=showStandardDetailsAction\n",
      "https://wiedza.pkn.pl/wyszukiwarka-norm?p_auth=Ay3AQHN8&p_p_id=searchstandards_WAR_p4scustomerpknzwnelsearchstandardsportlet&p_p_lifecycle=1&p_p_state=normal&p_p_mode=view&p_p_col_id=column-1&p_p_col_count=1&_searchstandards_WAR_p4scustomerpknzwnelsearchstandardsportlet_standardNumber=PN-EN+12300%3A2003P&_searchstandards_WAR_p4scustomerpknzwnelsearchstandardsportlet_javax.portlet.action=showStandardDetailsAction\n",
      "https://wiedza.pkn.pl/wyszukiwarka-norm?p_auth=Ay3AQHN8&p_p_id=searchstandards_WAR_p4scustomerpknzwnelsearchstandardsportlet&p_p_lifecycle=1&p_p_state=normal&p_p_mode=view&p_p_col_id=column-1&p_p_col_count=1&_searchstandards_WAR_p4scustomerpknzwnelsearchstandardsportlet_standardNumber=PN-EN+12300%3A2002E&_searchstandards_WAR_p4scustomerpknzwnelsearchstandardsportlet_javax.portlet.action=showStandardDetailsAction\n",
      "https://wiedza.pkn.pl/wyszukiwarka-norm?p_auth=Ay3AQHN8&p_p_id=searchstandards_WAR_p4scustomerpknzwnelsearchstandardsportlet&p_p_lifecycle=1&p_p_state=normal&p_p_mode=view&p_p_col_id=column-1&p_p_col_count=1&_searchstandards_WAR_p4scustomerpknzwnelsearchstandardsportlet_standardNumber=PN-EN+ISO+23208%3A2019-07E&_searchstandards_WAR_p4scustomerpknzwnelsearchstandardsportlet_javax.portlet.action=showStandardDetailsAction\n",
      "https://wiedza.pkn.pl/wyszukiwarka-norm?p_auth=Ay3AQHN8&p_p_id=searchstandards_WAR_p4scustomerpknzwnelsearchstandardsportlet&p_p_lifecycle=1&p_p_state=normal&p_p_mode=view&p_p_col_id=column-1&p_p_col_count=1&_searchstandards_WAR_p4scustomerpknzwnelsearchstandardsportlet_standardNumber=PN-EN+12300%3A2003P&_searchstandards_WAR_p4scustomerpknzwnelsearchstandardsportlet_standardEdNumber=PN-EN+12300%3A2003%2FA1%3A2006E&_searchstandards_WAR_p4scustomerpknzwnelsearchstandardsportlet_javax.portlet.action=showElementDodatkowyDetailsAction\n",
      "https://wiedza.pkn.pl/wyszukiwarka-norm?p_auth=Ay3AQHN8&p_p_id=searchstandards_WAR_p4scustomerpknzwnelsearchstandardsportlet&p_p_lifecycle=1&p_p_state=normal&p_p_mode=view&p_p_col_id=column-1&p_p_col_count=1&_searchstandards_WAR_p4scustomerpknzwnelsearchstandardsportlet_standardNumber=PN-EN+12300%3A2003P&_searchstandards_WAR_p4scustomerpknzwnelsearchstandardsportlet_standardEdNumber=PN-EN+12300%3A2003%2FA1%3A2006E&_searchstandards_WAR_p4scustomerpknzwnelsearchstandardsportlet_javax.portlet.action=showElementDodatkowyDetailsAction\n",
      "https://wiedza.pkn.pl/wyszukiwarka-norm?p_auth=Ay3AQHN8&p_p_id=searchstandards_WAR_p4scustomerpknzwnelsearchstandardsportlet&p_p_lifecycle=1&p_p_state=normal&p_p_mode=view&p_p_col_id=column-1&p_p_col_count=1&_searchstandards_WAR_p4scustomerpknzwnelsearchstandardsportlet_standardNumber=PN-EN+12300%3A2003P&_searchstandards_WAR_p4scustomerpknzwnelsearchstandardsportlet_standardEdNumber=PN-EN+12300%3A2003%2FA1%3A2006E&_searchstandards_WAR_p4scustomerpknzwnelsearchstandardsportlet_javax.portlet.action=showElementDodatkowyDetailsAction\n",
      "https://wiedza.pkn.pl/wyszukiwarka-norm?p_auth=Ay3AQHN8&p_p_id=searchstandards_WAR_p4scustomerpknzwnelsearchstandardsportlet&p_p_lifecycle=1&p_p_state=normal&p_p_mode=view&p_p_col_id=column-1&p_p_col_count=1&_searchstandards_WAR_p4scustomerpknzwnelsearchstandardsportlet_standardNumber=PN-EN+12300%3A2003P&_searchstandards_WAR_p4scustomerpknzwnelsearchstandardsportlet_standardEdNumber=PN-EN+12300%3A2003%2FA1%3A2006D&_searchstandards_WAR_p4scustomerpknzwnelsearchstandardsportlet_javax.portlet.action=showElementDodatkowyDetailsAction\n",
      "https://wiedza.pkn.pl/wyszukiwarka-norm?p_auth=Ay3AQHN8&p_p_id=searchstandards_WAR_p4scustomerpknzwnelsearchstandardsportlet&p_p_lifecycle=1&p_p_state=normal&p_p_mode=view&p_p_col_id=column-1&p_p_col_count=1&_searchstandards_WAR_p4scustomerpknzwnelsearchstandardsportlet_standardNumber=PN-EN+12300%3A2003P&_searchstandards_WAR_p4scustomerpknzwnelsearchstandardsportlet_standardEdNumber=PN-EN+12300%3A2003%2FA1%3A2006D&_searchstandards_WAR_p4scustomerpknzwnelsearchstandardsportlet_javax.portlet.action=showElementDodatkowyDetailsAction\n",
      "https://wiedza.pkn.pl/wyszukiwarka-norm?p_auth=Ay3AQHN8&p_p_id=searchstandards_WAR_p4scustomerpknzwnelsearchstandardsportlet&p_p_lifecycle=1&p_p_state=normal&p_p_mode=view&p_p_col_id=column-1&p_p_col_count=1&_searchstandards_WAR_p4scustomerpknzwnelsearchstandardsportlet_standardNumber=PN-EN+12300%3A2003P&_searchstandards_WAR_p4scustomerpknzwnelsearchstandardsportlet_standardEdNumber=PN-EN+12300%3A2003%2FA1%3A2006D&_searchstandards_WAR_p4scustomerpknzwnelsearchstandardsportlet_javax.portlet.action=showElementDodatkowyDetailsAction\n",
      "https://wiedza.pkn.pl/wyszukiwarka-norm?p_auth=Ay3AQHN8&p_p_id=searchstandards_WAR_p4scustomerpknzwnelsearchstandardsportlet&p_p_lifecycle=1&p_p_state=normal&p_p_mode=view&p_p_col_id=column-1&p_p_col_count=1&_searchstandards_WAR_p4scustomerpknzwnelsearchstandardsportlet_standardNumber=PN-EN+12300%3A2002E&_searchstandards_WAR_p4scustomerpknzwnelsearchstandardsportlet_javax.portlet.action=showStandardDetailsAction\n",
      "https://wiedza.pkn.pl/wyszukiwarka-norm?p_auth=Ay3AQHN8&p_p_id=searchstandards_WAR_p4scustomerpknzwnelsearchstandardsportlet&p_p_lifecycle=1&p_p_state=normal&p_p_mode=view&p_p_col_id=column-1&p_p_col_count=1&_searchstandards_WAR_p4scustomerpknzwnelsearchstandardsportlet_standardNumber=PN-EN+12300%3A2002E&_searchstandards_WAR_p4scustomerpknzwnelsearchstandardsportlet_javax.portlet.action=showStandardDetailsAction\n",
      "https://wiedza.pkn.pl/wyszukiwarka-norm?p_auth=Ay3AQHN8&p_p_id=searchstandards_WAR_p4scustomerpknzwnelsearchstandardsportlet&p_p_lifecycle=1&p_p_state=normal&p_p_mode=view&p_p_col_id=column-1&p_p_col_count=1&_searchstandards_WAR_p4scustomerpknzwnelsearchstandardsportlet_standardNumber=PN-EN+12300%3A2002E&_searchstandards_WAR_p4scustomerpknzwnelsearchstandardsportlet_javax.portlet.action=showStandardDetailsAction\n",
      "https://wiedza.pkn.pl/wyszukiwarka-norm?p_auth=Ay3AQHN8&p_p_id=searchstandards_WAR_p4scustomerpknzwnelsearchstandardsportlet&p_p_lifecycle=1&p_p_state=normal&p_p_mode=view&p_p_col_id=column-1&p_p_col_count=1&_searchstandards_WAR_p4scustomerpknzwnelsearchstandardsportlet_standardNumber=PN-EN+12300%3A2003P&_searchstandards_WAR_p4scustomerpknzwnelsearchstandardsportlet_javax.portlet.action=showStandardDetailsAction\n",
      "https://wiedza.pkn.pl/wyszukiwarka-norm?p_auth=Ay3AQHN8&p_p_id=searchstandards_WAR_p4scustomerpknzwnelsearchstandardsportlet&p_p_lifecycle=1&p_p_state=normal&p_p_mode=view&p_p_col_id=column-1&p_p_col_count=1&_searchstandards_WAR_p4scustomerpknzwnelsearchstandardsportlet_standardNumber=PN-EN+12301%3A2020-05E&_searchstandards_WAR_p4scustomerpknzwnelsearchstandardsportlet_javax.portlet.action=showStandardDetailsAction\n",
      "https://wiedza.pkn.pl/wyszukiwarka-norm?p_auth=Ay3AQHN8&p_p_id=searchstandards_WAR_p4scustomerpknzwnelsearchstandardsportlet&p_p_lifecycle=1&p_p_state=normal&p_p_mode=view&p_p_col_id=column-1&p_p_col_count=1&_searchstandards_WAR_p4scustomerpknzwnelsearchstandardsportlet_standardNumber=PN-EN+12301%3A2020-05E&_searchstandards_WAR_p4scustomerpknzwnelsearchstandardsportlet_javax.portlet.action=showStandardDetailsAction\n",
      "https://wiedza.pkn.pl/wyszukiwarka-norm?p_auth=Ay3AQHN8&p_p_id=searchstandards_WAR_p4scustomerpknzwnelsearchstandardsportlet&p_p_lifecycle=1&p_p_state=normal&p_p_mode=view&p_p_col_id=column-1&p_p_col_count=1&_searchstandards_WAR_p4scustomerpknzwnelsearchstandardsportlet_standardNumber=PN-EN+12301%3A2020-05E&_searchstandards_WAR_p4scustomerpknzwnelsearchstandardsportlet_javax.portlet.action=showStandardDetailsAction\n",
      "https://wiedza.pkn.pl/wyszukiwarka-norm?p_auth=Ay3AQHN8&p_p_id=searchstandards_WAR_p4scustomerpknzwnelsearchstandardsportlet&p_p_lifecycle=1&p_p_state=normal&p_p_mode=view&p_p_col_id=column-1&p_p_col_count=1&_searchstandards_WAR_p4scustomerpknzwnelsearchstandardsportlet_standardNumber=PN-EN+12301%2BA1%3A2008E&_searchstandards_WAR_p4scustomerpknzwnelsearchstandardsportlet_javax.portlet.action=showStandardDetailsAction\n",
      "https://wiedza.pkn.pl/wyszukiwarka-norm?p_auth=Ay3AQHN8&p_p_id=searchstandards_WAR_p4scustomerpknzwnelsearchstandardsportlet&p_p_lifecycle=1&p_p_state=normal&p_p_mode=view&p_p_col_id=column-1&p_p_col_count=1&_searchstandards_WAR_p4scustomerpknzwnelsearchstandardsportlet_standardNumber=PN-EN+12301%3A2002P&_searchstandards_WAR_p4scustomerpknzwnelsearchstandardsportlet_javax.portlet.action=showStandardDetailsAction\n",
      "https://wiedza.pkn.pl/wyszukiwarka-norm?p_auth=Ay3AQHN8&p_p_id=searchstandards_WAR_p4scustomerpknzwnelsearchstandardsportlet&p_p_lifecycle=1&p_p_state=normal&p_p_mode=view&p_p_col_id=column-1&p_p_col_count=1&_searchstandards_WAR_p4scustomerpknzwnelsearchstandardsportlet_standardNumber=PN-EN+12301%3A2002P&_searchstandards_WAR_p4scustomerpknzwnelsearchstandardsportlet_javax.portlet.action=showStandardDetailsAction\n",
      "https://wiedza.pkn.pl/wyszukiwarka-norm?p_auth=Ay3AQHN8&p_p_id=searchstandards_WAR_p4scustomerpknzwnelsearchstandardsportlet&p_p_lifecycle=1&p_p_state=normal&p_p_mode=view&p_p_col_id=column-1&p_p_col_count=1&_searchstandards_WAR_p4scustomerpknzwnelsearchstandardsportlet_standardNumber=PN-EN+12301%3A2002P&_searchstandards_WAR_p4scustomerpknzwnelsearchstandardsportlet_javax.portlet.action=showStandardDetailsAction\n",
      "https://wiedza.pkn.pl/wyszukiwarka-norm?p_auth=Ay3AQHN8&p_p_id=searchstandards_WAR_p4scustomerpknzwnelsearchstandardsportlet&p_p_lifecycle=1&p_p_state=normal&p_p_mode=view&p_p_col_id=column-1&p_p_col_count=1&_searchstandards_WAR_p4scustomerpknzwnelsearchstandardsportlet_standardNumber=PN-EN+12301%2BA1%3A2008E&_searchstandards_WAR_p4scustomerpknzwnelsearchstandardsportlet_javax.portlet.action=showStandardDetailsAction\n",
      "https://wiedza.pkn.pl/wyszukiwarka-norm?p_auth=Ay3AQHN8&p_p_id=searchstandards_WAR_p4scustomerpknzwnelsearchstandardsportlet&p_p_lifecycle=1&p_p_state=normal&p_p_mode=view&p_p_col_id=column-1&p_p_col_count=1&_searchstandards_WAR_p4scustomerpknzwnelsearchstandardsportlet_standardNumber=PN-EN+12301%2BA1%3A2008E&_searchstandards_WAR_p4scustomerpknzwnelsearchstandardsportlet_javax.portlet.action=showStandardDetailsAction\n",
      "https://wiedza.pkn.pl/wyszukiwarka-norm?p_auth=Ay3AQHN8&p_p_id=searchstandards_WAR_p4scustomerpknzwnelsearchstandardsportlet&p_p_lifecycle=1&p_p_state=normal&p_p_mode=view&p_p_col_id=column-1&p_p_col_count=1&_searchstandards_WAR_p4scustomerpknzwnelsearchstandardsportlet_standardNumber=PN-EN+12301%2BA1%3A2008E&_searchstandards_WAR_p4scustomerpknzwnelsearchstandardsportlet_javax.portlet.action=showStandardDetailsAction\n",
      "https://wiedza.pkn.pl/wyszukiwarka-norm?p_auth=Ay3AQHN8&p_p_id=searchstandards_WAR_p4scustomerpknzwnelsearchstandardsportlet&p_p_lifecycle=1&p_p_state=normal&p_p_mode=view&p_p_col_id=column-1&p_p_col_count=1&_searchstandards_WAR_p4scustomerpknzwnelsearchstandardsportlet_standardNumber=PN-EN+12301%2BA1%3A2008E&_searchstandards_WAR_p4scustomerpknzwnelsearchstandardsportlet_javax.portlet.action=showStandardDetailsAction\n",
      "https://wiedza.pkn.pl/wyszukiwarka-norm?p_auth=Ay3AQHN8&p_p_id=searchstandards_WAR_p4scustomerpknzwnelsearchstandardsportlet&p_p_lifecycle=1&p_p_state=normal&p_p_mode=view&p_p_col_id=column-1&p_p_col_count=1&_searchstandards_WAR_p4scustomerpknzwnelsearchstandardsportlet_standardNumber=PN-EN+12301%3A2002P&_searchstandards_WAR_p4scustomerpknzwnelsearchstandardsportlet_javax.portlet.action=showStandardDetailsAction\n",
      "https://wiedza.pkn.pl/wyszukiwarka-norm?p_auth=Ay3AQHN8&p_p_id=searchstandards_WAR_p4scustomerpknzwnelsearchstandardsportlet&p_p_lifecycle=1&p_p_state=normal&p_p_mode=view&p_p_col_id=column-1&p_p_col_count=1&_searchstandards_WAR_p4scustomerpknzwnelsearchstandardsportlet_standardNumber=PN-EN+12301%3A2020-05E&_searchstandards_WAR_p4scustomerpknzwnelsearchstandardsportlet_javax.portlet.action=showStandardDetailsAction\n",
      "https://wiedza.pkn.pl/wyszukiwarka-norm?p_auth=Ay3AQHN8&p_p_id=searchstandards_WAR_p4scustomerpknzwnelsearchstandardsportlet&p_p_lifecycle=1&p_p_state=normal&p_p_mode=view&p_p_col_id=column-1&p_p_col_count=1&_searchstandards_WAR_p4scustomerpknzwnelsearchstandardsportlet_standardNumber=PN-EN+12302%3A2002P&_searchstandards_WAR_p4scustomerpknzwnelsearchstandardsportlet_javax.portlet.action=showStandardDetailsAction\n",
      "https://wiedza.pkn.pl/wyszukiwarka-norm?p_auth=Ay3AQHN8&p_p_id=searchstandards_WAR_p4scustomerpknzwnelsearchstandardsportlet&p_p_lifecycle=1&p_p_state=normal&p_p_mode=view&p_p_col_id=column-1&p_p_col_count=1&_searchstandards_WAR_p4scustomerpknzwnelsearchstandardsportlet_standardNumber=PN-EN+12302%3A2002P&_searchstandards_WAR_p4scustomerpknzwnelsearchstandardsportlet_javax.portlet.action=showStandardDetailsAction\n",
      "https://wiedza.pkn.pl/wyszukiwarka-norm?p_auth=Ay3AQHN8&p_p_id=searchstandards_WAR_p4scustomerpknzwnelsearchstandardsportlet&p_p_lifecycle=1&p_p_state=normal&p_p_mode=view&p_p_col_id=column-1&p_p_col_count=1&_searchstandards_WAR_p4scustomerpknzwnelsearchstandardsportlet_standardNumber=PN-EN+12302%3A2002P&_searchstandards_WAR_p4scustomerpknzwnelsearchstandardsportlet_javax.portlet.action=showStandardDetailsAction\n",
      "https://wiedza.pkn.pl/wyszukiwarka-norm?p_auth=Ay3AQHN8&p_p_id=searchstandards_WAR_p4scustomerpknzwnelsearchstandardsportlet&p_p_lifecycle=1&p_p_state=normal&p_p_mode=view&p_p_col_id=column-1&p_p_col_count=1&_searchstandards_WAR_p4scustomerpknzwnelsearchstandardsportlet_standardNumber=PN-EN+15529%3A2007E&_searchstandards_WAR_p4scustomerpknzwnelsearchstandardsportlet_javax.portlet.action=showStandardDetailsAction\n",
      "https://wiedza.pkn.pl/wyszukiwarka-norm?p_auth=Ay3AQHN8&p_p_id=searchstandards_WAR_p4scustomerpknzwnelsearchstandardsportlet&p_p_lifecycle=1&p_p_state=normal&p_p_mode=view&p_p_col_id=column-1&p_p_col_count=1&_searchstandards_WAR_p4scustomerpknzwnelsearchstandardsportlet_standardNumber=PN-EN+12303%3A2002P&_searchstandards_WAR_p4scustomerpknzwnelsearchstandardsportlet_javax.portlet.action=showStandardDetailsAction\n",
      "https://wiedza.pkn.pl/wyszukiwarka-norm?p_auth=Ay3AQHN8&p_p_id=searchstandards_WAR_p4scustomerpknzwnelsearchstandardsportlet&p_p_lifecycle=1&p_p_state=normal&p_p_mode=view&p_p_col_id=column-1&p_p_col_count=1&_searchstandards_WAR_p4scustomerpknzwnelsearchstandardsportlet_standardNumber=PN-EN+12303%3A2002P&_searchstandards_WAR_p4scustomerpknzwnelsearchstandardsportlet_javax.portlet.action=showStandardDetailsAction\n",
      "https://wiedza.pkn.pl/wyszukiwarka-norm?p_auth=Ay3AQHN8&p_p_id=searchstandards_WAR_p4scustomerpknzwnelsearchstandardsportlet&p_p_lifecycle=1&p_p_state=normal&p_p_mode=view&p_p_col_id=column-1&p_p_col_count=1&_searchstandards_WAR_p4scustomerpknzwnelsearchstandardsportlet_standardNumber=PN-EN+12303%3A2002P&_searchstandards_WAR_p4scustomerpknzwnelsearchstandardsportlet_javax.portlet.action=showStandardDetailsAction\n",
      "https://wiedza.pkn.pl/wyszukiwarka-norm?p_auth=Ay3AQHN8&p_p_id=searchstandards_WAR_p4scustomerpknzwnelsearchstandardsportlet&p_p_lifecycle=1&p_p_state=normal&p_p_mode=view&p_p_col_id=column-1&p_p_col_count=1&_searchstandards_WAR_p4scustomerpknzwnelsearchstandardsportlet_standardNumber=PN-EN+15529%3A2007E&_searchstandards_WAR_p4scustomerpknzwnelsearchstandardsportlet_javax.portlet.action=showStandardDetailsAction\n",
      "https://wiedza.pkn.pl/wyszukiwarka-norm?p_auth=Ay3AQHN8&p_p_id=searchstandards_WAR_p4scustomerpknzwnelsearchstandardsportlet&p_p_lifecycle=1&p_p_state=normal&p_p_mode=view&p_p_col_id=column-1&p_p_col_count=1&_searchstandards_WAR_p4scustomerpknzwnelsearchstandardsportlet_standardNumber=PN-EN+12305%3A2000P&_searchstandards_WAR_p4scustomerpknzwnelsearchstandardsportlet_javax.portlet.action=showStandardDetailsAction\n",
      "https://wiedza.pkn.pl/wyszukiwarka-norm?p_auth=Ay3AQHN8&p_p_id=searchstandards_WAR_p4scustomerpknzwnelsearchstandardsportlet&p_p_lifecycle=1&p_p_state=normal&p_p_mode=view&p_p_col_id=column-1&p_p_col_count=1&_searchstandards_WAR_p4scustomerpknzwnelsearchstandardsportlet_standardNumber=PN-EN+12305%3A2000P&_searchstandards_WAR_p4scustomerpknzwnelsearchstandardsportlet_javax.portlet.action=showStandardDetailsAction\n",
      "https://wiedza.pkn.pl/wyszukiwarka-norm?p_auth=Ay3AQHN8&p_p_id=searchstandards_WAR_p4scustomerpknzwnelsearchstandardsportlet&p_p_lifecycle=1&p_p_state=normal&p_p_mode=view&p_p_col_id=column-1&p_p_col_count=1&_searchstandards_WAR_p4scustomerpknzwnelsearchstandardsportlet_standardNumber=PN-EN+12305%3A2000P&_searchstandards_WAR_p4scustomerpknzwnelsearchstandardsportlet_javax.portlet.action=showStandardDetailsAction\n",
      "https://wiedza.pkn.pl/wyszukiwarka-norm?p_auth=Ay3AQHN8&p_p_id=searchstandards_WAR_p4scustomerpknzwnelsearchstandardsportlet&p_p_lifecycle=1&p_p_state=normal&p_p_mode=view&p_p_col_id=column-1&p_p_col_count=1&_searchstandards_WAR_p4scustomerpknzwnelsearchstandardsportlet_standardNumber=PN-EN+12306%3A2000P&_searchstandards_WAR_p4scustomerpknzwnelsearchstandardsportlet_javax.portlet.action=showStandardDetailsAction\n",
      "https://wiedza.pkn.pl/wyszukiwarka-norm?p_auth=Ay3AQHN8&p_p_id=searchstandards_WAR_p4scustomerpknzwnelsearchstandardsportlet&p_p_lifecycle=1&p_p_state=normal&p_p_mode=view&p_p_col_id=column-1&p_p_col_count=1&_searchstandards_WAR_p4scustomerpknzwnelsearchstandardsportlet_standardNumber=PN-EN+12306%3A2000P&_searchstandards_WAR_p4scustomerpknzwnelsearchstandardsportlet_javax.portlet.action=showStandardDetailsAction\n",
      "https://wiedza.pkn.pl/wyszukiwarka-norm?p_auth=Ay3AQHN8&p_p_id=searchstandards_WAR_p4scustomerpknzwnelsearchstandardsportlet&p_p_lifecycle=1&p_p_state=normal&p_p_mode=view&p_p_col_id=column-1&p_p_col_count=1&_searchstandards_WAR_p4scustomerpknzwnelsearchstandardsportlet_standardNumber=PN-EN+12306%3A2000P&_searchstandards_WAR_p4scustomerpknzwnelsearchstandardsportlet_javax.portlet.action=showStandardDetailsAction\n",
      "https://wiedza.pkn.pl/wyszukiwarka-norm?p_auth=Ay3AQHN8&p_p_id=searchstandards_WAR_p4scustomerpknzwnelsearchstandardsportlet&p_p_lifecycle=1&p_p_state=normal&p_p_mode=view&p_p_col_id=column-1&p_p_col_count=1&_searchstandards_WAR_p4scustomerpknzwnelsearchstandardsportlet_standardNumber=PN-EN+12307%3A2002P&_searchstandards_WAR_p4scustomerpknzwnelsearchstandardsportlet_javax.portlet.action=showStandardDetailsAction\n",
      "https://wiedza.pkn.pl/wyszukiwarka-norm?p_auth=Ay3AQHN8&p_p_id=searchstandards_WAR_p4scustomerpknzwnelsearchstandardsportlet&p_p_lifecycle=1&p_p_state=normal&p_p_mode=view&p_p_col_id=column-1&p_p_col_count=1&_searchstandards_WAR_p4scustomerpknzwnelsearchstandardsportlet_standardNumber=PN-EN+12307%3A2002P&_searchstandards_WAR_p4scustomerpknzwnelsearchstandardsportlet_javax.portlet.action=showStandardDetailsAction\n",
      "https://wiedza.pkn.pl/wyszukiwarka-norm?p_auth=Ay3AQHN8&p_p_id=searchstandards_WAR_p4scustomerpknzwnelsearchstandardsportlet&p_p_lifecycle=1&p_p_state=normal&p_p_mode=view&p_p_col_id=column-1&p_p_col_count=1&_searchstandards_WAR_p4scustomerpknzwnelsearchstandardsportlet_standardNumber=PN-EN+12307%3A2002P&_searchstandards_WAR_p4scustomerpknzwnelsearchstandardsportlet_javax.portlet.action=showStandardDetailsAction\n",
      "https://wiedza.pkn.pl/wyszukiwarka-norm?p_auth=Ay3AQHN8&p_p_id=searchstandards_WAR_p4scustomerpknzwnelsearchstandardsportlet&p_p_lifecycle=1&p_p_state=normal&p_p_mode=view&p_p_col_id=column-1&p_p_col_count=1&_searchstandards_WAR_p4scustomerpknzwnelsearchstandardsportlet_standardNumber=PN-EN+12308%3A2007P&_searchstandards_WAR_p4scustomerpknzwnelsearchstandardsportlet_javax.portlet.action=showStandardDetailsAction\n",
      "https://wiedza.pkn.pl/wyszukiwarka-norm?p_auth=Ay3AQHN8&p_p_id=searchstandards_WAR_p4scustomerpknzwnelsearchstandardsportlet&p_p_lifecycle=1&p_p_state=normal&p_p_mode=view&p_p_col_id=column-1&p_p_col_count=1&_searchstandards_WAR_p4scustomerpknzwnelsearchstandardsportlet_standardNumber=PN-EN+12308%3A2007P&_searchstandards_WAR_p4scustomerpknzwnelsearchstandardsportlet_javax.portlet.action=showStandardDetailsAction\n",
      "https://wiedza.pkn.pl/wyszukiwarka-norm?p_auth=Ay3AQHN8&p_p_id=searchstandards_WAR_p4scustomerpknzwnelsearchstandardsportlet&p_p_lifecycle=1&p_p_state=normal&p_p_mode=view&p_p_col_id=column-1&p_p_col_count=1&_searchstandards_WAR_p4scustomerpknzwnelsearchstandardsportlet_standardNumber=PN-EN+12308%3A2007P&_searchstandards_WAR_p4scustomerpknzwnelsearchstandardsportlet_javax.portlet.action=showStandardDetailsAction\n",
      "https://wiedza.pkn.pl/wyszukiwarka-norm?p_auth=Ay3AQHN8&p_p_id=searchstandards_WAR_p4scustomerpknzwnelsearchstandardsportlet&p_p_lifecycle=1&p_p_state=normal&p_p_mode=view&p_p_col_id=column-1&p_p_col_count=1&_searchstandards_WAR_p4scustomerpknzwnelsearchstandardsportlet_standardNumber=PN-EN+12308%3A2002E&_searchstandards_WAR_p4scustomerpknzwnelsearchstandardsportlet_javax.portlet.action=showStandardDetailsAction\n",
      "https://wiedza.pkn.pl/wyszukiwarka-norm?p_auth=Ay3AQHN8&p_p_id=searchstandards_WAR_p4scustomerpknzwnelsearchstandardsportlet&p_p_lifecycle=1&p_p_state=normal&p_p_mode=view&p_p_col_id=column-1&p_p_col_count=1&_searchstandards_WAR_p4scustomerpknzwnelsearchstandardsportlet_standardNumber=PN-EN+12308%3A2002E&_searchstandards_WAR_p4scustomerpknzwnelsearchstandardsportlet_javax.portlet.action=showStandardDetailsAction\n",
      "https://wiedza.pkn.pl/wyszukiwarka-norm?p_auth=Ay3AQHN8&p_p_id=searchstandards_WAR_p4scustomerpknzwnelsearchstandardsportlet&p_p_lifecycle=1&p_p_state=normal&p_p_mode=view&p_p_col_id=column-1&p_p_col_count=1&_searchstandards_WAR_p4scustomerpknzwnelsearchstandardsportlet_standardNumber=PN-EN+12308%3A2002E&_searchstandards_WAR_p4scustomerpknzwnelsearchstandardsportlet_javax.portlet.action=showStandardDetailsAction\n",
      "https://wiedza.pkn.pl/wyszukiwarka-norm?p_auth=Ay3AQHN8&p_p_id=searchstandards_WAR_p4scustomerpknzwnelsearchstandardsportlet&p_p_lifecycle=1&p_p_state=normal&p_p_mode=view&p_p_col_id=column-1&p_p_col_count=1&_searchstandards_WAR_p4scustomerpknzwnelsearchstandardsportlet_standardNumber=PN-EN+12308%3A2002E&_searchstandards_WAR_p4scustomerpknzwnelsearchstandardsportlet_javax.portlet.action=showStandardDetailsAction\n",
      "https://wiedza.pkn.pl/wyszukiwarka-norm?p_auth=Ay3AQHN8&p_p_id=searchstandards_WAR_p4scustomerpknzwnelsearchstandardsportlet&p_p_lifecycle=1&p_p_state=normal&p_p_mode=view&p_p_col_id=column-1&p_p_col_count=1&_searchstandards_WAR_p4scustomerpknzwnelsearchstandardsportlet_standardNumber=PN-EN+12308%3A2007P&_searchstandards_WAR_p4scustomerpknzwnelsearchstandardsportlet_javax.portlet.action=showStandardDetailsAction\n"
     ]
    }
   ],
   "source": [
    "driver = webdriver.Firefox()\n",
    "driver.get(\"https://wiedza.pkn.pl/wyszukiwarka-norm\")\n",
    "elem = driver.find_element_by_id(\"_searchstandards_WAR_p4scustomerpknzwnelsearchstandardsportlet_standardNumber\")\n",
    "elem.send_keys(\"123\")\n",
    "elem.submit()\n",
    "time.sleep(3)\n",
    "\n",
    "res = driver.find_elements_by_class_name(\"p4s-search-results-link\")\n",
    "\n",
    "for r in res:\n",
    "    print(r.get_attribute(\"href\"))\n",
    "    \n",
    "driver.close()"
   ]
  },
  {
   "cell_type": "code",
   "execution_count": null,
   "metadata": {},
   "outputs": [],
   "source": []
  }
 ],
 "metadata": {
  "kernelspec": {
   "display_name": "rozne_zrodla_danych",
   "language": "python",
   "name": "rozne_zrodla_danych"
  },
  "language_info": {
   "codemirror_mode": {
    "name": "ipython",
    "version": 3
   },
   "file_extension": ".py",
   "mimetype": "text/x-python",
   "name": "python",
   "nbconvert_exporter": "python",
   "pygments_lexer": "ipython3",
   "version": "3.8.2"
  }
 },
 "nbformat": 4,
 "nbformat_minor": 4
}
